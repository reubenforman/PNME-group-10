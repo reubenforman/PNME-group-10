{
 "cells": [
  {
   "cell_type": "markdown",
   "metadata": {},
   "source": [
    "## Sequential Quadratic Programming\n",
    "1 a i"
   ]
  },
  {
   "cell_type": "code",
   "execution_count": 46,
   "metadata": {},
   "outputs": [
    {
     "data": {
      "text/plain": [
       "test_gradients (generic function with 1 method)"
      ]
     },
     "metadata": {},
     "output_type": "display_data"
    }
   ],
   "source": [
    "using FiniteDiff\n",
    "using Optim\n",
    "using ForwardDiff\n",
    "using ForwardDiff: gradient, hessian, jacobian\n",
    "using Random\n",
    "using LinearAlgebra\n",
    "using Plots\n",
    "using DataFrames\n",
    "using PrettyTables\n",
    "\n",
    "# Define the objective function f(x)\n",
    "function Rosenbrock(X, a, b)\n",
    "    sum = 0\n",
    "    for i in 1:length(X)-1\n",
    "        sum += (a*(1-X[i])^2 + b*(X[i+1]-X[i]^2)^2)\n",
    "    end\n",
    "    return sum\n",
    "end\n",
    "\n",
    "\n",
    "# Define the constraint set\n",
    "\n",
    "function constraint(X, r)\n",
    "    sum = 0\n",
    "    for i in 1:length(X)\n",
    "        sum += X[i]^2\n",
    "    end\n",
    "    return sum - r\n",
    "end\n",
    "\n",
    "# Define the Lagrangian function\n",
    "function lagrangian(domain, a, b, r, λ)\n",
    "    x = domain[1:end-1]\n",
    "    λ = domain[end]\n",
    "    sum = Rosenbrock(x, a, b)\n",
    "    cost = λ*constraint(x, r)\n",
    "    return sum + cost\n",
    "end\n",
    "\n",
    "# Define the gradient of the Lagrangian using ForwardDiff\n",
    "function gradient_lagrangian(domain, a, b, r)\n",
    "    x = domain[1:end-1]\n",
    "    λ = domain[end]\n",
    "    \n",
    "    ∇L_x = ForwardDiff.gradient(x -> lagrangian([x; λ], a, b, r, λ), x)\n",
    "    \n",
    "    return ∇L_x\n",
    "end\n",
    "\n",
    "# Function to compute gradient using finite differences\n",
    "function finite_diff_lagrangian(domain, a, b, r; ϵ=1e-15)\n",
    "    x = domain[1:end-1]\n",
    "    λ = domain[end]\n",
    "    \n",
    "    ∇L_x = FiniteDiff.finite_difference_gradient(x -> lagrangian([x; λ], a, b, r, λ), x)\n",
    "    \n",
    "    return ∇L_x\n",
    "end\n",
    "\n",
    "# Define the function to sample points uniformly on the unit square\n",
    "function sample_points_uniformly(n_points, n_dimensions)\n",
    "    points = rand(n_points, n_dimensions)\n",
    "    return points\n",
    "end\n",
    "\n",
    "function test_gradients(n, k, a, b, r)\n",
    "    points = sample_points_uniformly(k, n)  # Sample points uniformly\n",
    "    errors_fd = zeros(k)\n",
    "    errors_forward_diff = zeros(k)\n",
    "    summation =0\n",
    "    for i in 1:k\n",
    "        domain = points  \n",
    "\n",
    "        ∇L_x_fd = finite_diff_lagrangian(domain, a, b, r)\n",
    "        ∇L_x_forward_diff = gradient_lagrangian(domain, a, b, r)\n",
    "        \n",
    "        # Calculate RMSE for finite differences\n",
    "        errors_fd[i] = norm(∇L_x_fd .- ∇L_x_forward_diff).^2\n",
    "        summation += errors_fd[i]\n",
    "        # Calculate RMSE for ForwardDiff\n",
    "    end\n",
    "    mean_sum = summation / k\n",
    "    RMSE = sqrt.(mean_sum)\n",
    "    return RMSE\n",
    "end\n"
   ]
  },
  {
   "cell_type": "code",
   "execution_count": 47,
   "metadata": {},
   "outputs": [
    {
     "name": "stdout",
     "output_type": "stream",
     "text": [
      "Results for b = 1.0:\n",
      "RMSE using finite differences: 6.219296215002556e-8"
     ]
    },
    {
     "name": "stdout",
     "output_type": "stream",
     "text": [
      "\n",
      "Results for b = 100.0:\n",
      "RMSE using finite differences: 2.492012841777413e-6\n"
     ]
    },
    {
     "name": "stdout",
     "output_type": "stream",
     "text": [
      "Results for b = 1000.0:\n",
      "RMSE using finite differences: 1.5279486772530257e-5\n"
     ]
    },
    {
     "name": "stdout",
     "output_type": "stream",
     "text": [
      "Results for b = 100000.0:\n",
      "RMSE using finite differences: 0.00214606054183133\n"
     ]
    },
    {
     "name": "stdout",
     "output_type": "stream",
     "text": [
      "Results for b = 1.0e7:\n",
      "RMSE using finite differences: 0.14179814385062356"
     ]
    },
    {
     "name": "stdout",
     "output_type": "stream",
     "text": [
      "\n",
      "Results for b = 1.0e9:\n",
      "RMSE using finite differences: 15.79181164388655"
     ]
    },
    {
     "name": "stdout",
     "output_type": "stream",
     "text": [
      "\n",
      "Results for b = 1.0e11:\n",
      "RMSE using finite differences: 1600.0208849139558\n"
     ]
    }
   ],
   "source": [
    "using Statistics\n",
    "# Test the gradients\n",
    "n = 5\n",
    "k = 100\n",
    "a = 1\n",
    "b_values = [1, 100, 1000, 1e5, 1e7, 1e9, 1e11]  # Different values of b to test\n",
    "\n",
    "for b in b_values\n",
    "    errors_fd = test_gradients(n, k, a, b, n)\n",
    "    println(\"Results for b = $b:\")\n",
    "    println(\"RMSE using finite differences: $(errors_fd)\")\n",
    "end"
   ]
  },
  {
   "cell_type": "markdown",
   "metadata": {},
   "source": [
    "We can see from the output that RMSE grows as b increases, however the results are still closde as the RMSE is still quite small. We then test with larger values of b to see when finite differences stop working well. The reason why increasing the value of b increases RMSE is that a small pertubation with a larger b leads to larger differences in the Rosenbrock equation and hence the lagrangian. We can see from the results up to b=1e7 RMSE is less than 1, however after 1e9 we can see this is when finite differences stop working so well."
   ]
  },
  {
   "cell_type": "markdown",
   "metadata": {},
   "source": [
    "1 a ii"
   ]
  },
  {
   "cell_type": "code",
   "execution_count": 48,
   "metadata": {},
   "outputs": [
    {
     "data": {
      "text/plain": [
       "newton (generic function with 1 method)"
      ]
     },
     "metadata": {},
     "output_type": "display_data"
    }
   ],
   "source": [
    "# Implement Newton's very specifically for this lagrangian method\n",
    "function newton(x0, a, b, r, λ; tol = 1e-6, itermax = 100, trace=nothing)\n",
    "    x = copy(x0)\n",
    "    iter = 0\n",
    "    while iter < itermax\n",
    "        # Calculate the gradient and the Hessian of the Lagrangian\n",
    "        fx  = lagrangian([x; λ], a, b, r, λ)\n",
    "        Df  = ForwardDiff.gradient(x -> lagrangian([x; λ], a, b, r, λ), x)\n",
    "        if Df == zeros(length(x0))\n",
    "            return (;fx = lagrangian([x; λ], a, b, r, λ), x, iter)\n",
    "        end\n",
    "        D²f = ForwardDiff.hessian(x -> lagrangian([x; λ], a, b, r, λ), x)\n",
    "\n",
    "        # Search direction\n",
    "        sk = -D²f \\ Df\n",
    "\n",
    "        # Update x\n",
    "        x .= x + sk\n",
    "\n",
    "        # Check for the stop criterion\n",
    "        err = norm(Df)\n",
    "        if err < tol\n",
    "            break\n",
    "        end\n",
    "\n",
    "        iter += 1\n",
    "        if trace !== nothing\n",
    "            trace(x, iter, fx)\n",
    "        end\n",
    "    end\n",
    "    return (;fx = lagrangian([x; λ], a, b, r, λ), x, iter)\n",
    "end\n"
   ]
  },
  {
   "cell_type": "code",
   "execution_count": 49,
   "metadata": {},
   "outputs": [
    {
     "name": "stdout",
     "output_type": "stream",
     "text": [
      "(fx = 0.0, x = [1.0, 1.0], iter = 2)\n"
     ]
    }
   ],
   "source": [
    "a=1\n",
    "b=1\n",
    "r=2\n",
    "λ = 0\n",
    "x0 = zeros(2)\n",
    "println(newton(x0, a, b, r, λ ))\n",
    "# x0 only seems to work with floats, so just being aware of this is useful for future cases"
   ]
  },
  {
   "cell_type": "code",
   "execution_count": 50,
   "metadata": {},
   "outputs": [
    {
     "data": {
      "image/png": "[encoded data removed]",
      "image/svg+xml": [
       "<?xml version=\"1.0\" encoding=\"utf-8\"?>\n",
       "<svg xmlns=\"http://www.w3.org/2000/svg\" xmlns:xlink=\"http://www.w3.org/1999/xlink\" width=\"600\" height=\"400\" viewBox=\"0 0 2400 1600\">\n",
       "<defs>\n",
       "  <clipPath id=\"clip740\">\n",
       "    <rect x=\"0\" y=\"0\" width=\"2400\" height=\"1600\"/>\n",
       "  </clipPath>\n",
       "</defs>\n",
       "<path clip-path=\"url(#clip740)\" d=\"M0 1600 L2400 1600 L2400 0 L0 0  Z\" fill=\"#ffffff\" fill-rule=\"evenodd\" fill-opacity=\"1\"/>\n",
       "<defs>\n",
       "  <clipPath id=\"clip741\">\n",
       "    <rect x=\"480\" y=\"0\" width=\"1681\" height=\"1600\"/>\n",
       "  </clipPath>\n",
       "</defs>\n",
       "<path clip-path=\"url(#clip740)\" d=\"M149.191 1408.07 L2112.76 1408.07 L2112.76 125.619 L149.191 125.619  Z\" fill=\"#ffffff\" fill-rule=\"evenodd\" fill-opacity=\"1\"/>\n",
       "<defs>\n",
       "  <clipPath id=\"clip742\">\n",
       "    <rect x=\"149\" y=\"125\" width=\"1965\" height=\"1283\"/>\n",
       "  </clipPath>\n",
       "</defs>\n",
       "<polyline clip-path=\"url(#clip742)\" style=\"stroke:#000000; stroke-linecap:round; stroke-linejoin:round; stroke-width:2; stroke-opacity:0.1; fill:none\" points=\"405.056,1408.07 405.056,125.619 \"/>\n",
       "<polyline clip-path=\"url(#clip742)\" style=\"stroke:#000000; stroke-linecap:round; stroke-linejoin:round; stroke-width:2; stroke-opacity:0.1; fill:none\" points=\"768.015,1408.07 768.015,125.619 \"/>\n",
       "<polyline clip-path=\"url(#clip742)\" style=\"stroke:#000000; stroke-linecap:round; stroke-linejoin:round; stroke-width:2; stroke-opacity:0.1; fill:none\" points=\"1130.97,1408.07 1130.97,125.619 \"/>\n",
       "<polyline clip-path=\"url(#clip742)\" style=\"stroke:#000000; stroke-linecap:round; stroke-linejoin:round; stroke-width:2; stroke-opacity:0.1; fill:none\" points=\"1493.93,1408.07 1493.93,125.619 \"/>\n",
       "<polyline clip-path=\"url(#clip742)\" style=\"stroke:#000000; stroke-linecap:round; stroke-linejoin:round; stroke-width:2; stroke-opacity:0.1; fill:none\" points=\"1856.89,1408.07 1856.89,125.619 \"/>\n",
       "<polyline clip-path=\"url(#clip740)\" style=\"stroke:#000000; stroke-linecap:round; stroke-linejoin:round; stroke-width:4; stroke-opacity:1; fill:none\" points=\"149.191,1408.07 2112.76,1408.07 \"/>\n",
       "<polyline clip-path=\"url(#clip740)\" style=\"stroke:#000000; stroke-linecap:round; stroke-linejoin:round; stroke-width:4; stroke-opacity:1; fill:none\" points=\"405.056,1408.07 405.056,1391.23 \"/>\n",
       "<polyline clip-path=\"url(#clip740)\" style=\"stroke:#000000; stroke-linecap:round; stroke-linejoin:round; stroke-width:4; stroke-opacity:1; fill:none\" points=\"768.015,1408.07 768.015,1391.23 \"/>\n",
       "<polyline clip-path=\"url(#clip740)\" style=\"stroke:#000000; stroke-linecap:round; stroke-linejoin:round; stroke-width:4; stroke-opacity:1; fill:none\" points=\"1130.97,1408.07 1130.97,1391.23 \"/>\n",
       "<polyline clip-path=\"url(#clip740)\" style=\"stroke:#000000; stroke-linecap:round; stroke-linejoin:round; stroke-width:4; stroke-opacity:1; fill:none\" points=\"1493.93,1408.07 1493.93,1391.23 \"/>\n",
       "<polyline clip-path=\"url(#clip740)\" style=\"stroke:#000000; stroke-linecap:round; stroke-linejoin:round; stroke-width:4; stroke-opacity:1; fill:none\" points=\"1856.89,1408.07 1856.89,1391.23 \"/>\n",
       "<path clip-path=\"url(#clip740)\" d=\"M374.119 1453.64 L403.795 1453.64 L403.795 1457.58 L374.119 1457.58 L374.119 1453.64 Z\" fill=\"#000000\" fill-rule=\"nonzero\" fill-opacity=\"1\" /><path clip-path=\"url(#clip740)\" d=\"M424.466 1451.33 Q421.318 1451.33 419.466 1453.48 Q417.637 1455.63 417.637 1459.38 Q417.637 1463.11 419.466 1465.29 Q421.318 1467.44 424.466 1467.44 Q427.614 1467.44 429.443 1465.29 Q431.294 1463.11 431.294 1459.38 Q431.294 1455.63 429.443 1453.48 Q427.614 1451.33 424.466 1451.33 M433.748 1436.68 L433.748 1440.94 Q431.989 1440.1 430.183 1439.66 Q428.401 1439.22 426.642 1439.22 Q422.012 1439.22 419.558 1442.35 Q417.128 1445.47 416.781 1451.79 Q418.146 1449.78 420.207 1448.71 Q422.267 1447.63 424.744 1447.63 Q429.952 1447.63 432.961 1450.8 Q435.994 1453.95 435.994 1459.38 Q435.994 1464.71 432.845 1467.93 Q429.697 1471.14 424.466 1471.14 Q418.47 1471.14 415.299 1466.56 Q412.128 1461.95 412.128 1453.23 Q412.128 1445.03 416.017 1440.17 Q419.906 1435.29 426.457 1435.29 Q428.216 1435.29 429.998 1435.64 Q431.804 1435.98 433.748 1436.68 Z\" fill=\"#000000\" fill-rule=\"nonzero\" fill-opacity=\"1\" /><path clip-path=\"url(#clip740)\" d=\"M737.483 1453.64 L767.158 1453.64 L767.158 1457.58 L737.483 1457.58 L737.483 1453.64 Z\" fill=\"#000000\" fill-rule=\"nonzero\" fill-opacity=\"1\" /><path clip-path=\"url(#clip740)\" d=\"M791.417 1451.84 Q794.774 1452.56 796.649 1454.82 Q798.547 1457.09 798.547 1460.43 Q798.547 1465.54 795.029 1468.34 Q791.51 1471.14 785.029 1471.14 Q782.853 1471.14 780.538 1470.7 Q778.246 1470.29 775.793 1469.43 L775.793 1464.92 Q777.737 1466.05 780.052 1466.63 Q782.367 1467.21 784.89 1467.21 Q789.288 1467.21 791.579 1465.47 Q793.894 1463.74 793.894 1460.43 Q793.894 1457.37 791.742 1455.66 Q789.612 1453.92 785.792 1453.92 L781.765 1453.92 L781.765 1450.08 L785.978 1450.08 Q789.427 1450.08 791.255 1448.71 Q793.084 1447.32 793.084 1444.73 Q793.084 1442.07 791.186 1440.66 Q789.311 1439.22 785.792 1439.22 Q783.871 1439.22 781.672 1439.64 Q779.473 1440.06 776.834 1440.94 L776.834 1436.77 Q779.496 1436.03 781.811 1435.66 Q784.149 1435.29 786.209 1435.29 Q791.533 1435.29 794.635 1437.72 Q797.737 1440.13 797.737 1444.25 Q797.737 1447.12 796.093 1449.11 Q794.45 1451.07 791.417 1451.84 Z\" fill=\"#000000\" fill-rule=\"nonzero\" fill-opacity=\"1\" /><path clip-path=\"url(#clip740)\" d=\"M1130.97 1438.99 Q1127.36 1438.99 1125.53 1442.56 Q1123.73 1446.1 1123.73 1453.23 Q1123.73 1460.33 1125.53 1463.9 Q1127.36 1467.44 1130.97 1467.44 Q1134.61 1467.44 1136.41 1463.9 Q1138.24 1460.33 1138.24 1453.23 Q1138.24 1446.1 1136.41 1442.56 Q1134.61 1438.99 1130.97 1438.99 M1130.97 1435.29 Q1136.78 1435.29 1139.84 1439.89 Q1142.92 1444.48 1142.92 1453.23 Q1142.92 1461.95 1139.84 1466.56 Q1136.78 1471.14 1130.97 1471.14 Q1125.16 1471.14 1122.08 1466.56 Q1119.03 1461.95 1119.03 1453.23 Q1119.03 1444.48 1122.08 1439.89 Q1125.16 1435.29 1130.97 1435.29 Z\" fill=\"#000000\" fill-rule=\"nonzero\" fill-opacity=\"1\" /><path clip-path=\"url(#clip740)\" d=\"M1498.18 1451.84 Q1501.54 1452.56 1503.41 1454.82 Q1505.31 1457.09 1505.31 1460.43 Q1505.31 1465.54 1501.79 1468.34 Q1498.27 1471.14 1491.79 1471.14 Q1489.61 1471.14 1487.3 1470.7 Q1485.01 1470.29 1482.55 1469.43 L1482.55 1464.92 Q1484.5 1466.05 1486.81 1466.63 Q1489.13 1467.21 1491.65 1467.21 Q1496.05 1467.21 1498.34 1465.47 Q1500.66 1463.74 1500.66 1460.43 Q1500.66 1457.37 1498.5 1455.66 Q1496.37 1453.92 1492.55 1453.92 L1488.53 1453.92 L1488.53 1450.08 L1492.74 1450.08 Q1496.19 1450.08 1498.02 1448.71 Q1499.85 1447.32 1499.85 1444.73 Q1499.85 1442.07 1497.95 1440.66 Q1496.07 1439.22 1492.55 1439.22 Q1490.63 1439.22 1488.43 1439.64 Q1486.24 1440.06 1483.6 1440.94 L1483.6 1436.77 Q1486.26 1436.03 1488.57 1435.66 Q1490.91 1435.29 1492.97 1435.29 Q1498.3 1435.29 1501.4 1437.72 Q1504.5 1440.13 1504.5 1444.25 Q1504.5 1447.12 1502.86 1449.11 Q1501.21 1451.07 1498.18 1451.84 Z\" fill=\"#000000\" fill-rule=\"nonzero\" fill-opacity=\"1\" /><path clip-path=\"url(#clip740)\" d=\"M1857.3 1451.33 Q1854.15 1451.33 1852.3 1453.48 Q1850.47 1455.63 1850.47 1459.38 Q1850.47 1463.11 1852.3 1465.29 Q1854.15 1467.44 1857.3 1467.44 Q1860.44 1467.44 1862.27 1465.29 Q1864.12 1463.11 1864.12 1459.38 Q1864.12 1455.63 1862.27 1453.48 Q1860.44 1451.33 1857.3 1451.33 M1866.58 1436.68 L1866.58 1440.94 Q1864.82 1440.1 1863.01 1439.66 Q1861.23 1439.22 1859.47 1439.22 Q1854.84 1439.22 1852.39 1442.35 Q1849.96 1445.47 1849.61 1451.79 Q1850.98 1449.78 1853.04 1448.71 Q1855.1 1447.63 1857.57 1447.63 Q1862.78 1447.63 1865.79 1450.8 Q1868.82 1453.95 1868.82 1459.38 Q1868.82 1464.71 1865.68 1467.93 Q1862.53 1471.14 1857.3 1471.14 Q1851.3 1471.14 1848.13 1466.56 Q1844.96 1461.95 1844.96 1453.23 Q1844.96 1445.03 1848.85 1440.17 Q1852.74 1435.29 1859.29 1435.29 Q1861.05 1435.29 1862.83 1435.64 Q1864.63 1435.98 1866.58 1436.68 Z\" fill=\"#000000\" fill-rule=\"nonzero\" fill-opacity=\"1\" /><polyline clip-path=\"url(#clip742)\" style=\"stroke:#000000; stroke-linecap:round; stroke-linejoin:round; stroke-width:2; stroke-opacity:0.1; fill:none\" points=\"149.191,1250.79 2112.76,1250.79 \"/>\n",
       "<polyline clip-path=\"url(#clip742)\" style=\"stroke:#000000; stroke-linecap:round; stroke-linejoin:round; stroke-width:2; stroke-opacity:0.1; fill:none\" points=\"149.191,1008.82 2112.76,1008.82 \"/>\n",
       "<polyline clip-path=\"url(#clip742)\" style=\"stroke:#000000; stroke-linecap:round; stroke-linejoin:round; stroke-width:2; stroke-opacity:0.1; fill:none\" points=\"149.191,766.846 2112.76,766.846 \"/>\n",
       "<polyline clip-path=\"url(#clip742)\" style=\"stroke:#000000; stroke-linecap:round; stroke-linejoin:round; stroke-width:2; stroke-opacity:0.1; fill:none\" points=\"149.191,524.874 2112.76,524.874 \"/>\n",
       "<polyline clip-path=\"url(#clip742)\" style=\"stroke:#000000; stroke-linecap:round; stroke-linejoin:round; stroke-width:2; stroke-opacity:0.1; fill:none\" points=\"149.191,282.901 2112.76,282.901 \"/>\n",
       "<polyline clip-path=\"url(#clip740)\" style=\"stroke:#000000; stroke-linecap:round; stroke-linejoin:round; stroke-width:4; stroke-opacity:1; fill:none\" points=\"149.191,1408.07 149.191,125.619 \"/>\n",
       "<polyline clip-path=\"url(#clip740)\" style=\"stroke:#000000; stroke-linecap:round; stroke-linejoin:round; stroke-width:4; stroke-opacity:1; fill:none\" points=\"149.191,1250.79 166.03,1250.79 \"/>\n",
       "<polyline clip-path=\"url(#clip740)\" style=\"stroke:#000000; stroke-linecap:round; stroke-linejoin:round; stroke-width:4; stroke-opacity:1; fill:none\" points=\"149.191,1008.82 166.03,1008.82 \"/>\n",
       "<polyline clip-path=\"url(#clip740)\" style=\"stroke:#000000; stroke-linecap:round; stroke-linejoin:round; stroke-width:4; stroke-opacity:1; fill:none\" points=\"149.191,766.846 166.03,766.846 \"/>\n",
       "<polyline clip-path=\"url(#clip740)\" style=\"stroke:#000000; stroke-linecap:round; stroke-linejoin:round; stroke-width:4; stroke-opacity:1; fill:none\" points=\"149.191,524.874 166.03,524.874 \"/>\n",
       "<polyline clip-path=\"url(#clip740)\" style=\"stroke:#000000; stroke-linecap:round; stroke-linejoin:round; stroke-width:4; stroke-opacity:1; fill:none\" points=\"149.191,282.901 166.03,282.901 \"/>\n",
       "<path clip-path=\"url(#clip740)\" d=\"M50.9921 1251.24 L80.6679 1251.24 L80.6679 1255.18 L50.9921 1255.18 L50.9921 1251.24 Z\" fill=\"#000000\" fill-rule=\"nonzero\" fill-opacity=\"1\" /><path clip-path=\"url(#clip740)\" d=\"M103.608 1237.58 L91.8021 1256.03 L103.608 1256.03 L103.608 1237.58 M102.381 1233.51 L108.26 1233.51 L108.26 1256.03 L113.191 1256.03 L113.191 1259.92 L108.26 1259.92 L108.26 1268.07 L103.608 1268.07 L103.608 1259.92 L88.0058 1259.92 L88.0058 1255.41 L102.381 1233.51 Z\" fill=\"#000000\" fill-rule=\"nonzero\" fill-opacity=\"1\" /><path clip-path=\"url(#clip740)\" d=\"M53.0754 1009.27 L82.7512 1009.27 L82.7512 1013.2 L53.0754 1013.2 L53.0754 1009.27 Z\" fill=\"#000000\" fill-rule=\"nonzero\" fill-opacity=\"1\" /><path clip-path=\"url(#clip740)\" d=\"M96.8715 1022.16 L113.191 1022.16 L113.191 1026.1 L91.2465 1026.1 L91.2465 1022.16 Q93.9086 1019.41 98.4919 1014.78 Q103.098 1010.13 104.279 1008.78 Q106.524 1006.26 107.404 1004.52 Q108.307 1002.77 108.307 1001.08 Q108.307 998.321 106.362 996.585 Q104.441 994.849 101.339 994.849 Q99.14 994.849 96.6863 995.612 Q94.2558 996.376 91.478 997.927 L91.478 993.205 Q94.3021 992.071 96.7558 991.492 Q99.2095 990.913 101.246 990.913 Q106.617 990.913 109.811 993.599 Q113.006 996.284 113.006 1000.77 Q113.006 1002.9 112.196 1004.83 Q111.408 1006.72 109.302 1009.32 Q108.723 1009.99 105.621 1013.2 Q102.52 1016.4 96.8715 1022.16 Z\" fill=\"#000000\" fill-rule=\"nonzero\" fill-opacity=\"1\" /><path clip-path=\"url(#clip740)\" d=\"M101.246 752.645 Q97.6354 752.645 95.8067 756.209 Q94.0012 759.751 94.0012 766.881 Q94.0012 773.987 95.8067 777.552 Q97.6354 781.094 101.246 781.094 Q104.881 781.094 106.686 777.552 Q108.515 773.987 108.515 766.881 Q108.515 759.751 106.686 756.209 Q104.881 752.645 101.246 752.645 M101.246 748.941 Q107.057 748.941 110.112 753.547 Q113.191 758.131 113.191 766.881 Q113.191 775.608 110.112 780.214 Q107.057 784.797 101.246 784.797 Q95.4363 784.797 92.3576 780.214 Q89.3021 775.608 89.3021 766.881 Q89.3021 758.131 92.3576 753.547 Q95.4363 748.941 101.246 748.941 Z\" fill=\"#000000\" fill-rule=\"nonzero\" fill-opacity=\"1\" /><path clip-path=\"url(#clip740)\" d=\"M96.8715 538.218 L113.191 538.218 L113.191 542.154 L91.2465 542.154 L91.2465 538.218 Q93.9086 535.464 98.4919 530.834 Q103.098 526.181 104.279 524.839 Q106.524 522.316 107.404 520.58 Q108.307 518.82 108.307 517.131 Q108.307 514.376 106.362 512.64 Q104.441 510.904 101.339 510.904 Q99.14 510.904 96.6863 511.668 Q94.2558 512.432 91.478 513.982 L91.478 509.26 Q94.3021 508.126 96.7558 507.547 Q99.2095 506.969 101.246 506.969 Q106.617 506.969 109.811 509.654 Q113.006 512.339 113.006 516.83 Q113.006 518.959 112.196 520.881 Q111.408 522.779 109.302 525.371 Q108.723 526.043 105.621 529.26 Q102.52 532.455 96.8715 538.218 Z\" fill=\"#000000\" fill-rule=\"nonzero\" fill-opacity=\"1\" /><path clip-path=\"url(#clip740)\" d=\"M103.608 269.695 L91.8021 288.144 L103.608 288.144 L103.608 269.695 M102.381 265.621 L108.26 265.621 L108.26 288.144 L113.191 288.144 L113.191 292.033 L108.26 292.033 L108.26 300.181 L103.608 300.181 L103.608 292.033 L88.0058 292.033 L88.0058 287.519 L102.381 265.621 Z\" fill=\"#000000\" fill-rule=\"nonzero\" fill-opacity=\"1\" /><path clip-path=\"url(#clip742)\" d=\"M1372.95 766.846 L1372.46 751.499 L1371 736.214 L1368.57 721.052 L1365.19 706.075 L1360.86 691.343 L1355.61 676.914 L1349.46 662.847 L1342.42 649.2 L1334.53 636.026 L1325.83 623.379 L1316.34 611.309 L1306.1 599.866 L1295.15 589.095 L1283.55 579.04 L1271.33 569.741 L1258.55 561.236 L1245.25 553.559 L1231.49 546.74 L1217.33 540.808 L1202.82 535.786 L1188.02 531.694 L1172.99 528.55 L1157.79 526.365 L1142.49 525.148 L1127.13 524.904 L1111.8 525.635 L1096.54 527.337 L1081.42 530.003 L1066.49 533.623 L1051.83 538.182 L1037.49 543.662 L1023.52 550.04 L1009.99 557.292 L996.94 565.387 L984.433 574.294 L972.515 583.975 L961.236 594.394 L950.64 605.506 L940.77 617.269 L931.666 629.633 L923.365 642.55 L915.9 655.968 L909.3 669.832 L903.594 684.087 L898.803 698.674 L894.946 713.537 L892.04 728.614 L890.097 743.845 L889.123 759.169 L889.123 774.523 L890.097 789.847 L892.04 805.078 L894.946 820.155 L898.803 835.017 L903.594 849.605 L909.3 863.86 L915.9 877.724 L923.365 891.142 L931.666 904.059 L940.77 916.423 L950.64 928.186 L961.236 939.298 L972.515 949.717 L984.433 959.398 L996.94 968.305 L1009.99 976.4 L1023.52 983.652 L1037.49 990.03 L1051.83 995.51 L1066.49 1000.07 L1081.42 1003.69 L1096.54 1006.36 L1111.8 1008.06 L1127.13 1008.79 L1142.49 1008.54 L1157.79 1007.33 L1172.99 1005.14 L1188.02 1002 L1202.82 997.906 L1217.33 992.884 L1231.49 986.952 L1245.25 980.133 L1258.55 972.456 L1271.33 963.951 L1283.55 954.652 L1295.15 944.597 L1306.1 933.826 L1316.34 922.383 L1325.83 910.313 L1334.53 897.666 L1342.42 884.492 L1349.46 870.844 L1355.61 856.778 L1360.86 842.349 L1365.19 827.617 L1368.57 812.64 L1371 797.478 L1372.46 782.193 L1372.95 766.846 L1372.95 766.846 L1372.46 766.846 L1371 766.846 L1368.57 766.846 L1365.19 766.846 L1360.86 766.846 L1355.61 766.846 L1349.46 766.846 L1342.42 766.846 L1334.53 766.846 L1325.83 766.846 L1316.34 766.846 L1306.1 766.846 L1295.15 766.846 L1283.55 766.846 L1271.33 766.846 L1258.55 766.846 L1245.25 766.846 L1231.49 766.846 L1217.33 766.846 L1202.82 766.846 L1188.02 766.846 L1172.99 766.846 L1157.79 766.846 L1142.49 766.846 L1127.13 766.846 L1111.8 766.846 L1096.54 766.846 L1081.42 766.846 L1066.49 766.846 L1051.83 766.846 L1037.49 766.846 L1023.52 766.846 L1009.99 766.846 L996.94 766.846 L984.433 766.846 L972.515 766.846 L961.236 766.846 L950.64 766.846 L940.77 766.846 L931.666 766.846 L923.365 766.846 L915.9 766.846 L909.3 766.846 L903.594 766.846 L898.803 766.846 L894.946 766.846 L892.04 766.846 L890.097 766.846 L889.123 766.846 L889.123 766.846 L890.097 766.846 L892.04 766.846 L894.946 766.846 L898.803 766.846 L903.594 766.846 L909.3 766.846 L915.9 766.846 L923.365 766.846 L931.666 766.846 L940.77 766.846 L950.64 766.846 L961.236 766.846 L972.515 766.846 L984.433 766.846 L996.94 766.846 L1009.99 766.846 L1023.52 766.846 L1037.49 766.846 L1051.83 766.846 L1066.49 766.846 L1081.42 766.846 L1096.54 766.846 L1111.8 766.846 L1127.13 766.846 L1142.49 766.846 L1157.79 766.846 L1172.99 766.846 L1188.02 766.846 L1202.82 766.846 L1217.33 766.846 L1231.49 766.846 L1245.25 766.846 L1258.55 766.846 L1271.33 766.846 L1283.55 766.846 L1295.15 766.846 L1306.1 766.846 L1316.34 766.846 L1325.83 766.846 L1334.53 766.846 L1342.42 766.846 L1349.46 766.846 L1355.61 766.846 L1360.86 766.846 L1365.19 766.846 L1368.57 766.846 L1371 766.846 L1372.46 766.846 L1372.95 766.846  Z\" fill=\"#009af9\" fill-rule=\"evenodd\" fill-opacity=\"1\"/>\n",
       "<polyline clip-path=\"url(#clip742)\" style=\"stroke:#000000; stroke-linecap:round; stroke-linejoin:round; stroke-width:8; stroke-opacity:1; fill:none\" points=\"1372.95,766.846 1372.46,751.499 1371,736.214 1368.57,721.052 1365.19,706.075 1360.86,691.343 1355.61,676.914 1349.46,662.847 1342.42,649.2 1334.53,636.026 1325.83,623.379 1316.34,611.309 1306.1,599.866 1295.15,589.095 1283.55,579.04 1271.33,569.741 1258.55,561.236 1245.25,553.559 1231.49,546.74 1217.33,540.808 1202.82,535.786 1188.02,531.694 1172.99,528.55 1157.79,526.365 1142.49,525.148 1127.13,524.904 1111.8,525.635 1096.54,527.337 1081.42,530.003 1066.49,533.623 1051.83,538.182 1037.49,543.662 1023.52,550.04 1009.99,557.292 996.94,565.387 984.433,574.294 972.515,583.975 961.236,594.394 950.64,605.506 940.77,617.269 931.666,629.633 923.365,642.55 915.9,655.968 909.3,669.832 903.594,684.087 898.803,698.674 894.946,713.537 892.04,728.614 890.097,743.845 889.123,759.169 889.123,774.523 890.097,789.847 892.04,805.078 894.946,820.155 898.803,835.017 903.594,849.605 909.3,863.86 915.9,877.724 923.365,891.142 931.666,904.059 940.77,916.423 950.64,928.186 961.236,939.298 972.515,949.717 984.433,959.398 996.94,968.305 1009.99,976.4 1023.52,983.652 1037.49,990.03 1051.83,995.51 1066.49,1000.07 1081.42,1003.69 1096.54,1006.36 1111.8,1008.06 1127.13,1008.79 1142.49,1008.54 1157.79,1007.33 1172.99,1005.14 1188.02,1002 1202.82,997.906 1217.33,992.884 1231.49,986.952 1245.25,980.133 1258.55,972.456 1271.33,963.951 1283.55,954.652 1295.15,944.597 1306.1,933.826 1316.34,922.383 1325.83,910.313 1334.53,897.666 1342.42,884.492 1349.46,870.844 1355.61,856.778 1360.86,842.349 1365.19,827.617 1368.57,812.64 1371,797.478 1372.46,782.193 1372.95,766.846 \"/>\n",
       "<polyline clip-path=\"url(#clip742)\" style=\"stroke:#000004; stroke-linecap:round; stroke-linejoin:round; stroke-width:4; stroke-opacity:1; fill:none\" points=\"1447.31,161.915 1446.32,167.995 1445.35,174.074 1444.4,180.154 1444.08,182.177 1443.36,186.234 1442.31,192.314 1441.27,198.393 1440.26,204.473 1439.26,210.553 1438.28,216.632 1438,218.38 1437.22,222.712 1436.14,228.792 1435.08,234.871 1434.04,240.951 1433.02,247.031 1432.02,253.111 1431.92,253.714 1430.91,259.19 1429.81,265.27 1428.73,271.35 1427.67,277.429 1426.63,283.509 1425.84,288.172 1425.57,289.589 1424.43,295.669 1423.31,301.748 1422.21,307.828 1421.13,313.908 1420.07,319.987 1419.76,321.789 1418.93,326.067 1417.77,332.147 1416.64,338.227 1415.52,344.306 1414.43,350.386 1413.68,354.574 1413.31,356.466 1412.11,362.545 1410.94,368.625 1409.79,374.705 1408.66,380.784 1407.6,386.548 1407.54,386.864 1406.3,392.944 1405.1,399.024 1403.91,405.103 1402.75,411.183 1401.6,417.263 1401.52,417.696 1400.35,423.342 1399.11,429.422 1397.89,435.502 1396.69,441.582 1395.51,447.661 1395.44,448.04 1394.23,453.741 1392.95,459.821 1391.7,465.9 1390.48,471.98 1389.36,477.585 1389.26,478.06 1387.93,484.14 1386.63,490.219 1385.35,496.299 1384.09,502.379 1383.28,506.33 1382.8,508.458 1381.45,514.538 1380.12,520.618 1378.81,526.697 1377.52,532.777 1377.2,534.305 1376.15,538.857 1374.77,544.937 1373.41,551.016 1372.08,557.096 1371.12,561.497 1370.72,563.176 1369.29,569.255 1367.88,575.335 1366.5,581.415 1365.14,587.495 1365.04,587.926 1363.66,593.574 1362.21,599.654 1360.77,605.734 1359.37,611.813 1358.96,613.567 1357.88,617.893 1356.37,623.973 1354.89,630.053 1353.43,636.132 1352.88,638.451 1351.91,642.212 1350.35,648.292 1348.83,654.371 1347.33,660.451 1346.8,662.576 1345.75,666.531 1344.14,672.611 1342.57,678.69 1341.02,684.77 1340.72,685.948 1339.37,690.85 1337.72,696.929 1336.1,703.009 1334.64,708.565 1334.49,709.089 1332.77,715.168 1331.07,721.248 1329.4,727.328 1328.56,730.414 1327.68,733.408 1325.91,739.487 1324.17,745.567 1322.48,751.54 1322.45,751.647 1320.6,757.726 1318.78,763.806 1316.99,769.886 1316.4,771.891 1315.12,775.966 1313.22,782.045 1311.35,788.125 1310.32,791.508 1309.44,794.205 1307.46,800.284 1305.52,806.364 1304.25,810.385 1303.54,812.444 1301.48,818.524 1299.45,824.603 1298.17,828.518 1297.4,830.683 1295.25,836.763 1293.14,842.842 1292.09,845.909 1290.97,848.922 1288.73,855.002 1286.54,861.081 1286.01,862.567 1284.22,867.161 1281.9,873.241 1279.93,878.486 1279.59,879.321 1277.12,885.4 1274.71,891.48 1273.85,893.657 1272.18,897.56 1269.62,903.639 1267.77,908.1 1267.04,909.719 1264.32,915.799 1261.69,921.817 1261.66,921.879 1258.78,927.958 1255.95,934.038 1255.61,934.779 1252.93,940.118 1249.93,946.197 1249.53,947.012 1246.72,952.277 1243.53,958.357 1243.45,958.515 1240.07,964.437 1237.37,969.267 1236.61,970.516 1232.91,976.596 1231.29,979.287 1229.06,982.676 1225.21,988.589 1225.09,988.755 1220.75,994.835 1219.13,997.127 1216.17,1000.91 1213.05,1004.94 1211.28,1006.99 1206.97,1012.02 1205.95,1013.07 1200.89,1018.36 1200.02,1019.15 1194.81,1023.94 1193.19,1025.23 1188.73,1028.79 1185,1031.31 1182.65,1032.9 1176.57,1036.26 1173.93,1037.39 1170.49,1038.86 1164.41,1040.72 1158.33,1041.82 1152.25,1042.17 1146.17,1041.75 1140.09,1040.57 1134.01,1038.63 1131.21,1037.39 1127.93,1035.91 1121.85,1032.42 1120.27,1031.31 1115.77,1028.13 1112.28,1025.23 1109.69,1023.06 1105.62,1019.15 1103.61,1017.2 1099.84,1013.07 1097.53,1010.53 1094.65,1006.99 1091.46,1003.05 1089.88,1000.91 1085.43,994.835 1085.38,994.764 1081.38,988.755 1079.3,985.613 1077.5,982.676 1073.79,976.596 1073.22,975.646 1070.34,970.516 1067.14,964.819 1066.94,964.437 1063.78,958.357 1061.06,953.108 1060.65,952.277 1057.72,946.197 1054.98,940.518 1054.8,940.118 1052.07,934.038 1049.32,927.958 1048.9,927.006 1046.74,921.879 1044.18,915.799 1042.82,912.556 1041.7,909.719 1039.3,903.639 1036.89,897.56 1036.74,897.17 1034.64,891.48 1032.38,885.4 1030.66,880.761 1030.15,879.321 1028.04,873.241 1025.92,867.161 1024.58,863.323 1023.84,861.081 1021.85,855.002 1019.85,848.922 1018.5,844.805 1017.89,842.842 1016.02,836.763 1014.14,830.683 1012.42,825.155 1012.26,824.603 1010.5,818.524 1008.73,812.444 1006.95,806.364 1006.34,804.25 1005.26,800.284 1003.6,794.205 1001.93,788.125 1000.26,782.061 1000.26,782.045 998.706,775.966 997.149,769.886 995.584,763.806 994.18,758.372 994.024,757.726 992.575,751.647 991.119,745.567 989.657,739.487 988.187,733.408 988.1,733.042 986.833,727.328 985.482,721.248 984.127,715.168 982.766,709.089 982.021,705.731 981.457,703.009 980.215,696.929 978.972,690.85 977.726,684.77 976.479,678.69 975.941,676.031 975.299,672.611 974.174,666.531 973.051,660.451 971.93,654.371 970.812,648.292 969.861,643.084 969.714,642.212 968.722,636.132 967.739,630.053 966.764,623.973 965.8,617.893 964.846,611.813 963.904,605.734 963.781,604.903 963.072,599.654 962.273,593.574 961.495,587.495 960.74,581.415 960.011,575.335 959.312,569.255 958.645,563.176 958.017,557.096 957.702,553.752 957.47,551.016 957.014,544.937 956.613,538.857 956.274,532.777 956.007,526.697 955.824,520.618 955.739,514.538 955.769,508.458 955.938,502.379 956.273,496.299 956.812,490.219 957.602,484.14 957.702,483.55 959.052,478.06 961.18,471.98 963.781,466.7 964.513,465.9 969.861,461.531 975.941,460.312 982.021,461.182 988.1,463.237 993.999,465.9 994.18,465.978 1000.26,469.213 1005.12,471.98 1006.34,472.644 1012.42,476.208 1015.54,478.06 1018.5,479.761 1024.58,483.232 1026.2,484.14 1030.66,486.584 1036.74,489.724 1037.75,490.219 1042.82,492.667 1048.9,495.327 1051.36,496.299 1054.98,497.711 1061.06,499.786 1067.14,501.513 1070.94,502.379 1073.22,502.897 1079.3,503.928 1085.38,504.575 1091.46,504.829 1097.53,504.681 1103.61,504.12 1109.69,503.137 1112.93,502.379 1115.77,501.733 1121.85,499.908 1127.93,497.628 1130.87,496.299 1134.01,494.909 1140.09,491.741 1142.62,490.219 1146.17,488.121 1152.08,484.14 1152.25,484.027 1158.33,479.495 1160.06,478.06 1164.41,474.492 1167.19,471.98 1170.49,469.018 1173.67,465.9 1176.57,463.072 1179.64,459.821 1182.65,456.653 1185.22,453.741 1188.73,449.757 1190.46,447.661 1194.81,442.379 1195.43,441.582 1200.14,435.502 1200.89,434.529 1204.63,429.422 1206.97,426.206 1208.95,423.342 1213.05,417.378 1213.13,417.263 1217.12,411.183 1219.13,408.097 1221,405.103 1224.77,399.024 1225.21,398.308 1228.41,392.944 1231.29,388.047 1231.96,386.864 1235.41,380.784 1237.37,377.303 1238.79,374.705 1242.07,368.625 1243.45,366.067 1245.29,362.545 1248.44,356.466 1249.53,354.344 1251.52,350.386 1254.54,344.306 1255.61,342.136 1257.5,338.227 1260.41,332.147 1261.69,329.443 1263.26,326.067 1266.07,319.987 1267.77,316.262 1268.83,313.908 1271.55,307.828 1273.85,302.589 1274.21,301.748 1276.86,295.669 1279.44,289.589 1279.93,288.439 1282.01,283.509 1284.53,277.429 1286.01,273.809 1287.01,271.35 1289.48,265.27 1291.88,259.19 1292.09,258.679 1294.3,253.111 1296.66,247.031 1298.17,243.086 1298.99,240.951 1301.31,234.871 1303.58,228.792 1304.25,227.001 1305.85,222.712 1308.09,216.632 1310.28,210.553 1310.32,210.424 1312.49,204.473 1314.66,198.393 1316.4,193.389 1316.79,192.314 1318.94,186.234 1321.03,180.154 1322.48,175.873 1323.11,174.074 1325.2,167.995 1327.23,161.915 \"/>\n",
       "<polyline clip-path=\"url(#clip742)\" style=\"stroke:#000004; stroke-linecap:round; stroke-linejoin:round; stroke-width:4; stroke-opacity:1; fill:none\" points=\"1345.97,161.915 1344.06,167.995 1342.08,174.074 1340.72,178.124 1340.08,180.154 1338.12,186.234 1336.1,192.314 1334.64,196.594 1334.06,198.393 1332.06,204.473 1329.99,210.553 1328.56,214.639 1327.9,216.632 1325.84,222.712 1323.72,228.792 1322.48,232.253 1321.58,234.871 1319.47,240.951 1317.28,247.031 1316.4,249.429 1315.1,253.111 1312.91,259.19 1310.66,265.27 1310.32,266.155 1308.44,271.35 1306.17,277.429 1304.25,282.448 1303.85,283.509 1301.56,289.589 1299.2,295.669 1298.17,298.301 1296.83,301.748 1294.45,307.828 1292.09,313.68 1292,313.908 1289.57,319.987 1287.08,326.067 1286.01,328.64 1284.56,332.147 1282.02,338.227 1279.93,343.123 1279.42,344.306 1276.82,350.386 1274.15,356.466 1273.85,357.154 1271.47,362.545 1268.73,368.625 1267.77,370.742 1265.96,374.705 1263.14,380.784 1261.69,383.865 1260.27,386.864 1257.35,392.944 1255.61,396.528 1254.38,399.024 1251.36,405.103 1249.53,408.733 1248.27,411.183 1245.13,417.263 1243.45,420.481 1241.92,423.342 1238.64,429.422 1237.37,431.769 1235.29,435.502 1231.86,441.582 1231.29,442.593 1228.34,447.661 1225.21,452.966 1224.74,453.741 1221.03,459.821 1219.13,462.896 1217.21,465.9 1213.29,471.98 1213.05,472.347 1209.21,478.06 1206.97,481.376 1205.01,484.14 1200.89,489.924 1200.67,490.219 1196.12,496.299 1194.81,498.053 1191.38,502.379 1188.73,505.728 1186.43,508.458 1182.65,512.954 1181.23,514.538 1176.57,519.742 1175.73,520.618 1170.49,526.1 1169.87,526.697 1164.41,532.034 1163.58,532.777 1158.33,537.549 1156.75,538.857 1152.25,542.648 1149.25,544.937 1146.17,547.334 1140.91,551.016 1140.09,551.605 1134.01,555.506 1131.22,557.096 1127.93,559.019 1121.85,562.154 1119.58,563.176 1115.77,564.945 1109.69,567.391 1104.29,569.255 1103.61,569.497 1097.53,571.337 1091.46,572.885 1085.38,574.177 1079.3,575.252 1078.72,575.335 1073.22,576.188 1067.14,577.01 1061.06,577.788 1054.98,578.613 1048.9,579.604 1042.82,580.926 1041.15,581.415 1036.74,582.887 1030.66,585.849 1028.29,587.495 1024.58,590.583 1022,593.574 1018.5,598.709 1018.01,599.654 1015.46,605.734 1013.54,611.813 1012.42,616.548 1012.16,617.893 1011.28,623.973 1010.67,630.053 1010.29,636.132 1010.11,642.212 1010.09,648.292 1010.21,654.371 1010.46,660.451 1010.82,666.531 1011.27,672.611 1011.8,678.69 1012.41,684.77 1012.42,684.884 1013.15,690.85 1013.96,696.929 1014.83,703.009 1015.74,709.089 1016.71,715.168 1017.71,721.248 1018.5,725.844 1018.77,727.328 1019.95,733.408 1021.16,739.487 1022.39,745.567 1023.65,751.647 1024.58,755.993 1024.97,757.726 1026.4,763.806 1027.84,769.886 1029.31,775.966 1030.66,781.514 1030.8,782.045 1032.42,788.125 1034.06,794.205 1035.71,800.284 1036.74,803.997 1037.43,806.364 1039.25,812.444 1041.07,818.524 1042.82,824.302 1042.91,824.603 1044.91,830.683 1046.91,836.763 1048.9,842.756 1048.93,842.842 1051.11,848.922 1053.3,855.002 1054.98,859.615 1055.54,861.081 1057.93,867.161 1060.32,873.241 1061.06,875.099 1062.85,879.321 1065.45,885.4 1067.14,889.312 1068.13,891.48 1070.97,897.56 1073.22,902.354 1073.86,903.639 1076.96,909.719 1079.3,914.275 1080.13,915.799 1083.53,921.879 1085.38,925.135 1087.1,927.958 1090.85,934.038 1091.46,935.002 1094.94,940.118 1097.53,943.87 1099.29,946.197 1103.61,951.819 1104,952.277 1109.28,958.357 1109.69,958.829 1115.26,964.437 1115.77,964.94 1121.85,970.171 1122.32,970.516 1127.93,974.519 1131.48,976.596 1134.01,978.034 1140.09,980.701 1146.17,982.558 1146.86,982.676 1152.25,983.568 1158.33,983.772 1164.41,983.177 1166.6,982.676 1170.49,981.773 1176.57,979.57 1182.65,976.606 1182.67,976.596 1188.73,972.82 1191.81,970.516 1194.81,968.272 1199.19,964.437 1200.89,962.949 1205.46,958.357 1206.97,956.848 1211,952.277 1213.05,949.971 1216.04,946.197 1219.13,942.329 1220.72,940.118 1225.13,934.038 1225.21,933.934 1229.14,927.958 1231.29,924.739 1233.02,921.879 1236.75,915.799 1237.37,914.804 1240.23,909.719 1243.45,904.101 1243.69,903.639 1246.88,897.56 1249.53,892.623 1250.09,891.48 1253.09,885.4 1255.61,880.388 1256.1,879.321 1258.92,873.241 1261.69,867.397 1261.79,867.161 1264.44,861.081 1267.15,855.002 1267.77,853.622 1269.7,848.922 1272.25,842.842 1273.85,839.089 1274.76,836.763 1277.15,830.683 1279.6,824.603 1279.93,823.804 1281.89,818.524 1284.19,812.444 1286.01,807.738 1286.49,806.364 1288.66,800.284 1290.87,794.205 1292.09,790.902 1293.03,788.125 1295.1,782.045 1297.23,775.966 1298.17,773.302 1299.27,769.886 1301.26,763.806 1303.3,757.726 1304.25,754.93 1305.26,751.647 1307.17,745.567 1309.12,739.487 1310.32,735.782 1311.03,733.408 1312.86,727.328 1314.72,721.248 1316.4,715.867 1316.6,715.168 1318.35,709.089 1320.13,703.009 1321.95,696.929 1322.48,695.151 1323.67,690.85 1325.37,684.77 1327.1,678.69 1328.56,673.663 1328.84,672.611 1330.46,666.531 1332.11,660.451 1333.8,654.371 1334.64,651.371 1335.43,648.292 1337,642.212 1338.61,636.132 1340.25,630.053 1340.72,628.296 1341.79,623.973 1343.31,617.893 1344.87,611.813 1346.46,605.734 1346.8,604.42 1347.94,599.654 1349.41,593.574 1350.92,587.495 1352.45,581.415 1352.88,579.73 1353.9,575.335 1355.32,569.255 1356.77,563.176 1358.25,557.096 1358.96,554.225 1359.68,551.016 1361.05,544.937 1362.45,538.857 1363.88,532.777 1365.04,527.908 1365.3,526.697 1366.62,520.618 1367.97,514.538 1369.34,508.458 1370.74,502.379 1371.12,500.749 1372.05,496.299 1373.34,490.219 1374.66,484.14 1376,478.06 1377.2,472.757 1377.36,471.98 1378.59,465.9 1379.85,459.821 1381.14,453.741 1382.45,447.661 1383.28,443.892 1383.74,441.582 1384.94,435.502 1386.16,429.422 1387.42,423.342 1388.7,417.263 1389.36,414.167 1389.93,411.183 1391.1,405.103 1392.29,399.024 1393.51,392.944 1394.75,386.864 1395.44,383.559 1395.95,380.784 1397.08,374.705 1398.24,368.625 1399.42,362.545 1400.63,356.466 1401.52,352.051 1401.82,350.386 1402.91,344.306 1404.03,338.227 1405.17,332.147 1406.33,326.067 1407.53,319.987 1407.6,319.627 1408.59,313.908 1409.66,307.828 1410.76,301.748 1411.88,295.669 1413.03,289.589 1413.68,286.217 1414.14,283.509 1415.17,277.429 1416.22,271.35 1417.29,265.27 1418.4,259.19 1419.53,253.111 1419.76,251.853 1420.55,247.031 1421.55,240.951 1422.58,234.871 1423.63,228.792 1424.7,222.712 1425.81,216.632 1425.84,216.475 1426.77,210.553 1427.75,204.473 1428.75,198.393 1429.77,192.314 1430.82,186.234 1431.89,180.154 1431.92,180.017 1432.82,174.074 1433.77,167.995 1434.74,161.915 \"/>\n",
       "<polyline clip-path=\"url(#clip742)\" style=\"stroke:#000003; stroke-linecap:round; stroke-linejoin:round; stroke-width:4; stroke-opacity:1; fill:none\" points=\"1413.7,161.915 1413.68,162.114 1412.77,167.995 1411.87,174.074 1410.99,180.154 1410.15,186.234 1409.32,192.314 1408.51,198.393 1407.72,204.473 1407.6,205.397 1406.73,210.553 1405.74,216.632 1404.79,222.712 1403.86,228.792 1402.97,234.871 1402.09,240.951 1401.52,244.911 1401.14,247.031 1400.07,253.111 1399.04,259.19 1398.04,265.27 1397.07,271.35 1396.13,277.429 1395.44,281.913 1395.14,283.509 1394.01,289.589 1392.93,295.669 1391.87,301.748 1390.85,307.828 1389.85,313.908 1389.36,316.929 1388.77,319.987 1387.6,326.067 1386.47,332.147 1385.38,338.227 1384.31,344.306 1383.28,350.356 1383.28,350.386 1382.04,356.466 1380.84,362.545 1379.69,368.625 1378.56,374.705 1377.47,380.784 1377.2,382.274 1376.23,386.864 1374.98,392.944 1373.77,399.024 1372.59,405.103 1371.45,411.183 1371.12,412.922 1370.17,417.263 1368.87,423.342 1367.61,429.422 1366.39,435.502 1365.2,441.582 1365.04,442.387 1363.85,447.661 1362.51,453.741 1361.21,459.821 1359.94,465.9 1358.96,470.708 1358.66,471.98 1357.25,478.06 1355.87,484.14 1354.54,490.219 1353.24,496.299 1352.88,497.966 1351.81,502.379 1350.36,508.458 1348.96,514.538 1347.6,520.618 1346.8,524.2 1346.17,526.697 1344.66,532.777 1343.19,538.857 1341.77,544.937 1340.72,549.46 1340.32,551.016 1338.74,557.096 1337.21,563.176 1335.72,569.255 1334.64,573.756 1334.22,575.335 1332.58,581.415 1330.99,587.495 1329.45,593.574 1328.56,597.112 1327.85,599.654 1326.16,605.734 1324.52,611.813 1322.92,617.893 1322.48,619.567 1321.19,623.973 1319.45,630.053 1317.76,636.132 1316.4,641.125 1316.07,642.212 1314.23,648.292 1312.44,654.371 1310.71,660.451 1310.32,661.791 1308.82,666.531 1306.94,672.611 1305.11,678.69 1304.25,681.581 1303.19,684.77 1301.21,690.85 1299.28,696.929 1298.17,700.518 1297.3,703.009 1295.22,709.089 1293.21,715.168 1292.09,718.601 1291.13,721.248 1288.95,727.328 1286.84,733.408 1286.01,735.838 1284.62,739.487 1282.35,745.567 1280.15,751.647 1279.93,752.251 1277.73,757.726 1275.37,763.806 1273.85,767.797 1272.96,769.886 1270.43,775.966 1267.97,782.045 1267.77,782.54 1265.27,788.125 1262.64,794.205 1261.69,796.421 1259.85,800.284 1257.03,806.364 1255.61,809.489 1254.11,812.444 1251.09,818.524 1249.53,821.731 1247.97,824.603 1244.74,830.683 1243.45,833.147 1241.34,836.763 1237.88,842.842 1237.37,843.746 1234.1,848.922 1231.29,853.497 1230.25,855.002 1226.11,861.081 1225.21,862.424 1221.62,867.161 1219.13,870.506 1216.82,873.241 1213.05,877.762 1211.56,879.321 1206.97,884.171 1205.61,885.4 1200.89,889.72 1198.6,891.48 1194.81,894.409 1189.82,897.56 1188.73,898.25 1182.65,901.178 1176.57,903.25 1174.5,903.639 1170.49,904.385 1164.41,904.593 1158.33,903.865 1157.5,903.639 1152.25,902.125 1146.17,899.386 1143.16,897.56 1140.09,895.592 1134.94,891.48 1134.01,890.705 1128.68,885.4 1127.93,884.62 1123.51,879.321 1121.85,877.242 1119.01,873.241 1115.77,868.486 1114.96,867.161 1111.37,861.081 1109.69,858.112 1108.08,855.002 1105.06,848.922 1103.61,845.864 1102.28,842.842 1099.73,836.763 1097.53,831.26 1097.32,830.683 1095.17,824.603 1093.14,818.524 1091.46,813.181 1091.24,812.444 1089.56,806.364 1088,800.284 1086.56,794.205 1085.38,788.674 1085.26,788.125 1084.17,782.045 1083.21,775.966 1082.41,769.886 1081.75,763.806 1081.28,757.726 1080.98,751.647 1080.89,745.567 1081.03,739.487 1081.4,733.408 1082.04,727.328 1082.96,721.248 1084.21,715.168 1085.38,710.701 1085.83,709.089 1087.9,703.009 1090.4,696.929 1091.46,694.734 1093.43,690.85 1097,684.77 1097.53,683.956 1101.14,678.69 1103.61,675.454 1105.82,672.611 1109.69,668.083 1111.02,666.531 1115.77,661.38 1116.61,660.451 1121.85,655.054 1122.5,654.371 1127.93,648.916 1128.53,648.292 1134.01,642.832 1134.6,642.212 1140.09,636.706 1140.63,636.132 1146.17,630.467 1146.55,630.053 1152.25,624.059 1152.33,623.973 1157.92,617.893 1158.33,617.458 1163.33,611.813 1164.41,610.618 1168.57,605.734 1170.49,603.506 1173.63,599.654 1176.57,596.093 1178.54,593.574 1182.65,588.353 1183.29,587.495 1187.88,581.415 1188.73,580.302 1192.33,575.335 1194.81,571.917 1196.66,569.255 1200.87,563.176 1200.89,563.142 1204.95,557.096 1206.97,554.058 1208.93,551.016 1212.81,544.937 1213.05,544.555 1216.59,538.857 1219.13,534.715 1220.29,532.777 1223.9,526.697 1225.21,524.476 1227.44,520.618 1230.89,514.538 1231.29,513.834 1234.29,508.458 1237.37,502.813 1237.6,502.379 1240.88,496.299 1243.45,491.413 1244.07,490.219 1247.23,484.14 1249.53,479.612 1250.32,478.06 1253.37,471.98 1255.61,467.413 1256.35,465.9 1259.32,459.821 1261.69,454.815 1262.2,453.741 1265.09,447.661 1267.77,441.815 1267.88,441.582 1270.7,435.502 1273.41,429.422 1273.85,428.446 1276.16,423.342 1278.82,417.263 1279.93,414.689 1281.48,411.183 1284.1,405.103 1286.01,400.528 1286.66,399.024 1289.25,392.944 1291.73,386.864 1292.09,385.985 1294.28,380.784 1296.74,374.705 1298.17,371.086 1299.18,368.625 1301.64,362.545 1303.99,356.466 1304.25,355.789 1306.43,350.386 1308.77,344.306 1310.32,340.16 1311.09,338.227 1313.46,332.147 1315.71,326.067 1316.4,324.168 1318.03,319.987 1320.31,313.908 1322.48,307.828 1322.48,307.811 1324.8,301.748 1327,295.669 1328.56,291.177 1329.17,289.589 1331.42,283.509 1333.55,277.429 1334.64,274.219 1335.72,271.35 1337.91,265.27 1339.98,259.19 1340.72,256.964 1342.14,253.111 1344.29,247.031 1346.31,240.951 1346.8,239.439 1348.47,234.871 1350.58,228.792 1352.55,222.712 1352.88,221.679 1354.71,216.632 1356.79,210.553 1358.73,204.473 1358.96,203.72 1360.89,198.393 1362.94,192.314 1364.85,186.234 1365.04,185.608 1367.01,180.154 1369.05,174.074 1370.94,167.995 1371.12,167.4 1373.12,161.915 \"/>\n",
       "<polyline clip-path=\"url(#clip742)\" style=\"stroke:#000003; stroke-linecap:round; stroke-linejoin:round; stroke-width:4; stroke-opacity:1; fill:none\" points=\"1364.88,271.35 1361.58,277.429 1358.96,280.836 1357.86,283.509 1354.97,289.589 1352.88,293.169 1351.92,295.669 1349.33,301.748 1346.8,306.744 1346.4,307.828 1344.02,313.908 1341.24,319.987 1340.72,321.03 1338.83,326.067 1336.29,332.147 1334.64,335.711 1333.71,338.227 1331.31,344.306 1328.62,350.386 1328.56,350.506 1326.31,356.466 1323.77,362.545 1322.48,365.442 1321.27,368.625 1318.84,374.705 1316.4,380.263 1316.2,380.784 1313.83,386.864 1311.25,392.944 1310.32,395.035 1308.76,399.024 1306.24,405.103 1304.25,409.62 1303.62,411.183 1301.14,417.263 1298.46,423.342 1298.17,424.002 1295.95,429.422 1293.31,435.502 1292.09,438.201 1290.68,441.582 1288.04,447.661 1286.01,452.12 1285.32,453.741 1282.67,459.821 1279.93,465.756 1279.86,465.9 1277.2,471.98 1274.37,478.06 1273.85,479.159 1271.61,484.14 1268.75,490.219 1267.77,492.265 1265.91,496.299 1263.01,502.379 1261.69,505.066 1260.08,508.458 1257.12,514.538 1255.61,517.561 1254.12,520.618 1251.09,526.697 1249.53,529.751 1248.01,532.777 1244.9,538.857 1243.45,541.636 1241.75,544.937 1238.54,551.016 1237.37,553.215 1235.31,557.096 1232.01,563.176 1231.29,564.489 1228.69,569.255 1225.28,575.335 1225.21,575.458 1221.87,581.415 1219.13,586.192 1218.37,587.495 1214.85,593.574 1213.05,596.648 1211.26,599.654 1207.62,605.734 1206.97,606.824 1203.94,611.813 1200.89,616.788 1200.2,617.893 1196.42,623.973 1194.81,626.568 1192.59,630.053 1188.73,636.124 1188.73,636.132 1184.84,642.212 1182.65,645.652 1180.92,648.292 1177,654.371 1176.57,655.053 1173.08,660.451 1170.49,664.537 1169.19,666.531 1165.34,672.611 1164.41,674.141 1161.57,678.69 1158.33,684.058 1157.89,684.77 1154.35,690.85 1152.25,694.638 1150.96,696.929 1147.78,703.009 1146.17,706.305 1144.81,709.089 1142.1,715.168 1140.09,720.137 1139.65,721.248 1137.5,727.328 1135.65,733.408 1134.09,739.487 1134.01,739.859 1132.87,745.567 1131.96,751.647 1131.35,757.726 1131.05,763.806 1131.05,769.886 1131.36,775.966 1131.98,782.045 1132.9,788.125 1134.01,793.664 1134.13,794.205 1135.79,800.284 1137.81,806.364 1140.09,812.226 1140.19,812.444 1143.24,818.524 1146.17,823.603 1146.84,824.603 1151.47,830.683 1152.25,831.597 1157.73,836.763 1158.33,837.267 1164.41,841.063 1168.98,842.842 1170.49,843.368 1176.57,844.253 1182.65,843.912 1186.99,842.842 1188.73,842.411 1194.81,839.758 1199.79,836.763 1200.89,836.105 1206.97,831.403 1207.73,830.683 1213.05,825.701 1214.03,824.603 1219.13,819.046 1219.54,818.524 1224.37,812.444 1225.21,811.416 1228.74,806.364 1231.29,802.84 1232.89,800.284 1236.82,794.205 1237.37,793.367 1240.37,788.125 1243.45,782.951 1243.92,782.045 1247.13,775.966 1249.53,771.605 1250.36,769.886 1253.34,763.806 1255.61,759.355 1256.34,757.726 1259.1,751.647 1261.69,746.203 1261.95,745.567 1264.51,739.487 1267.19,733.408 1267.77,732.103 1269.64,727.328 1272.11,721.248 1273.85,717.083 1274.55,715.168 1276.82,709.089 1279.19,703.009 1279.93,701.138 1281.39,696.929 1283.56,690.85 1285.82,684.77 1286.01,684.271 1287.83,678.69 1289.9,672.611 1292.05,666.531 1292.09,666.435 1293.94,660.451 1295.89,654.371 1297.93,648.292 1298.17,647.601 1299.75,642.212 1301.59,636.132 1303.51,630.053 1304.25,627.758 1305.3,623.973 1307.03,617.893 1308.83,611.813 1310.32,606.923 1310.64,605.734 1312.26,599.654 1313.93,593.574 1315.68,587.495 1316.4,584.993 1317.3,581.415 1318.86,575.335 1320.47,569.255 1322.15,563.176 1322.48,561.976 1323.65,557.096 1325.13,551.016 1326.67,544.937 1328.27,538.857 1328.56,537.764 1329.69,532.777 1331.09,526.697 1332.55,520.618 1334.07,514.538 1334.64,512.258 1335.45,508.458 1336.77,502.379 1338.13,496.299 1339.56,490.219 1340.72,485.384 1340.98,484.14 1342.2,478.06 1343.46,471.98 1344.76,465.9 1346.13,459.821 1346.8,456.878 1347.39,453.741 1348.54,447.661 1349.73,441.582 1350.96,435.502 1352.25,429.422 1352.88,426.482 1353.43,423.342 1354.49,417.263 1355.58,411.183 1356.7,405.103 1357.88,399.024 1358.96,393.648 1359.08,392.944 1360.01,386.864 1360.97,380.784 1361.96,374.705 1362.98,368.625 1364.03,362.545 1365.04,356.978 1365.11,356.466 1365.9,350.386 1366.7,344.306 1367.49,338.227 1368.29,332.147 1369.1,326.067 1369.91,319.987 1370.74,313.908 1371.12,310.876 1371.38,307.828 1371.82,301.748 1372.18,295.669 1372.42,289.589 1372.48,283.509 1372.27,277.429 1371.56,271.35 1371.12,269.432 1365.04,271.01 1364.88,271.35 \"/>\n",
       "<polyline clip-path=\"url(#clip742)\" style=\"stroke:#000003; stroke-linecap:round; stroke-linejoin:round; stroke-width:4; stroke-opacity:1; fill:none\" points=\"1285.85,551.016 1280.35,557.096 1279.93,557.386 1276.69,563.176 1273.85,566.886 1272.67,569.255 1269.2,575.335 1267.77,577.46 1265.86,581.415 1262.43,587.495 1261.69,588.7 1259.39,593.574 1256.05,599.654 1255.61,600.423 1253.16,605.734 1249.93,611.813 1249.53,612.544 1247.11,617.893 1244.01,623.973 1243.45,625.056 1241.24,630.053 1238.31,636.132 1237.37,638.027 1235.57,642.212 1232.84,648.292 1231.29,651.618 1230.16,654.371 1227.68,660.451 1225.21,666.135 1225.06,666.531 1222.9,672.611 1220.71,678.69 1219.13,683.151 1218.62,684.77 1217.01,690.85 1215.58,696.929 1214.46,703.009 1213.88,709.089 1214.42,715.168 1217.9,721.248 1219.13,722.139 1222.83,721.248 1225.21,720.748 1231.29,715.81 1231.78,715.168 1236.92,709.089 1237.37,708.612 1240.89,703.009 1243.45,699.464 1244.78,696.929 1248.23,690.85 1249.53,688.747 1251.34,684.77 1254.39,678.69 1255.61,676.425 1257.14,672.611 1259.77,666.531 1261.69,662.512 1262.43,660.451 1264.66,654.371 1267.19,648.292 1267.77,646.929 1269.26,642.212 1271.31,636.132 1273.62,630.053 1273.85,629.455 1275.36,623.973 1277.14,617.893 1279.12,611.813 1279.93,609.4 1280.8,605.734 1282.23,599.654 1283.76,593.574 1285.44,587.495 1286.01,585.398 1286.71,581.415 1287.66,575.335 1288.51,569.255 1289.13,563.176 1289.15,557.096 1286.38,551.016 1286.01,550.774 1285.85,551.016 \"/>\n",
       "<circle clip-path=\"url(#clip742)\" cx=\"1251.96\" cy=\"645.86\" r=\"18\" fill=\"#ff0000\" fill-rule=\"evenodd\" fill-opacity=\"1\" stroke=\"#000000\" stroke-opacity=\"1\" stroke-width=\"3.2\"/>\n",
       "<circle clip-path=\"url(#clip742)\" cx=\"1251.96\" cy=\"645.86\" r=\"18\" fill=\"#ff0000\" fill-rule=\"evenodd\" fill-opacity=\"1\" stroke=\"#000000\" stroke-opacity=\"1\" stroke-width=\"3.2\"/>\n",
       "<defs>\n",
       "  <clipPath id=\"clip743\">\n",
       "    <rect x=\"2160\" y=\"125\" width=\"73\" height=\"1283\"/>\n",
       "  </clipPath>\n",
       "</defs>\n",
       "<polyline clip-path=\"url(#clip743)\" style=\"stroke:#000003; stroke-linecap:round; stroke-linejoin:round; stroke-width:4; stroke-opacity:1; fill:none\" points=\"2160.76,1407.94 2232.76,1407.94 \"/>\n",
       "<polyline clip-path=\"url(#clip743)\" style=\"stroke:#000003; stroke-linecap:round; stroke-linejoin:round; stroke-width:4; stroke-opacity:1; fill:none\" points=\"2160.76,1406.7 2232.76,1406.7 \"/>\n",
       "<polyline clip-path=\"url(#clip743)\" style=\"stroke:#000004; stroke-linecap:round; stroke-linejoin:round; stroke-width:4; stroke-opacity:1; fill:none\" points=\"2160.76,1405.33 2232.76,1405.33 \"/>\n",
       "<polyline clip-path=\"url(#clip743)\" style=\"stroke:#000004; stroke-linecap:round; stroke-linejoin:round; stroke-width:4; stroke-opacity:1; fill:none\" points=\"2160.76,1402.59 2232.76,1402.59 \"/>\n",
       "<polyline clip-path=\"url(#clip743)\" style=\"stroke:#000006; stroke-linecap:round; stroke-linejoin:round; stroke-width:4; stroke-opacity:1; fill:none\" points=\"2160.76,1399.85 2232.76,1399.85 \"/>\n",
       "<path clip-path=\"url(#clip740)\" d=\"M2269.43 1280.78 L2277.07 1280.78 L2277.07 1254.41 L2268.76 1256.08 L2268.76 1251.82 L2277.02 1250.15 L2281.7 1250.15 L2281.7 1280.78 L2289.33 1280.78 L2289.33 1284.71 L2269.43 1284.71 L2269.43 1280.78 Z\" fill=\"#000000\" fill-rule=\"nonzero\" fill-opacity=\"1\" /><path clip-path=\"url(#clip740)\" d=\"M2308.78 1253.23 Q2305.17 1253.23 2303.34 1256.79 Q2301.53 1260.34 2301.53 1267.47 Q2301.53 1274.57 2303.34 1278.14 Q2305.17 1281.68 2308.78 1281.68 Q2312.41 1281.68 2314.22 1278.14 Q2316.05 1274.57 2316.05 1267.47 Q2316.05 1260.34 2314.22 1256.79 Q2312.41 1253.23 2308.78 1253.23 M2308.78 1249.53 Q2314.59 1249.53 2317.64 1254.13 Q2320.72 1258.72 2320.72 1267.47 Q2320.72 1276.19 2317.64 1280.8 Q2314.59 1285.38 2308.78 1285.38 Q2302.97 1285.38 2299.89 1280.8 Q2296.83 1276.19 2296.83 1267.47 Q2296.83 1258.72 2299.89 1254.13 Q2302.97 1249.53 2308.78 1249.53 Z\" fill=\"#000000\" fill-rule=\"nonzero\" fill-opacity=\"1\" /><path clip-path=\"url(#clip740)\" d=\"M2338.94 1253.23 Q2335.33 1253.23 2333.5 1256.79 Q2331.7 1260.34 2331.7 1267.47 Q2331.7 1274.57 2333.5 1278.14 Q2335.33 1281.68 2338.94 1281.68 Q2342.57 1281.68 2344.38 1278.14 Q2346.21 1274.57 2346.21 1267.47 Q2346.21 1260.34 2344.38 1256.79 Q2342.57 1253.23 2338.94 1253.23 M2338.94 1249.53 Q2344.75 1249.53 2347.81 1254.13 Q2350.89 1258.72 2350.89 1267.47 Q2350.89 1276.19 2347.81 1280.8 Q2344.75 1285.38 2338.94 1285.38 Q2333.13 1285.38 2330.05 1280.8 Q2327 1276.19 2327 1267.47 Q2327 1258.72 2330.05 1254.13 Q2333.13 1249.53 2338.94 1249.53 Z\" fill=\"#000000\" fill-rule=\"nonzero\" fill-opacity=\"1\" /><path clip-path=\"url(#clip740)\" d=\"M2274.38 1143.76 L2290.7 1143.76 L2290.7 1147.7 L2268.76 1147.7 L2268.76 1143.76 Q2271.42 1141.01 2276 1136.38 Q2280.61 1131.72 2281.79 1130.38 Q2284.03 1127.86 2284.91 1126.12 Q2285.82 1124.36 2285.82 1122.67 Q2285.82 1119.92 2283.87 1118.18 Q2281.95 1116.45 2278.85 1116.45 Q2276.65 1116.45 2274.2 1117.21 Q2271.77 1117.97 2268.99 1119.53 L2268.99 1114.8 Q2271.81 1113.67 2274.27 1113.09 Q2276.72 1112.51 2278.76 1112.51 Q2284.13 1112.51 2287.32 1115.2 Q2290.52 1117.88 2290.52 1122.37 Q2290.52 1124.5 2289.7 1126.42 Q2288.92 1128.32 2286.81 1130.91 Q2286.23 1131.59 2283.13 1134.8 Q2280.03 1138 2274.38 1143.76 Z\" fill=\"#000000\" fill-rule=\"nonzero\" fill-opacity=\"1\" /><path clip-path=\"url(#clip740)\" d=\"M2310.51 1116.22 Q2306.9 1116.22 2305.08 1119.78 Q2303.27 1123.32 2303.27 1130.45 Q2303.27 1137.56 2305.08 1141.12 Q2306.9 1144.66 2310.51 1144.66 Q2314.15 1144.66 2315.95 1141.12 Q2317.78 1137.56 2317.78 1130.45 Q2317.78 1123.32 2315.95 1119.78 Q2314.15 1116.22 2310.51 1116.22 M2310.51 1112.51 Q2316.33 1112.51 2319.38 1117.12 Q2322.46 1121.7 2322.46 1130.45 Q2322.46 1139.18 2319.38 1143.78 Q2316.33 1148.37 2310.51 1148.37 Q2304.7 1148.37 2301.63 1143.78 Q2298.57 1139.18 2298.57 1130.45 Q2298.57 1121.7 2301.63 1117.12 Q2304.7 1112.51 2310.51 1112.51 Z\" fill=\"#000000\" fill-rule=\"nonzero\" fill-opacity=\"1\" /><path clip-path=\"url(#clip740)\" d=\"M2340.68 1116.22 Q2337.07 1116.22 2335.24 1119.78 Q2333.43 1123.32 2333.43 1130.45 Q2333.43 1137.56 2335.24 1141.12 Q2337.07 1144.66 2340.68 1144.66 Q2344.31 1144.66 2346.12 1141.12 Q2347.95 1137.56 2347.95 1130.45 Q2347.95 1123.32 2346.12 1119.78 Q2344.31 1116.22 2340.68 1116.22 M2340.68 1112.51 Q2346.49 1112.51 2349.54 1117.12 Q2352.62 1121.7 2352.62 1130.45 Q2352.62 1139.18 2349.54 1143.78 Q2346.49 1148.37 2340.68 1148.37 Q2334.87 1148.37 2331.79 1143.78 Q2328.73 1139.18 2328.73 1130.45 Q2328.73 1121.7 2331.79 1117.12 Q2334.87 1112.51 2340.68 1112.51 Z\" fill=\"#000000\" fill-rule=\"nonzero\" fill-opacity=\"1\" /><path clip-path=\"url(#clip740)\" d=\"M2284.38 992.048 Q2287.74 992.765 2289.61 995.034 Q2291.51 997.302 2291.51 1000.64 Q2291.51 1005.75 2287.99 1008.55 Q2284.47 1011.35 2277.99 1011.35 Q2275.82 1011.35 2273.5 1010.91 Q2271.21 1010.5 2268.76 1009.64 L2268.76 1005.13 Q2270.7 1006.26 2273.02 1006.84 Q2275.33 1007.42 2277.85 1007.42 Q2282.25 1007.42 2284.54 1005.68 Q2286.86 1003.95 2286.86 1000.64 Q2286.86 997.58 2284.7 995.867 Q2282.58 994.131 2278.76 994.131 L2274.73 994.131 L2274.73 990.289 L2278.94 990.289 Q2282.39 990.289 2284.22 988.923 Q2286.05 987.534 2286.05 984.941 Q2286.05 982.279 2284.15 980.867 Q2282.27 979.432 2278.76 979.432 Q2276.83 979.432 2274.64 979.849 Q2272.44 980.265 2269.8 981.145 L2269.8 976.978 Q2272.46 976.238 2274.77 975.867 Q2277.11 975.497 2279.17 975.497 Q2284.5 975.497 2287.6 977.927 Q2290.7 980.335 2290.7 984.455 Q2290.7 987.326 2289.06 989.316 Q2287.41 991.284 2284.38 992.048 Z\" fill=\"#000000\" fill-rule=\"nonzero\" fill-opacity=\"1\" /><path clip-path=\"url(#clip740)\" d=\"M2310.38 979.201 Q2306.76 979.201 2304.94 982.765 Q2303.13 986.307 2303.13 993.437 Q2303.13 1000.54 2304.94 1004.11 Q2306.76 1007.65 2310.38 1007.65 Q2314.01 1007.65 2315.82 1004.11 Q2317.64 1000.54 2317.64 993.437 Q2317.64 986.307 2315.82 982.765 Q2314.01 979.201 2310.38 979.201 M2310.38 975.497 Q2316.19 975.497 2319.24 980.103 Q2322.32 984.687 2322.32 993.437 Q2322.32 1002.16 2319.24 1006.77 Q2316.19 1011.35 2310.38 1011.35 Q2304.57 1011.35 2301.49 1006.77 Q2298.43 1002.16 2298.43 993.437 Q2298.43 984.687 2301.49 980.103 Q2304.57 975.497 2310.38 975.497 Z\" fill=\"#000000\" fill-rule=\"nonzero\" fill-opacity=\"1\" /><path clip-path=\"url(#clip740)\" d=\"M2340.54 979.201 Q2336.93 979.201 2335.1 982.765 Q2333.29 986.307 2333.29 993.437 Q2333.29 1000.54 2335.1 1004.11 Q2336.93 1007.65 2340.54 1007.65 Q2344.17 1007.65 2345.98 1004.11 Q2347.81 1000.54 2347.81 993.437 Q2347.81 986.307 2345.98 982.765 Q2344.17 979.201 2340.54 979.201 M2340.54 975.497 Q2346.35 975.497 2349.4 980.103 Q2352.48 984.687 2352.48 993.437 Q2352.48 1002.16 2349.4 1006.77 Q2346.35 1011.35 2340.54 1011.35 Q2334.73 1011.35 2331.65 1006.77 Q2328.59 1002.16 2328.59 993.437 Q2328.59 984.687 2331.65 980.103 Q2334.73 975.497 2340.54 975.497 Z\" fill=\"#000000\" fill-rule=\"nonzero\" fill-opacity=\"1\" /><path clip-path=\"url(#clip740)\" d=\"M2284.36 843.182 L2272.55 861.631 L2284.36 861.631 L2284.36 843.182 M2283.13 839.108 L2289.01 839.108 L2289.01 861.631 L2293.94 861.631 L2293.94 865.519 L2289.01 865.519 L2289.01 873.668 L2284.36 873.668 L2284.36 865.519 L2268.76 865.519 L2268.76 861.006 L2283.13 839.108 Z\" fill=\"#000000\" fill-rule=\"nonzero\" fill-opacity=\"1\" /><path clip-path=\"url(#clip740)\" d=\"M2311.67 842.186 Q2308.06 842.186 2306.23 845.751 Q2304.43 849.293 2304.43 856.422 Q2304.43 863.529 2306.23 867.093 Q2308.06 870.635 2311.67 870.635 Q2315.31 870.635 2317.11 867.093 Q2318.94 863.529 2318.94 856.422 Q2318.94 849.293 2317.11 845.751 Q2315.31 842.186 2311.67 842.186 M2311.67 838.483 Q2317.48 838.483 2320.54 843.089 Q2323.62 847.672 2323.62 856.422 Q2323.62 865.149 2320.54 869.756 Q2317.48 874.339 2311.67 874.339 Q2305.86 874.339 2302.78 869.756 Q2299.73 865.149 2299.73 856.422 Q2299.73 847.672 2302.78 843.089 Q2305.86 838.483 2311.67 838.483 Z\" fill=\"#000000\" fill-rule=\"nonzero\" fill-opacity=\"1\" /><path clip-path=\"url(#clip740)\" d=\"M2341.83 842.186 Q2338.22 842.186 2336.39 845.751 Q2334.59 849.293 2334.59 856.422 Q2334.59 863.529 2336.39 867.093 Q2338.22 870.635 2341.83 870.635 Q2345.47 870.635 2347.27 867.093 Q2349.1 863.529 2349.1 856.422 Q2349.1 849.293 2347.27 845.751 Q2345.47 842.186 2341.83 842.186 M2341.83 838.483 Q2347.64 838.483 2350.7 843.089 Q2353.78 847.672 2353.78 856.422 Q2353.78 865.149 2350.7 869.756 Q2347.64 874.339 2341.83 874.339 Q2336.02 874.339 2332.95 869.756 Q2329.89 865.149 2329.89 856.422 Q2329.89 847.672 2332.95 843.089 Q2336.02 838.483 2341.83 838.483 Z\" fill=\"#000000\" fill-rule=\"nonzero\" fill-opacity=\"1\" /><path clip-path=\"url(#clip740)\" d=\"M2270.21 702.093 L2288.57 702.093 L2288.57 706.028 L2274.5 706.028 L2274.5 714.5 Q2275.52 714.153 2276.53 713.991 Q2277.55 713.806 2278.57 713.806 Q2284.36 713.806 2287.74 716.977 Q2291.12 720.149 2291.12 725.565 Q2291.12 731.144 2287.64 734.246 Q2284.17 737.324 2277.85 737.324 Q2275.68 737.324 2273.41 736.954 Q2271.16 736.584 2268.76 735.843 L2268.76 731.144 Q2270.84 732.278 2273.06 732.834 Q2275.28 733.389 2277.76 733.389 Q2281.77 733.389 2284.1 731.283 Q2286.44 729.176 2286.44 725.565 Q2286.44 721.954 2284.1 719.848 Q2281.77 717.741 2277.76 717.741 Q2275.89 717.741 2274.01 718.158 Q2272.16 718.575 2270.21 719.454 L2270.21 702.093 Z\" fill=\"#000000\" fill-rule=\"nonzero\" fill-opacity=\"1\" /><path clip-path=\"url(#clip740)\" d=\"M2310.33 705.172 Q2306.72 705.172 2304.89 708.737 Q2303.08 712.278 2303.08 719.408 Q2303.08 726.514 2304.89 730.079 Q2306.72 733.621 2310.33 733.621 Q2313.96 733.621 2315.77 730.079 Q2317.6 726.514 2317.6 719.408 Q2317.6 712.278 2315.77 708.737 Q2313.96 705.172 2310.33 705.172 M2310.33 701.468 Q2316.14 701.468 2319.2 706.075 Q2322.27 710.658 2322.27 719.408 Q2322.27 728.135 2319.2 732.741 Q2316.14 737.324 2310.33 737.324 Q2304.52 737.324 2301.44 732.741 Q2298.39 728.135 2298.39 719.408 Q2298.39 710.658 2301.44 706.075 Q2304.52 701.468 2310.33 701.468 Z\" fill=\"#000000\" fill-rule=\"nonzero\" fill-opacity=\"1\" /><path clip-path=\"url(#clip740)\" d=\"M2340.49 705.172 Q2336.88 705.172 2335.05 708.737 Q2333.25 712.278 2333.25 719.408 Q2333.25 726.514 2335.05 730.079 Q2336.88 733.621 2340.49 733.621 Q2344.13 733.621 2345.93 730.079 Q2347.76 726.514 2347.76 719.408 Q2347.76 712.278 2345.93 708.737 Q2344.13 705.172 2340.49 705.172 M2340.49 701.468 Q2346.3 701.468 2349.36 706.075 Q2352.44 710.658 2352.44 719.408 Q2352.44 728.135 2349.36 732.741 Q2346.3 737.324 2340.49 737.324 Q2334.68 737.324 2331.6 732.741 Q2328.55 728.135 2328.55 719.408 Q2328.55 710.658 2331.6 706.075 Q2334.68 701.468 2340.49 701.468 Z\" fill=\"#000000\" fill-rule=\"nonzero\" fill-opacity=\"1\" /><path clip-path=\"url(#clip740)\" d=\"M2281.09 580.495 Q2277.95 580.495 2276.09 582.648 Q2274.27 584.801 2274.27 588.551 Q2274.27 592.278 2276.09 594.454 Q2277.95 596.606 2281.09 596.606 Q2284.24 596.606 2286.07 594.454 Q2287.92 592.278 2287.92 588.551 Q2287.92 584.801 2286.07 582.648 Q2284.24 580.495 2281.09 580.495 M2290.38 565.843 L2290.38 570.102 Q2288.62 569.269 2286.81 568.829 Q2285.03 568.389 2283.27 568.389 Q2278.64 568.389 2276.19 571.514 Q2273.76 574.639 2273.41 580.958 Q2274.77 578.944 2276.83 577.88 Q2278.89 576.792 2281.37 576.792 Q2286.58 576.792 2289.59 579.963 Q2292.62 583.111 2292.62 588.551 Q2292.62 593.875 2289.47 597.092 Q2286.33 600.31 2281.09 600.31 Q2275.1 600.31 2271.93 595.727 Q2268.76 591.12 2268.76 582.393 Q2268.76 574.199 2272.64 569.338 Q2276.53 564.454 2283.08 564.454 Q2284.84 564.454 2286.63 564.801 Q2288.43 565.148 2290.38 565.843 Z\" fill=\"#000000\" fill-rule=\"nonzero\" fill-opacity=\"1\" /><path clip-path=\"url(#clip740)\" d=\"M2310.68 568.157 Q2307.07 568.157 2305.24 571.722 Q2303.43 575.264 2303.43 582.393 Q2303.43 589.5 2305.24 593.065 Q2307.07 596.606 2310.68 596.606 Q2314.31 596.606 2316.12 593.065 Q2317.95 589.5 2317.95 582.393 Q2317.95 575.264 2316.12 571.722 Q2314.31 568.157 2310.68 568.157 M2310.68 564.454 Q2316.49 564.454 2319.54 569.06 Q2322.62 573.643 2322.62 582.393 Q2322.62 591.12 2319.54 595.727 Q2316.49 600.31 2310.68 600.31 Q2304.87 600.31 2301.79 595.727 Q2298.73 591.12 2298.73 582.393 Q2298.73 573.643 2301.79 569.06 Q2304.87 564.454 2310.68 564.454 Z\" fill=\"#000000\" fill-rule=\"nonzero\" fill-opacity=\"1\" /><path clip-path=\"url(#clip740)\" d=\"M2340.84 568.157 Q2337.23 568.157 2335.4 571.722 Q2333.59 575.264 2333.59 582.393 Q2333.59 589.5 2335.4 593.065 Q2337.23 596.606 2340.84 596.606 Q2344.47 596.606 2346.28 593.065 Q2348.11 589.5 2348.11 582.393 Q2348.11 575.264 2346.28 571.722 Q2344.47 568.157 2340.84 568.157 M2340.84 564.454 Q2346.65 564.454 2349.7 569.06 Q2352.78 573.643 2352.78 582.393 Q2352.78 591.12 2349.7 595.727 Q2346.65 600.31 2340.84 600.31 Q2335.03 600.31 2331.95 595.727 Q2328.89 591.12 2328.89 582.393 Q2328.89 573.643 2331.95 569.06 Q2335.03 564.454 2340.84 564.454 Z\" fill=\"#000000\" fill-rule=\"nonzero\" fill-opacity=\"1\" /><path clip-path=\"url(#clip740)\" d=\"M2268.76 428.064 L2290.98 428.064 L2290.98 430.055 L2278.43 462.624 L2273.55 462.624 L2285.35 431.999 L2268.76 431.999 L2268.76 428.064 Z\" fill=\"#000000\" fill-rule=\"nonzero\" fill-opacity=\"1\" /><path clip-path=\"url(#clip740)\" d=\"M2310.1 431.143 Q2306.49 431.143 2304.66 434.708 Q2302.85 438.249 2302.85 445.379 Q2302.85 452.485 2304.66 456.05 Q2306.49 459.592 2310.1 459.592 Q2313.73 459.592 2315.54 456.05 Q2317.37 452.485 2317.37 445.379 Q2317.37 438.249 2315.54 434.708 Q2313.73 431.143 2310.1 431.143 M2310.1 427.439 Q2315.91 427.439 2318.96 432.046 Q2322.04 436.629 2322.04 445.379 Q2322.04 454.106 2318.96 458.712 Q2315.91 463.296 2310.1 463.296 Q2304.29 463.296 2301.21 458.712 Q2298.15 454.106 2298.15 445.379 Q2298.15 436.629 2301.21 432.046 Q2304.29 427.439 2310.1 427.439 Z\" fill=\"#000000\" fill-rule=\"nonzero\" fill-opacity=\"1\" /><path clip-path=\"url(#clip740)\" d=\"M2340.26 431.143 Q2336.65 431.143 2334.82 434.708 Q2333.01 438.249 2333.01 445.379 Q2333.01 452.485 2334.82 456.05 Q2336.65 459.592 2340.26 459.592 Q2343.89 459.592 2345.7 456.05 Q2347.53 452.485 2347.53 445.379 Q2347.53 438.249 2345.7 434.708 Q2343.89 431.143 2340.26 431.143 M2340.26 427.439 Q2346.07 427.439 2349.13 432.046 Q2352.2 436.629 2352.2 445.379 Q2352.2 454.106 2349.13 458.712 Q2346.07 463.296 2340.26 463.296 Q2334.45 463.296 2331.37 458.712 Q2328.32 454.106 2328.32 445.379 Q2328.32 436.629 2331.37 432.046 Q2334.45 427.439 2340.26 427.439 Z\" fill=\"#000000\" fill-rule=\"nonzero\" fill-opacity=\"1\" /><path clip-path=\"url(#clip740)\" d=\"M2280.61 309.198 Q2277.27 309.198 2275.35 310.98 Q2273.45 312.763 2273.45 315.888 Q2273.45 319.013 2275.35 320.795 Q2277.27 322.578 2280.61 322.578 Q2283.94 322.578 2285.86 320.795 Q2287.78 318.99 2287.78 315.888 Q2287.78 312.763 2285.86 310.98 Q2283.96 309.198 2280.61 309.198 M2275.93 307.207 Q2272.92 306.466 2271.23 304.406 Q2269.57 302.346 2269.57 299.383 Q2269.57 295.24 2272.51 292.832 Q2275.47 290.425 2280.61 290.425 Q2285.77 290.425 2288.71 292.832 Q2291.65 295.24 2291.65 299.383 Q2291.65 302.346 2289.96 304.406 Q2288.29 306.466 2285.31 307.207 Q2288.69 307.994 2290.56 310.286 Q2292.46 312.578 2292.46 315.888 Q2292.46 320.911 2289.38 323.596 Q2286.33 326.281 2280.61 326.281 Q2274.89 326.281 2271.81 323.596 Q2268.76 320.911 2268.76 315.888 Q2268.76 312.578 2270.65 310.286 Q2272.55 307.994 2275.93 307.207 M2274.22 299.823 Q2274.22 302.508 2275.89 304.013 Q2277.58 305.517 2280.61 305.517 Q2283.62 305.517 2285.31 304.013 Q2287.02 302.508 2287.02 299.823 Q2287.02 297.138 2285.31 295.633 Q2283.62 294.129 2280.61 294.129 Q2277.58 294.129 2275.89 295.633 Q2274.22 297.138 2274.22 299.823 Z\" fill=\"#000000\" fill-rule=\"nonzero\" fill-opacity=\"1\" /><path clip-path=\"url(#clip740)\" d=\"M2310.77 294.129 Q2307.16 294.129 2305.33 297.693 Q2303.52 301.235 2303.52 308.365 Q2303.52 315.471 2305.33 319.036 Q2307.16 322.578 2310.77 322.578 Q2314.4 322.578 2316.21 319.036 Q2318.04 315.471 2318.04 308.365 Q2318.04 301.235 2316.21 297.693 Q2314.4 294.129 2310.77 294.129 M2310.77 290.425 Q2316.58 290.425 2319.64 295.031 Q2322.71 299.615 2322.71 308.365 Q2322.71 317.091 2319.64 321.698 Q2316.58 326.281 2310.77 326.281 Q2304.96 326.281 2301.88 321.698 Q2298.83 317.091 2298.83 308.365 Q2298.83 299.615 2301.88 295.031 Q2304.96 290.425 2310.77 290.425 Z\" fill=\"#000000\" fill-rule=\"nonzero\" fill-opacity=\"1\" /><path clip-path=\"url(#clip740)\" d=\"M2340.93 294.129 Q2337.32 294.129 2335.49 297.693 Q2333.69 301.235 2333.69 308.365 Q2333.69 315.471 2335.49 319.036 Q2337.32 322.578 2340.93 322.578 Q2344.57 322.578 2346.37 319.036 Q2348.2 315.471 2348.2 308.365 Q2348.2 301.235 2346.37 297.693 Q2344.57 294.129 2340.93 294.129 M2340.93 290.425 Q2346.74 290.425 2349.8 295.031 Q2352.88 299.615 2352.88 308.365 Q2352.88 317.091 2349.8 321.698 Q2346.74 326.281 2340.93 326.281 Q2335.12 326.281 2332.04 321.698 Q2328.99 317.091 2328.99 308.365 Q2328.99 299.615 2332.04 295.031 Q2335.12 290.425 2340.93 290.425 Z\" fill=\"#000000\" fill-rule=\"nonzero\" fill-opacity=\"1\" /><path clip-path=\"url(#clip740)\" d=\"M2270.98 187.878 L2270.98 183.619 Q2272.74 184.452 2274.54 184.892 Q2276.35 185.332 2278.08 185.332 Q2282.71 185.332 2285.14 182.23 Q2287.6 179.105 2287.95 172.762 Q2286.6 174.753 2284.54 175.818 Q2282.48 176.883 2279.98 176.883 Q2274.8 176.883 2271.77 173.758 Q2268.76 170.609 2268.76 165.17 Q2268.76 159.846 2271.9 156.628 Q2275.05 153.411 2280.28 153.411 Q2286.28 153.411 2289.43 158.017 Q2292.6 162.6 2292.6 171.35 Q2292.6 179.521 2288.71 184.406 Q2284.84 189.267 2278.29 189.267 Q2276.53 189.267 2274.73 188.92 Q2272.92 188.572 2270.98 187.878 M2280.28 173.225 Q2283.43 173.225 2285.26 171.072 Q2287.11 168.92 2287.11 165.17 Q2287.11 161.443 2285.26 159.29 Q2283.43 157.114 2280.28 157.114 Q2277.14 157.114 2275.28 159.29 Q2273.45 161.443 2273.45 165.17 Q2273.45 168.92 2275.28 171.072 Q2277.14 173.225 2280.28 173.225 Z\" fill=\"#000000\" fill-rule=\"nonzero\" fill-opacity=\"1\" /><path clip-path=\"url(#clip740)\" d=\"M2311 157.114 Q2307.39 157.114 2305.56 160.679 Q2303.76 164.221 2303.76 171.35 Q2303.76 178.457 2305.56 182.021 Q2307.39 185.563 2311 185.563 Q2314.64 185.563 2316.44 182.021 Q2318.27 178.457 2318.27 171.35 Q2318.27 164.221 2316.44 160.679 Q2314.64 157.114 2311 157.114 M2311 153.411 Q2316.81 153.411 2319.87 158.017 Q2322.95 162.6 2322.95 171.35 Q2322.95 180.077 2319.87 184.683 Q2316.81 189.267 2311 189.267 Q2305.19 189.267 2302.11 184.683 Q2299.06 180.077 2299.06 171.35 Q2299.06 162.6 2302.11 158.017 Q2305.19 153.411 2311 153.411 Z\" fill=\"#000000\" fill-rule=\"nonzero\" fill-opacity=\"1\" /><path clip-path=\"url(#clip740)\" d=\"M2341.16 157.114 Q2337.55 157.114 2335.72 160.679 Q2333.92 164.221 2333.92 171.35 Q2333.92 178.457 2335.72 182.021 Q2337.55 185.563 2341.16 185.563 Q2344.8 185.563 2346.6 182.021 Q2348.43 178.457 2348.43 171.35 Q2348.43 164.221 2346.6 160.679 Q2344.8 157.114 2341.16 157.114 M2341.16 153.411 Q2346.97 153.411 2350.03 158.017 Q2353.11 162.6 2353.11 171.35 Q2353.11 180.077 2350.03 184.683 Q2346.97 189.267 2341.16 189.267 Q2335.35 189.267 2332.27 184.683 Q2329.22 180.077 2329.22 171.35 Q2329.22 162.6 2332.27 158.017 Q2335.35 153.411 2341.16 153.411 Z\" fill=\"#000000\" fill-rule=\"nonzero\" fill-opacity=\"1\" /><polyline clip-path=\"url(#clip740)\" style=\"stroke:#000000; stroke-linecap:round; stroke-linejoin:round; stroke-width:4; stroke-opacity:1; fill:none\" points=\"2232.76,1408.07 2232.76,1271.06 2256.76,1271.06 2232.76,1271.06 2232.76,1134.05 2256.76,1134.05 2232.76,1134.05 2232.76,997.031 2256.76,997.031 2232.76,997.031 2232.76,860.016 2256.76,860.016 2232.76,860.016 2232.76,723.002 2256.76,723.002 2232.76,723.002 2232.76,585.988 2256.76,585.988 2232.76,585.988 2232.76,448.973 2256.76,448.973 2232.76,448.973 2232.76,311.959 2256.76,311.959 2232.76,311.959 2232.76,174.944 2256.76,174.944 2232.76,174.944 2232.76,125.619 \"/>\n",
       "<path clip-path=\"url(#clip740)\" d=\"M214.643 329.113 L745.905 329.113 L745.905 173.593 L214.643 173.593  Z\" fill=\"#ffffff\" fill-rule=\"evenodd\" fill-opacity=\"1\"/>\n",
       "<polyline clip-path=\"url(#clip740)\" style=\"stroke:#000000; stroke-linecap:round; stroke-linejoin:round; stroke-width:4; stroke-opacity:1; fill:none\" points=\"214.643,329.113 745.905,329.113 745.905,173.593 214.643,173.593 214.643,329.113 \"/>\n",
       "<path clip-path=\"url(#clip740)\" d=\"M236.46 246.169 L367.365 246.169 L367.365 204.697 L236.46 204.697 L236.46 246.169  Z\" fill=\"#009af9\" fill-rule=\"evenodd\" fill-opacity=\"1\"/>\n",
       "<polyline clip-path=\"url(#clip740)\" style=\"stroke:#000000; stroke-linecap:round; stroke-linejoin:round; stroke-width:8; stroke-opacity:1; fill:none\" points=\"236.46,204.697 367.365,204.697 \"/>\n",
       "<path clip-path=\"url(#clip740)\" d=\"M417.052 210.815 L417.052 215.745 Q414.691 213.546 412.006 212.458 Q409.344 211.37 406.335 211.37 Q400.409 211.37 397.261 215.004 Q394.113 218.615 394.113 225.467 Q394.113 232.296 397.261 235.93 Q400.409 239.541 406.335 239.541 Q409.344 239.541 412.006 238.453 Q414.691 237.365 417.052 235.166 L417.052 240.051 Q414.599 241.717 411.844 242.551 Q409.113 243.384 406.057 243.384 Q398.21 243.384 393.696 238.592 Q389.182 233.777 389.182 225.467 Q389.182 217.134 393.696 212.342 Q398.21 207.528 406.057 207.528 Q409.159 207.528 411.89 208.361 Q414.645 209.171 417.052 210.815 Z\" fill=\"#000000\" fill-rule=\"nonzero\" fill-opacity=\"1\" /><path clip-path=\"url(#clip740)\" d=\"M434.136 219.773 Q430.71 219.773 428.719 222.458 Q426.728 225.12 426.728 229.773 Q426.728 234.426 428.696 237.111 Q430.687 239.773 434.136 239.773 Q437.538 239.773 439.529 237.088 Q441.52 234.402 441.52 229.773 Q441.52 225.166 439.529 222.481 Q437.538 219.773 434.136 219.773 M434.136 216.162 Q439.691 216.162 442.862 219.773 Q446.034 223.384 446.034 229.773 Q446.034 236.139 442.862 239.773 Q439.691 243.384 434.136 243.384 Q428.557 243.384 425.386 239.773 Q422.238 236.139 422.238 229.773 Q422.238 223.384 425.386 219.773 Q428.557 216.162 434.136 216.162 Z\" fill=\"#000000\" fill-rule=\"nonzero\" fill-opacity=\"1\" /><path clip-path=\"url(#clip740)\" d=\"M474.645 227.065 L474.645 242.713 L470.385 242.713 L470.385 227.203 Q470.385 223.523 468.95 221.694 Q467.515 219.865 464.645 219.865 Q461.196 219.865 459.205 222.065 Q457.214 224.264 457.214 228.06 L457.214 242.713 L452.932 242.713 L452.932 216.787 L457.214 216.787 L457.214 220.815 Q458.742 218.477 460.802 217.319 Q462.885 216.162 465.594 216.162 Q470.061 216.162 472.353 218.94 Q474.645 221.694 474.645 227.065 Z\" fill=\"#000000\" fill-rule=\"nonzero\" fill-opacity=\"1\" /><path clip-path=\"url(#clip740)\" d=\"M499.668 217.551 L499.668 221.578 Q497.862 220.653 495.918 220.19 Q493.973 219.727 491.89 219.727 Q488.719 219.727 487.121 220.699 Q485.547 221.671 485.547 223.615 Q485.547 225.097 486.682 225.953 Q487.816 226.787 491.242 227.551 L492.7 227.875 Q497.237 228.847 499.135 230.629 Q501.057 232.389 501.057 235.56 Q501.057 239.171 498.186 241.277 Q495.339 243.384 490.339 243.384 Q488.256 243.384 485.987 242.967 Q483.742 242.574 481.242 241.764 L481.242 237.365 Q483.603 238.592 485.895 239.217 Q488.186 239.819 490.432 239.819 Q493.441 239.819 495.061 238.801 Q496.682 237.759 496.682 235.884 Q496.682 234.148 495.501 233.222 Q494.344 232.296 490.385 231.439 L488.904 231.092 Q484.946 230.259 483.186 228.546 Q481.427 226.81 481.427 223.801 Q481.427 220.143 484.02 218.153 Q486.612 216.162 491.381 216.162 Q493.742 216.162 495.825 216.509 Q497.908 216.856 499.668 217.551 Z\" fill=\"#000000\" fill-rule=\"nonzero\" fill-opacity=\"1\" /><path clip-path=\"url(#clip740)\" d=\"M512.052 209.426 L512.052 216.787 L520.825 216.787 L520.825 220.097 L512.052 220.097 L512.052 234.171 Q512.052 237.342 512.908 238.245 Q513.788 239.148 516.45 239.148 L520.825 239.148 L520.825 242.713 L516.45 242.713 Q511.519 242.713 509.644 240.884 Q507.769 239.032 507.769 234.171 L507.769 220.097 L504.644 220.097 L504.644 216.787 L507.769 216.787 L507.769 209.426 L512.052 209.426 Z\" fill=\"#000000\" fill-rule=\"nonzero\" fill-opacity=\"1\" /><path clip-path=\"url(#clip740)\" d=\"M541.45 220.768 Q540.732 220.352 539.876 220.166 Q539.042 219.958 538.024 219.958 Q534.413 219.958 532.468 222.319 Q530.547 224.657 530.547 229.055 L530.547 242.713 L526.265 242.713 L526.265 216.787 L530.547 216.787 L530.547 220.815 Q531.89 218.453 534.042 217.319 Q536.195 216.162 539.274 216.162 Q539.714 216.162 540.246 216.231 Q540.779 216.278 541.427 216.393 L541.45 220.768 Z\" fill=\"#000000\" fill-rule=\"nonzero\" fill-opacity=\"1\" /><path clip-path=\"url(#clip740)\" d=\"M557.7 229.68 Q552.538 229.68 550.547 230.861 Q548.556 232.041 548.556 234.889 Q548.556 237.157 550.038 238.5 Q551.542 239.819 554.112 239.819 Q557.653 239.819 559.783 237.319 Q561.936 234.796 561.936 230.629 L561.936 229.68 L557.7 229.68 M566.195 227.921 L566.195 242.713 L561.936 242.713 L561.936 238.777 Q560.478 241.139 558.302 242.273 Q556.126 243.384 552.978 243.384 Q548.996 243.384 546.635 241.162 Q544.297 238.916 544.297 235.166 Q544.297 230.791 547.214 228.569 Q550.154 226.347 555.964 226.347 L561.936 226.347 L561.936 225.93 Q561.936 222.99 559.991 221.393 Q558.07 219.773 554.575 219.773 Q552.353 219.773 550.246 220.305 Q548.14 220.838 546.195 221.902 L546.195 217.967 Q548.533 217.065 550.732 216.625 Q552.931 216.162 555.015 216.162 Q560.64 216.162 563.417 219.078 Q566.195 221.995 566.195 227.921 Z\" fill=\"#000000\" fill-rule=\"nonzero\" fill-opacity=\"1\" /><path clip-path=\"url(#clip740)\" d=\"M574.968 216.787 L579.227 216.787 L579.227 242.713 L574.968 242.713 L574.968 216.787 M574.968 206.694 L579.227 206.694 L579.227 212.088 L574.968 212.088 L574.968 206.694 Z\" fill=\"#000000\" fill-rule=\"nonzero\" fill-opacity=\"1\" /><path clip-path=\"url(#clip740)\" d=\"M609.69 227.065 L609.69 242.713 L605.431 242.713 L605.431 227.203 Q605.431 223.523 603.996 221.694 Q602.561 219.865 599.69 219.865 Q596.241 219.865 594.25 222.065 Q592.26 224.264 592.26 228.06 L592.26 242.713 L587.977 242.713 L587.977 216.787 L592.26 216.787 L592.26 220.815 Q593.788 218.477 595.848 217.319 Q597.931 216.162 600.639 216.162 Q605.107 216.162 607.399 218.94 Q609.69 221.694 609.69 227.065 Z\" fill=\"#000000\" fill-rule=\"nonzero\" fill-opacity=\"1\" /><path clip-path=\"url(#clip740)\" d=\"M622.398 209.426 L622.398 216.787 L631.172 216.787 L631.172 220.097 L622.398 220.097 L622.398 234.171 Q622.398 237.342 623.255 238.245 Q624.135 239.148 626.797 239.148 L631.172 239.148 L631.172 242.713 L626.797 242.713 Q621.866 242.713 619.991 240.884 Q618.116 239.032 618.116 234.171 L618.116 220.097 L614.991 220.097 L614.991 216.787 L618.116 216.787 L618.116 209.426 L622.398 209.426 Z\" fill=\"#000000\" fill-rule=\"nonzero\" fill-opacity=\"1\" /><path clip-path=\"url(#clip740)\" d=\"M672.745 209.287 L672.745 213.847 Q670.083 212.574 667.722 211.949 Q665.361 211.324 663.162 211.324 Q659.343 211.324 657.259 212.805 Q655.199 214.287 655.199 217.018 Q655.199 219.31 656.565 220.49 Q657.954 221.648 661.796 222.365 L664.62 222.944 Q669.852 223.94 672.329 226.463 Q674.829 228.963 674.829 233.176 Q674.829 238.199 671.449 240.791 Q668.093 243.384 661.588 243.384 Q659.134 243.384 656.357 242.828 Q653.602 242.273 650.639 241.185 L650.639 236.37 Q653.486 237.967 656.218 238.777 Q658.949 239.588 661.588 239.588 Q665.593 239.588 667.769 238.014 Q669.945 236.439 669.945 233.523 Q669.945 230.977 668.37 229.541 Q666.82 228.106 663.255 227.389 L660.408 226.833 Q655.176 225.791 652.838 223.569 Q650.5 221.347 650.5 217.389 Q650.5 212.805 653.718 210.166 Q656.958 207.528 662.63 207.528 Q665.06 207.528 667.583 207.967 Q670.107 208.407 672.745 209.287 Z\" fill=\"#000000\" fill-rule=\"nonzero\" fill-opacity=\"1\" /><path clip-path=\"url(#clip740)\" d=\"M704.111 228.685 L704.111 230.768 L684.528 230.768 Q684.806 235.166 687.167 237.481 Q689.551 239.773 693.787 239.773 Q696.241 239.773 698.532 239.171 Q700.847 238.569 703.116 237.365 L703.116 241.393 Q700.824 242.365 698.417 242.875 Q696.009 243.384 693.532 243.384 Q687.329 243.384 683.694 239.773 Q680.083 236.162 680.083 230.004 Q680.083 223.639 683.509 219.912 Q686.958 216.162 692.792 216.162 Q698.023 216.162 701.055 219.541 Q704.111 222.898 704.111 228.685 M699.852 227.435 Q699.805 223.94 697.884 221.856 Q695.986 219.773 692.838 219.773 Q689.273 219.773 687.12 221.787 Q684.991 223.801 684.667 227.458 L699.852 227.435 Z\" fill=\"#000000\" fill-rule=\"nonzero\" fill-opacity=\"1\" /><path clip-path=\"url(#clip740)\" d=\"M715.315 209.426 L715.315 216.787 L724.088 216.787 L724.088 220.097 L715.315 220.097 L715.315 234.171 Q715.315 237.342 716.171 238.245 Q717.051 239.148 719.713 239.148 L724.088 239.148 L724.088 242.713 L719.713 242.713 Q714.782 242.713 712.907 240.884 Q711.032 239.032 711.032 234.171 L711.032 220.097 L707.907 220.097 L707.907 216.787 L711.032 216.787 L711.032 209.426 L715.315 209.426 Z\" fill=\"#000000\" fill-rule=\"nonzero\" fill-opacity=\"1\" /><circle clip-path=\"url(#clip740)\" cx=\"301.913\" cy=\"277.273\" r=\"20.9455\" fill=\"#ff0000\" fill-rule=\"evenodd\" fill-opacity=\"1\" stroke=\"#000000\" stroke-opacity=\"1\" stroke-width=\"3.72364\"/>\n",
       "<path clip-path=\"url(#clip740)\" d=\"M389.182 259.993 L393.858 259.993 L393.858 294.553 L389.182 294.553 L389.182 259.993 Z\" fill=\"#000000\" fill-rule=\"nonzero\" fill-opacity=\"1\" /><path clip-path=\"url(#clip740)\" d=\"M424.529 278.905 L424.529 294.553 L420.27 294.553 L420.27 279.043 Q420.27 275.363 418.835 273.534 Q417.4 271.705 414.529 271.705 Q411.08 271.705 409.089 273.905 Q407.099 276.104 407.099 279.9 L407.099 294.553 L402.816 294.553 L402.816 268.627 L407.099 268.627 L407.099 272.655 Q408.626 270.317 410.687 269.159 Q412.77 268.002 415.478 268.002 Q419.946 268.002 422.238 270.78 Q424.529 273.534 424.529 278.905 Z\" fill=\"#000000\" fill-rule=\"nonzero\" fill-opacity=\"1\" /><path clip-path=\"url(#clip740)\" d=\"M433.025 268.627 L437.284 268.627 L437.284 294.553 L433.025 294.553 L433.025 268.627 M433.025 258.534 L437.284 258.534 L437.284 263.928 L433.025 263.928 L433.025 258.534 Z\" fill=\"#000000\" fill-rule=\"nonzero\" fill-opacity=\"1\" /><path clip-path=\"url(#clip740)\" d=\"M450.409 261.266 L450.409 268.627 L459.182 268.627 L459.182 271.937 L450.409 271.937 L450.409 286.011 Q450.409 289.182 451.265 290.085 Q452.145 290.988 454.807 290.988 L459.182 290.988 L459.182 294.553 L454.807 294.553 Q449.876 294.553 448.001 292.724 Q446.126 290.872 446.126 286.011 L446.126 271.937 L443.001 271.937 L443.001 268.627 L446.126 268.627 L446.126 261.266 L450.409 261.266 Z\" fill=\"#000000\" fill-rule=\"nonzero\" fill-opacity=\"1\" /><path clip-path=\"url(#clip740)\" d=\"M464.784 268.627 L469.043 268.627 L469.043 294.553 L464.784 294.553 L464.784 268.627 M464.784 258.534 L469.043 258.534 L469.043 263.928 L464.784 263.928 L464.784 258.534 Z\" fill=\"#000000\" fill-rule=\"nonzero\" fill-opacity=\"1\" /><path clip-path=\"url(#clip740)\" d=\"M489.737 281.52 Q484.575 281.52 482.584 282.701 Q480.594 283.881 480.594 286.729 Q480.594 288.997 482.075 290.34 Q483.58 291.659 486.149 291.659 Q489.691 291.659 491.82 289.159 Q493.973 286.636 493.973 282.469 L493.973 281.52 L489.737 281.52 M498.232 279.761 L498.232 294.553 L493.973 294.553 L493.973 290.617 Q492.515 292.979 490.339 294.113 Q488.163 295.224 485.015 295.224 Q481.034 295.224 478.672 293.002 Q476.334 290.756 476.334 287.006 Q476.334 282.631 479.251 280.409 Q482.191 278.187 488.001 278.187 L493.973 278.187 L493.973 277.77 Q493.973 274.83 492.029 273.233 Q490.108 271.613 486.612 271.613 Q484.39 271.613 482.284 272.145 Q480.177 272.678 478.233 273.742 L478.233 269.807 Q480.571 268.905 482.77 268.465 Q484.969 268.002 487.052 268.002 Q492.677 268.002 495.455 270.918 Q498.232 273.835 498.232 279.761 Z\" fill=\"#000000\" fill-rule=\"nonzero\" fill-opacity=\"1\" /><path clip-path=\"url(#clip740)\" d=\"M507.006 258.534 L511.265 258.534 L511.265 294.553 L507.006 294.553 L507.006 258.534 Z\" fill=\"#000000\" fill-rule=\"nonzero\" fill-opacity=\"1\" /><path clip-path=\"url(#clip740)\" d=\"M540.107 263.835 L540.107 276.821 L545.987 276.821 Q549.251 276.821 551.033 275.131 Q552.816 273.442 552.816 270.317 Q552.816 267.215 551.033 265.525 Q549.251 263.835 545.987 263.835 L540.107 263.835 M535.431 259.993 L545.987 259.993 Q551.797 259.993 554.76 262.631 Q557.746 265.247 557.746 270.317 Q557.746 275.432 554.76 278.048 Q551.797 280.664 545.987 280.664 L540.107 280.664 L540.107 294.553 L535.431 294.553 L535.431 259.993 Z\" fill=\"#000000\" fill-rule=\"nonzero\" fill-opacity=\"1\" /><path clip-path=\"url(#clip740)\" d=\"M572.19 271.613 Q568.765 271.613 566.774 274.298 Q564.783 276.96 564.783 281.613 Q564.783 286.266 566.751 288.951 Q568.741 291.613 572.19 291.613 Q575.593 291.613 577.584 288.928 Q579.575 286.242 579.575 281.613 Q579.575 277.006 577.584 274.321 Q575.593 271.613 572.19 271.613 M572.19 268.002 Q577.746 268.002 580.917 271.613 Q584.089 275.224 584.089 281.613 Q584.089 287.979 580.917 291.613 Q577.746 295.224 572.19 295.224 Q566.612 295.224 563.44 291.613 Q560.292 287.979 560.292 281.613 Q560.292 275.224 563.44 271.613 Q566.612 268.002 572.19 268.002 Z\" fill=\"#000000\" fill-rule=\"nonzero\" fill-opacity=\"1\" /><path clip-path=\"url(#clip740)\" d=\"M591.149 268.627 L595.408 268.627 L595.408 294.553 L591.149 294.553 L591.149 268.627 M591.149 258.534 L595.408 258.534 L595.408 263.928 L591.149 263.928 L591.149 258.534 Z\" fill=\"#000000\" fill-rule=\"nonzero\" fill-opacity=\"1\" /><path clip-path=\"url(#clip740)\" d=\"M625.871 278.905 L625.871 294.553 L621.611 294.553 L621.611 279.043 Q621.611 275.363 620.176 273.534 Q618.741 271.705 615.871 271.705 Q612.422 271.705 610.431 273.905 Q608.44 276.104 608.44 279.9 L608.44 294.553 L604.158 294.553 L604.158 268.627 L608.44 268.627 L608.44 272.655 Q609.968 270.317 612.028 269.159 Q614.111 268.002 616.82 268.002 Q621.287 268.002 623.579 270.78 Q625.871 273.534 625.871 278.905 Z\" fill=\"#000000\" fill-rule=\"nonzero\" fill-opacity=\"1\" /><path clip-path=\"url(#clip740)\" d=\"M638.579 261.266 L638.579 268.627 L647.352 268.627 L647.352 271.937 L638.579 271.937 L638.579 286.011 Q638.579 289.182 639.435 290.085 Q640.315 290.988 642.977 290.988 L647.352 290.988 L647.352 294.553 L642.977 294.553 Q638.047 294.553 636.172 292.724 Q634.297 290.872 634.297 286.011 L634.297 271.937 L631.172 271.937 L631.172 268.627 L634.297 268.627 L634.297 261.266 L638.579 261.266 Z\" fill=\"#000000\" fill-rule=\"nonzero\" fill-opacity=\"1\" /></svg>\n"
      ],
      "text/html": [
       "<?xml version=\"1.0\" encoding=\"utf-8\"?>\n",
       "<svg xmlns=\"http://www.w3.org/2000/svg\" xmlns:xlink=\"http://www.w3.org/1999/xlink\" width=\"600\" height=\"400\" viewBox=\"0 0 2400 1600\">\n",
       "<defs>\n",
       "  <clipPath id=\"clip790\">\n",
       "    <rect x=\"0\" y=\"0\" width=\"2400\" height=\"1600\"/>\n",
       "  </clipPath>\n",
       "</defs>\n",
       "<path clip-path=\"url(#clip790)\" d=\"M0 1600 L2400 1600 L2400 0 L0 0  Z\" fill=\"#ffffff\" fill-rule=\"evenodd\" fill-opacity=\"1\"/>\n",
       "<defs>\n",
       "  <clipPath id=\"clip791\">\n",
       "    <rect x=\"480\" y=\"0\" width=\"1681\" height=\"1600\"/>\n",
       "  </clipPath>\n",
       "</defs>\n",
       "<path clip-path=\"url(#clip790)\" d=\"M149.191 1408.07 L2112.76 1408.07 L2112.76 125.619 L149.191 125.619  Z\" fill=\"#ffffff\" fill-rule=\"evenodd\" fill-opacity=\"1\"/>\n",
       "<defs>\n",
       "  <clipPath id=\"clip792\">\n",
       "    <rect x=\"149\" y=\"125\" width=\"1965\" height=\"1283\"/>\n",
       "  </clipPath>\n",
       "</defs>\n",
       "<polyline clip-path=\"url(#clip792)\" style=\"stroke:#000000; stroke-linecap:round; stroke-linejoin:round; stroke-width:2; stroke-opacity:0.1; fill:none\" points=\"405.056,1408.07 405.056,125.619 \"/>\n",
       "<polyline clip-path=\"url(#clip792)\" style=\"stroke:#000000; stroke-linecap:round; stroke-linejoin:round; stroke-width:2; stroke-opacity:0.1; fill:none\" points=\"768.015,1408.07 768.015,125.619 \"/>\n",
       "<polyline clip-path=\"url(#clip792)\" style=\"stroke:#000000; stroke-linecap:round; stroke-linejoin:round; stroke-width:2; stroke-opacity:0.1; fill:none\" points=\"1130.97,1408.07 1130.97,125.619 \"/>\n",
       "<polyline clip-path=\"url(#clip792)\" style=\"stroke:#000000; stroke-linecap:round; stroke-linejoin:round; stroke-width:2; stroke-opacity:0.1; fill:none\" points=\"1493.93,1408.07 1493.93,125.619 \"/>\n",
       "<polyline clip-path=\"url(#clip792)\" style=\"stroke:#000000; stroke-linecap:round; stroke-linejoin:round; stroke-width:2; stroke-opacity:0.1; fill:none\" points=\"1856.89,1408.07 1856.89,125.619 \"/>\n",
       "<polyline clip-path=\"url(#clip790)\" style=\"stroke:#000000; stroke-linecap:round; stroke-linejoin:round; stroke-width:4; stroke-opacity:1; fill:none\" points=\"149.191,1408.07 2112.76,1408.07 \"/>\n",
       "<polyline clip-path=\"url(#clip790)\" style=\"stroke:#000000; stroke-linecap:round; stroke-linejoin:round; stroke-width:4; stroke-opacity:1; fill:none\" points=\"405.056,1408.07 405.056,1391.23 \"/>\n",
       "<polyline clip-path=\"url(#clip790)\" style=\"stroke:#000000; stroke-linecap:round; stroke-linejoin:round; stroke-width:4; stroke-opacity:1; fill:none\" points=\"768.015,1408.07 768.015,1391.23 \"/>\n",
       "<polyline clip-path=\"url(#clip790)\" style=\"stroke:#000000; stroke-linecap:round; stroke-linejoin:round; stroke-width:4; stroke-opacity:1; fill:none\" points=\"1130.97,1408.07 1130.97,1391.23 \"/>\n",
       "<polyline clip-path=\"url(#clip790)\" style=\"stroke:#000000; stroke-linecap:round; stroke-linejoin:round; stroke-width:4; stroke-opacity:1; fill:none\" points=\"1493.93,1408.07 1493.93,1391.23 \"/>\n",
       "<polyline clip-path=\"url(#clip790)\" style=\"stroke:#000000; stroke-linecap:round; stroke-linejoin:round; stroke-width:4; stroke-opacity:1; fill:none\" points=\"1856.89,1408.07 1856.89,1391.23 \"/>\n",
       "<path clip-path=\"url(#clip790)\" d=\"M374.119 1453.64 L403.795 1453.64 L403.795 1457.58 L374.119 1457.58 L374.119 1453.64 Z\" fill=\"#000000\" fill-rule=\"nonzero\" fill-opacity=\"1\" /><path clip-path=\"url(#clip790)\" d=\"M424.466 1451.33 Q421.318 1451.33 419.466 1453.48 Q417.637 1455.63 417.637 1459.38 Q417.637 1463.11 419.466 1465.29 Q421.318 1467.44 424.466 1467.44 Q427.614 1467.44 429.443 1465.29 Q431.294 1463.11 431.294 1459.38 Q431.294 1455.63 429.443 1453.48 Q427.614 1451.33 424.466 1451.33 M433.748 1436.68 L433.748 1440.94 Q431.989 1440.1 430.183 1439.66 Q428.401 1439.22 426.642 1439.22 Q422.012 1439.22 419.558 1442.35 Q417.128 1445.47 416.781 1451.79 Q418.146 1449.78 420.207 1448.71 Q422.267 1447.63 424.744 1447.63 Q429.952 1447.63 432.961 1450.8 Q435.994 1453.95 435.994 1459.38 Q435.994 1464.71 432.845 1467.93 Q429.697 1471.14 424.466 1471.14 Q418.47 1471.14 415.299 1466.56 Q412.128 1461.95 412.128 1453.23 Q412.128 1445.03 416.017 1440.17 Q419.906 1435.29 426.457 1435.29 Q428.216 1435.29 429.998 1435.64 Q431.804 1435.98 433.748 1436.68 Z\" fill=\"#000000\" fill-rule=\"nonzero\" fill-opacity=\"1\" /><path clip-path=\"url(#clip790)\" d=\"M737.483 1453.64 L767.158 1453.64 L767.158 1457.58 L737.483 1457.58 L737.483 1453.64 Z\" fill=\"#000000\" fill-rule=\"nonzero\" fill-opacity=\"1\" /><path clip-path=\"url(#clip790)\" d=\"M791.417 1451.84 Q794.774 1452.56 796.649 1454.82 Q798.547 1457.09 798.547 1460.43 Q798.547 1465.54 795.029 1468.34 Q791.51 1471.14 785.029 1471.14 Q782.853 1471.14 780.538 1470.7 Q778.246 1470.29 775.793 1469.43 L775.793 1464.92 Q777.737 1466.05 780.052 1466.63 Q782.367 1467.21 784.89 1467.21 Q789.288 1467.21 791.579 1465.47 Q793.894 1463.74 793.894 1460.43 Q793.894 1457.37 791.742 1455.66 Q789.612 1453.92 785.792 1453.92 L781.765 1453.92 L781.765 1450.08 L785.978 1450.08 Q789.427 1450.08 791.255 1448.71 Q793.084 1447.32 793.084 1444.73 Q793.084 1442.07 791.186 1440.66 Q789.311 1439.22 785.792 1439.22 Q783.871 1439.22 781.672 1439.64 Q779.473 1440.06 776.834 1440.94 L776.834 1436.77 Q779.496 1436.03 781.811 1435.66 Q784.149 1435.29 786.209 1435.29 Q791.533 1435.29 794.635 1437.72 Q797.737 1440.13 797.737 1444.25 Q797.737 1447.12 796.093 1449.11 Q794.45 1451.07 791.417 1451.84 Z\" fill=\"#000000\" fill-rule=\"nonzero\" fill-opacity=\"1\" /><path clip-path=\"url(#clip790)\" d=\"M1130.97 1438.99 Q1127.36 1438.99 1125.53 1442.56 Q1123.73 1446.1 1123.73 1453.23 Q1123.73 1460.33 1125.53 1463.9 Q1127.36 1467.44 1130.97 1467.44 Q1134.61 1467.44 1136.41 1463.9 Q1138.24 1460.33 1138.24 1453.23 Q1138.24 1446.1 1136.41 1442.56 Q1134.61 1438.99 1130.97 1438.99 M1130.97 1435.29 Q1136.78 1435.29 1139.84 1439.89 Q1142.92 1444.48 1142.92 1453.23 Q1142.92 1461.95 1139.84 1466.56 Q1136.78 1471.14 1130.97 1471.14 Q1125.16 1471.14 1122.08 1466.56 Q1119.03 1461.95 1119.03 1453.23 Q1119.03 1444.48 1122.08 1439.89 Q1125.16 1435.29 1130.97 1435.29 Z\" fill=\"#000000\" fill-rule=\"nonzero\" fill-opacity=\"1\" /><path clip-path=\"url(#clip790)\" d=\"M1498.18 1451.84 Q1501.54 1452.56 1503.41 1454.82 Q1505.31 1457.09 1505.31 1460.43 Q1505.31 1465.54 1501.79 1468.34 Q1498.27 1471.14 1491.79 1471.14 Q1489.61 1471.14 1487.3 1470.7 Q1485.01 1470.29 1482.55 1469.43 L1482.55 1464.92 Q1484.5 1466.05 1486.81 1466.63 Q1489.13 1467.21 1491.65 1467.21 Q1496.05 1467.21 1498.34 1465.47 Q1500.66 1463.74 1500.66 1460.43 Q1500.66 1457.37 1498.5 1455.66 Q1496.37 1453.92 1492.55 1453.92 L1488.53 1453.92 L1488.53 1450.08 L1492.74 1450.08 Q1496.19 1450.08 1498.02 1448.71 Q1499.85 1447.32 1499.85 1444.73 Q1499.85 1442.07 1497.95 1440.66 Q1496.07 1439.22 1492.55 1439.22 Q1490.63 1439.22 1488.43 1439.64 Q1486.24 1440.06 1483.6 1440.94 L1483.6 1436.77 Q1486.26 1436.03 1488.57 1435.66 Q1490.91 1435.29 1492.97 1435.29 Q1498.3 1435.29 1501.4 1437.72 Q1504.5 1440.13 1504.5 1444.25 Q1504.5 1447.12 1502.86 1449.11 Q1501.21 1451.07 1498.18 1451.84 Z\" fill=\"#000000\" fill-rule=\"nonzero\" fill-opacity=\"1\" /><path clip-path=\"url(#clip790)\" d=\"M1857.3 1451.33 Q1854.15 1451.33 1852.3 1453.48 Q1850.47 1455.63 1850.47 1459.38 Q1850.47 1463.11 1852.3 1465.29 Q1854.15 1467.44 1857.3 1467.44 Q1860.44 1467.44 1862.27 1465.29 Q1864.12 1463.11 1864.12 1459.38 Q1864.12 1455.63 1862.27 1453.48 Q1860.44 1451.33 1857.3 1451.33 M1866.58 1436.68 L1866.58 1440.94 Q1864.82 1440.1 1863.01 1439.66 Q1861.23 1439.22 1859.47 1439.22 Q1854.84 1439.22 1852.39 1442.35 Q1849.96 1445.47 1849.61 1451.79 Q1850.98 1449.78 1853.04 1448.71 Q1855.1 1447.63 1857.57 1447.63 Q1862.78 1447.63 1865.79 1450.8 Q1868.82 1453.95 1868.82 1459.38 Q1868.82 1464.71 1865.68 1467.93 Q1862.53 1471.14 1857.3 1471.14 Q1851.3 1471.14 1848.13 1466.56 Q1844.96 1461.95 1844.96 1453.23 Q1844.96 1445.03 1848.85 1440.17 Q1852.74 1435.29 1859.29 1435.29 Q1861.05 1435.29 1862.83 1435.64 Q1864.63 1435.98 1866.58 1436.68 Z\" fill=\"#000000\" fill-rule=\"nonzero\" fill-opacity=\"1\" /><polyline clip-path=\"url(#clip792)\" style=\"stroke:#000000; stroke-linecap:round; stroke-linejoin:round; stroke-width:2; stroke-opacity:0.1; fill:none\" points=\"149.191,1250.79 2112.76,1250.79 \"/>\n",
       "<polyline clip-path=\"url(#clip792)\" style=\"stroke:#000000; stroke-linecap:round; stroke-linejoin:round; stroke-width:2; stroke-opacity:0.1; fill:none\" points=\"149.191,1008.82 2112.76,1008.82 \"/>\n",
       "<polyline clip-path=\"url(#clip792)\" style=\"stroke:#000000; stroke-linecap:round; stroke-linejoin:round; stroke-width:2; stroke-opacity:0.1; fill:none\" points=\"149.191,766.846 2112.76,766.846 \"/>\n",
       "<polyline clip-path=\"url(#clip792)\" style=\"stroke:#000000; stroke-linecap:round; stroke-linejoin:round; stroke-width:2; stroke-opacity:0.1; fill:none\" points=\"149.191,524.874 2112.76,524.874 \"/>\n",
       "<polyline clip-path=\"url(#clip792)\" style=\"stroke:#000000; stroke-linecap:round; stroke-linejoin:round; stroke-width:2; stroke-opacity:0.1; fill:none\" points=\"149.191,282.901 2112.76,282.901 \"/>\n",
       "<polyline clip-path=\"url(#clip790)\" style=\"stroke:#000000; stroke-linecap:round; stroke-linejoin:round; stroke-width:4; stroke-opacity:1; fill:none\" points=\"149.191,1408.07 149.191,125.619 \"/>\n",
       "<polyline clip-path=\"url(#clip790)\" style=\"stroke:#000000; stroke-linecap:round; stroke-linejoin:round; stroke-width:4; stroke-opacity:1; fill:none\" points=\"149.191,1250.79 166.03,1250.79 \"/>\n",
       "<polyline clip-path=\"url(#clip790)\" style=\"stroke:#000000; stroke-linecap:round; stroke-linejoin:round; stroke-width:4; stroke-opacity:1; fill:none\" points=\"149.191,1008.82 166.03,1008.82 \"/>\n",
       "<polyline clip-path=\"url(#clip790)\" style=\"stroke:#000000; stroke-linecap:round; stroke-linejoin:round; stroke-width:4; stroke-opacity:1; fill:none\" points=\"149.191,766.846 166.03,766.846 \"/>\n",
       "<polyline clip-path=\"url(#clip790)\" style=\"stroke:#000000; stroke-linecap:round; stroke-linejoin:round; stroke-width:4; stroke-opacity:1; fill:none\" points=\"149.191,524.874 166.03,524.874 \"/>\n",
       "<polyline clip-path=\"url(#clip790)\" style=\"stroke:#000000; stroke-linecap:round; stroke-linejoin:round; stroke-width:4; stroke-opacity:1; fill:none\" points=\"149.191,282.901 166.03,282.901 \"/>\n",
       "<path clip-path=\"url(#clip790)\" d=\"M50.9921 1251.24 L80.6679 1251.24 L80.6679 1255.18 L50.9921 1255.18 L50.9921 1251.24 Z\" fill=\"#000000\" fill-rule=\"nonzero\" fill-opacity=\"1\" /><path clip-path=\"url(#clip790)\" d=\"M103.608 1237.58 L91.8021 1256.03 L103.608 1256.03 L103.608 1237.58 M102.381 1233.51 L108.26 1233.51 L108.26 1256.03 L113.191 1256.03 L113.191 1259.92 L108.26 1259.92 L108.26 1268.07 L103.608 1268.07 L103.608 1259.92 L88.0058 1259.92 L88.0058 1255.41 L102.381 1233.51 Z\" fill=\"#000000\" fill-rule=\"nonzero\" fill-opacity=\"1\" /><path clip-path=\"url(#clip790)\" d=\"M53.0754 1009.27 L82.7512 1009.27 L82.7512 1013.2 L53.0754 1013.2 L53.0754 1009.27 Z\" fill=\"#000000\" fill-rule=\"nonzero\" fill-opacity=\"1\" /><path clip-path=\"url(#clip790)\" d=\"M96.8715 1022.16 L113.191 1022.16 L113.191 1026.1 L91.2465 1026.1 L91.2465 1022.16 Q93.9086 1019.41 98.4919 1014.78 Q103.098 1010.13 104.279 1008.78 Q106.524 1006.26 107.404 1004.52 Q108.307 1002.77 108.307 1001.08 Q108.307 998.321 106.362 996.585 Q104.441 994.849 101.339 994.849 Q99.14 994.849 96.6863 995.612 Q94.2558 996.376 91.478 997.927 L91.478 993.205 Q94.3021 992.071 96.7558 991.492 Q99.2095 990.913 101.246 990.913 Q106.617 990.913 109.811 993.599 Q113.006 996.284 113.006 1000.77 Q113.006 1002.9 112.196 1004.83 Q111.408 1006.72 109.302 1009.32 Q108.723 1009.99 105.621 1013.2 Q102.52 1016.4 96.8715 1022.16 Z\" fill=\"#000000\" fill-rule=\"nonzero\" fill-opacity=\"1\" /><path clip-path=\"url(#clip790)\" d=\"M101.246 752.645 Q97.6354 752.645 95.8067 756.209 Q94.0012 759.751 94.0012 766.881 Q94.0012 773.987 95.8067 777.552 Q97.6354 781.094 101.246 781.094 Q104.881 781.094 106.686 777.552 Q108.515 773.987 108.515 766.881 Q108.515 759.751 106.686 756.209 Q104.881 752.645 101.246 752.645 M101.246 748.941 Q107.057 748.941 110.112 753.547 Q113.191 758.131 113.191 766.881 Q113.191 775.608 110.112 780.214 Q107.057 784.797 101.246 784.797 Q95.4363 784.797 92.3576 780.214 Q89.3021 775.608 89.3021 766.881 Q89.3021 758.131 92.3576 753.547 Q95.4363 748.941 101.246 748.941 Z\" fill=\"#000000\" fill-rule=\"nonzero\" fill-opacity=\"1\" /><path clip-path=\"url(#clip790)\" d=\"M96.8715 538.218 L113.191 538.218 L113.191 542.154 L91.2465 542.154 L91.2465 538.218 Q93.9086 535.464 98.4919 530.834 Q103.098 526.181 104.279 524.839 Q106.524 522.316 107.404 520.58 Q108.307 518.82 108.307 517.131 Q108.307 514.376 106.362 512.64 Q104.441 510.904 101.339 510.904 Q99.14 510.904 96.6863 511.668 Q94.2558 512.432 91.478 513.982 L91.478 509.26 Q94.3021 508.126 96.7558 507.547 Q99.2095 506.969 101.246 506.969 Q106.617 506.969 109.811 509.654 Q113.006 512.339 113.006 516.83 Q113.006 518.959 112.196 520.881 Q111.408 522.779 109.302 525.371 Q108.723 526.043 105.621 529.26 Q102.52 532.455 96.8715 538.218 Z\" fill=\"#000000\" fill-rule=\"nonzero\" fill-opacity=\"1\" /><path clip-path=\"url(#clip790)\" d=\"M103.608 269.695 L91.8021 288.144 L103.608 288.144 L103.608 269.695 M102.381 265.621 L108.26 265.621 L108.26 288.144 L113.191 288.144 L113.191 292.033 L108.26 292.033 L108.26 300.181 L103.608 300.181 L103.608 292.033 L88.0058 292.033 L88.0058 287.519 L102.381 265.621 Z\" fill=\"#000000\" fill-rule=\"nonzero\" fill-opacity=\"1\" /><path clip-path=\"url(#clip792)\" d=\"M1372.95 766.846 L1372.46 751.499 L1371 736.214 L1368.57 721.052 L1365.19 706.075 L1360.86 691.343 L1355.61 676.914 L1349.46 662.847 L1342.42 649.2 L1334.53 636.026 L1325.83 623.379 L1316.34 611.309 L1306.1 599.866 L1295.15 589.095 L1283.55 579.04 L1271.33 569.741 L1258.55 561.236 L1245.25 553.559 L1231.49 546.74 L1217.33 540.808 L1202.82 535.786 L1188.02 531.694 L1172.99 528.55 L1157.79 526.365 L1142.49 525.148 L1127.13 524.904 L1111.8 525.635 L1096.54 527.337 L1081.42 530.003 L1066.49 533.623 L1051.83 538.182 L1037.49 543.662 L1023.52 550.04 L1009.99 557.292 L996.94 565.387 L984.433 574.294 L972.515 583.975 L961.236 594.394 L950.64 605.506 L940.77 617.269 L931.666 629.633 L923.365 642.55 L915.9 655.968 L909.3 669.832 L903.594 684.087 L898.803 698.674 L894.946 713.537 L892.04 728.614 L890.097 743.845 L889.123 759.169 L889.123 774.523 L890.097 789.847 L892.04 805.078 L894.946 820.155 L898.803 835.017 L903.594 849.605 L909.3 863.86 L915.9 877.724 L923.365 891.142 L931.666 904.059 L940.77 916.423 L950.64 928.186 L961.236 939.298 L972.515 949.717 L984.433 959.398 L996.94 968.305 L1009.99 976.4 L1023.52 983.652 L1037.49 990.03 L1051.83 995.51 L1066.49 1000.07 L1081.42 1003.69 L1096.54 1006.36 L1111.8 1008.06 L1127.13 1008.79 L1142.49 1008.54 L1157.79 1007.33 L1172.99 1005.14 L1188.02 1002 L1202.82 997.906 L1217.33 992.884 L1231.49 986.952 L1245.25 980.133 L1258.55 972.456 L1271.33 963.951 L1283.55 954.652 L1295.15 944.597 L1306.1 933.826 L1316.34 922.383 L1325.83 910.313 L1334.53 897.666 L1342.42 884.492 L1349.46 870.844 L1355.61 856.778 L1360.86 842.349 L1365.19 827.617 L1368.57 812.64 L1371 797.478 L1372.46 782.193 L1372.95 766.846 L1372.95 766.846 L1372.46 766.846 L1371 766.846 L1368.57 766.846 L1365.19 766.846 L1360.86 766.846 L1355.61 766.846 L1349.46 766.846 L1342.42 766.846 L1334.53 766.846 L1325.83 766.846 L1316.34 766.846 L1306.1 766.846 L1295.15 766.846 L1283.55 766.846 L1271.33 766.846 L1258.55 766.846 L1245.25 766.846 L1231.49 766.846 L1217.33 766.846 L1202.82 766.846 L1188.02 766.846 L1172.99 766.846 L1157.79 766.846 L1142.49 766.846 L1127.13 766.846 L1111.8 766.846 L1096.54 766.846 L1081.42 766.846 L1066.49 766.846 L1051.83 766.846 L1037.49 766.846 L1023.52 766.846 L1009.99 766.846 L996.94 766.846 L984.433 766.846 L972.515 766.846 L961.236 766.846 L950.64 766.846 L940.77 766.846 L931.666 766.846 L923.365 766.846 L915.9 766.846 L909.3 766.846 L903.594 766.846 L898.803 766.846 L894.946 766.846 L892.04 766.846 L890.097 766.846 L889.123 766.846 L889.123 766.846 L890.097 766.846 L892.04 766.846 L894.946 766.846 L898.803 766.846 L903.594 766.846 L909.3 766.846 L915.9 766.846 L923.365 766.846 L931.666 766.846 L940.77 766.846 L950.64 766.846 L961.236 766.846 L972.515 766.846 L984.433 766.846 L996.94 766.846 L1009.99 766.846 L1023.52 766.846 L1037.49 766.846 L1051.83 766.846 L1066.49 766.846 L1081.42 766.846 L1096.54 766.846 L1111.8 766.846 L1127.13 766.846 L1142.49 766.846 L1157.79 766.846 L1172.99 766.846 L1188.02 766.846 L1202.82 766.846 L1217.33 766.846 L1231.49 766.846 L1245.25 766.846 L1258.55 766.846 L1271.33 766.846 L1283.55 766.846 L1295.15 766.846 L1306.1 766.846 L1316.34 766.846 L1325.83 766.846 L1334.53 766.846 L1342.42 766.846 L1349.46 766.846 L1355.61 766.846 L1360.86 766.846 L1365.19 766.846 L1368.57 766.846 L1371 766.846 L1372.46 766.846 L1372.95 766.846  Z\" fill=\"#009af9\" fill-rule=\"evenodd\" fill-opacity=\"1\"/>\n",
       "<polyline clip-path=\"url(#clip792)\" style=\"stroke:#000000; stroke-linecap:round; stroke-linejoin:round; stroke-width:8; stroke-opacity:1; fill:none\" points=\"1372.95,766.846 1372.46,751.499 1371,736.214 1368.57,721.052 1365.19,706.075 1360.86,691.343 1355.61,676.914 1349.46,662.847 1342.42,649.2 1334.53,636.026 1325.83,623.379 1316.34,611.309 1306.1,599.866 1295.15,589.095 1283.55,579.04 1271.33,569.741 1258.55,561.236 1245.25,553.559 1231.49,546.74 1217.33,540.808 1202.82,535.786 1188.02,531.694 1172.99,528.55 1157.79,526.365 1142.49,525.148 1127.13,524.904 1111.8,525.635 1096.54,527.337 1081.42,530.003 1066.49,533.623 1051.83,538.182 1037.49,543.662 1023.52,550.04 1009.99,557.292 996.94,565.387 984.433,574.294 972.515,583.975 961.236,594.394 950.64,605.506 940.77,617.269 931.666,629.633 923.365,642.55 915.9,655.968 909.3,669.832 903.594,684.087 898.803,698.674 894.946,713.537 892.04,728.614 890.097,743.845 889.123,759.169 889.123,774.523 890.097,789.847 892.04,805.078 894.946,820.155 898.803,835.017 903.594,849.605 909.3,863.86 915.9,877.724 923.365,891.142 931.666,904.059 940.77,916.423 950.64,928.186 961.236,939.298 972.515,949.717 984.433,959.398 996.94,968.305 1009.99,976.4 1023.52,983.652 1037.49,990.03 1051.83,995.51 1066.49,1000.07 1081.42,1003.69 1096.54,1006.36 1111.8,1008.06 1127.13,1008.79 1142.49,1008.54 1157.79,1007.33 1172.99,1005.14 1188.02,1002 1202.82,997.906 1217.33,992.884 1231.49,986.952 1245.25,980.133 1258.55,972.456 1271.33,963.951 1283.55,954.652 1295.15,944.597 1306.1,933.826 1316.34,922.383 1325.83,910.313 1334.53,897.666 1342.42,884.492 1349.46,870.844 1355.61,856.778 1360.86,842.349 1365.19,827.617 1368.57,812.64 1371,797.478 1372.46,782.193 1372.95,766.846 \"/>\n",
       "<polyline clip-path=\"url(#clip792)\" style=\"stroke:#000004; stroke-linecap:round; stroke-linejoin:round; stroke-width:4; stroke-opacity:1; fill:none\" points=\"1447.31,161.915 1446.32,167.995 1445.35,174.074 1444.4,180.154 1444.08,182.177 1443.36,186.234 1442.31,192.314 1441.27,198.393 1440.26,204.473 1439.26,210.553 1438.28,216.632 1438,218.38 1437.22,222.712 1436.14,228.792 1435.08,234.871 1434.04,240.951 1433.02,247.031 1432.02,253.111 1431.92,253.714 1430.91,259.19 1429.81,265.27 1428.73,271.35 1427.67,277.429 1426.63,283.509 1425.84,288.172 1425.57,289.589 1424.43,295.669 1423.31,301.748 1422.21,307.828 1421.13,313.908 1420.07,319.987 1419.76,321.789 1418.93,326.067 1417.77,332.147 1416.64,338.227 1415.52,344.306 1414.43,350.386 1413.68,354.574 1413.31,356.466 1412.11,362.545 1410.94,368.625 1409.79,374.705 1408.66,380.784 1407.6,386.548 1407.54,386.864 1406.3,392.944 1405.1,399.024 1403.91,405.103 1402.75,411.183 1401.6,417.263 1401.52,417.696 1400.35,423.342 1399.11,429.422 1397.89,435.502 1396.69,441.582 1395.51,447.661 1395.44,448.04 1394.23,453.741 1392.95,459.821 1391.7,465.9 1390.48,471.98 1389.36,477.585 1389.26,478.06 1387.93,484.14 1386.63,490.219 1385.35,496.299 1384.09,502.379 1383.28,506.33 1382.8,508.458 1381.45,514.538 1380.12,520.618 1378.81,526.697 1377.52,532.777 1377.2,534.305 1376.15,538.857 1374.77,544.937 1373.41,551.016 1372.08,557.096 1371.12,561.497 1370.72,563.176 1369.29,569.255 1367.88,575.335 1366.5,581.415 1365.14,587.495 1365.04,587.926 1363.66,593.574 1362.21,599.654 1360.77,605.734 1359.37,611.813 1358.96,613.567 1357.88,617.893 1356.37,623.973 1354.89,630.053 1353.43,636.132 1352.88,638.451 1351.91,642.212 1350.35,648.292 1348.83,654.371 1347.33,660.451 1346.8,662.576 1345.75,666.531 1344.14,672.611 1342.57,678.69 1341.02,684.77 1340.72,685.948 1339.37,690.85 1337.72,696.929 1336.1,703.009 1334.64,708.565 1334.49,709.089 1332.77,715.168 1331.07,721.248 1329.4,727.328 1328.56,730.414 1327.68,733.408 1325.91,739.487 1324.17,745.567 1322.48,751.54 1322.45,751.647 1320.6,757.726 1318.78,763.806 1316.99,769.886 1316.4,771.891 1315.12,775.966 1313.22,782.045 1311.35,788.125 1310.32,791.508 1309.44,794.205 1307.46,800.284 1305.52,806.364 1304.25,810.385 1303.54,812.444 1301.48,818.524 1299.45,824.603 1298.17,828.518 1297.4,830.683 1295.25,836.763 1293.14,842.842 1292.09,845.909 1290.97,848.922 1288.73,855.002 1286.54,861.081 1286.01,862.567 1284.22,867.161 1281.9,873.241 1279.93,878.486 1279.59,879.321 1277.12,885.4 1274.71,891.48 1273.85,893.657 1272.18,897.56 1269.62,903.639 1267.77,908.1 1267.04,909.719 1264.32,915.799 1261.69,921.817 1261.66,921.879 1258.78,927.958 1255.95,934.038 1255.61,934.779 1252.93,940.118 1249.93,946.197 1249.53,947.012 1246.72,952.277 1243.53,958.357 1243.45,958.515 1240.07,964.437 1237.37,969.267 1236.61,970.516 1232.91,976.596 1231.29,979.287 1229.06,982.676 1225.21,988.589 1225.09,988.755 1220.75,994.835 1219.13,997.127 1216.17,1000.91 1213.05,1004.94 1211.28,1006.99 1206.97,1012.02 1205.95,1013.07 1200.89,1018.36 1200.02,1019.15 1194.81,1023.94 1193.19,1025.23 1188.73,1028.79 1185,1031.31 1182.65,1032.9 1176.57,1036.26 1173.93,1037.39 1170.49,1038.86 1164.41,1040.72 1158.33,1041.82 1152.25,1042.17 1146.17,1041.75 1140.09,1040.57 1134.01,1038.63 1131.21,1037.39 1127.93,1035.91 1121.85,1032.42 1120.27,1031.31 1115.77,1028.13 1112.28,1025.23 1109.69,1023.06 1105.62,1019.15 1103.61,1017.2 1099.84,1013.07 1097.53,1010.53 1094.65,1006.99 1091.46,1003.05 1089.88,1000.91 1085.43,994.835 1085.38,994.764 1081.38,988.755 1079.3,985.613 1077.5,982.676 1073.79,976.596 1073.22,975.646 1070.34,970.516 1067.14,964.819 1066.94,964.437 1063.78,958.357 1061.06,953.108 1060.65,952.277 1057.72,946.197 1054.98,940.518 1054.8,940.118 1052.07,934.038 1049.32,927.958 1048.9,927.006 1046.74,921.879 1044.18,915.799 1042.82,912.556 1041.7,909.719 1039.3,903.639 1036.89,897.56 1036.74,897.17 1034.64,891.48 1032.38,885.4 1030.66,880.761 1030.15,879.321 1028.04,873.241 1025.92,867.161 1024.58,863.323 1023.84,861.081 1021.85,855.002 1019.85,848.922 1018.5,844.805 1017.89,842.842 1016.02,836.763 1014.14,830.683 1012.42,825.155 1012.26,824.603 1010.5,818.524 1008.73,812.444 1006.95,806.364 1006.34,804.25 1005.26,800.284 1003.6,794.205 1001.93,788.125 1000.26,782.061 1000.26,782.045 998.706,775.966 997.149,769.886 995.584,763.806 994.18,758.372 994.024,757.726 992.575,751.647 991.119,745.567 989.657,739.487 988.187,733.408 988.1,733.042 986.833,727.328 985.482,721.248 984.127,715.168 982.766,709.089 982.021,705.731 981.457,703.009 980.215,696.929 978.972,690.85 977.726,684.77 976.479,678.69 975.941,676.031 975.299,672.611 974.174,666.531 973.051,660.451 971.93,654.371 970.812,648.292 969.861,643.084 969.714,642.212 968.722,636.132 967.739,630.053 966.764,623.973 965.8,617.893 964.846,611.813 963.904,605.734 963.781,604.903 963.072,599.654 962.273,593.574 961.495,587.495 960.74,581.415 960.011,575.335 959.312,569.255 958.645,563.176 958.017,557.096 957.702,553.752 957.47,551.016 957.014,544.937 956.613,538.857 956.274,532.777 956.007,526.697 955.824,520.618 955.739,514.538 955.769,508.458 955.938,502.379 956.273,496.299 956.812,490.219 957.602,484.14 957.702,483.55 959.052,478.06 961.18,471.98 963.781,466.7 964.513,465.9 969.861,461.531 975.941,460.312 982.021,461.182 988.1,463.237 993.999,465.9 994.18,465.978 1000.26,469.213 1005.12,471.98 1006.34,472.644 1012.42,476.208 1015.54,478.06 1018.5,479.761 1024.58,483.232 1026.2,484.14 1030.66,486.584 1036.74,489.724 1037.75,490.219 1042.82,492.667 1048.9,495.327 1051.36,496.299 1054.98,497.711 1061.06,499.786 1067.14,501.513 1070.94,502.379 1073.22,502.897 1079.3,503.928 1085.38,504.575 1091.46,504.829 1097.53,504.681 1103.61,504.12 1109.69,503.137 1112.93,502.379 1115.77,501.733 1121.85,499.908 1127.93,497.628 1130.87,496.299 1134.01,494.909 1140.09,491.741 1142.62,490.219 1146.17,488.121 1152.08,484.14 1152.25,484.027 1158.33,479.495 1160.06,478.06 1164.41,474.492 1167.19,471.98 1170.49,469.018 1173.67,465.9 1176.57,463.072 1179.64,459.821 1182.65,456.653 1185.22,453.741 1188.73,449.757 1190.46,447.661 1194.81,442.379 1195.43,441.582 1200.14,435.502 1200.89,434.529 1204.63,429.422 1206.97,426.206 1208.95,423.342 1213.05,417.378 1213.13,417.263 1217.12,411.183 1219.13,408.097 1221,405.103 1224.77,399.024 1225.21,398.308 1228.41,392.944 1231.29,388.047 1231.96,386.864 1235.41,380.784 1237.37,377.303 1238.79,374.705 1242.07,368.625 1243.45,366.067 1245.29,362.545 1248.44,356.466 1249.53,354.344 1251.52,350.386 1254.54,344.306 1255.61,342.136 1257.5,338.227 1260.41,332.147 1261.69,329.443 1263.26,326.067 1266.07,319.987 1267.77,316.262 1268.83,313.908 1271.55,307.828 1273.85,302.589 1274.21,301.748 1276.86,295.669 1279.44,289.589 1279.93,288.439 1282.01,283.509 1284.53,277.429 1286.01,273.809 1287.01,271.35 1289.48,265.27 1291.88,259.19 1292.09,258.679 1294.3,253.111 1296.66,247.031 1298.17,243.086 1298.99,240.951 1301.31,234.871 1303.58,228.792 1304.25,227.001 1305.85,222.712 1308.09,216.632 1310.28,210.553 1310.32,210.424 1312.49,204.473 1314.66,198.393 1316.4,193.389 1316.79,192.314 1318.94,186.234 1321.03,180.154 1322.48,175.873 1323.11,174.074 1325.2,167.995 1327.23,161.915 \"/>\n",
       "<polyline clip-path=\"url(#clip792)\" style=\"stroke:#000004; stroke-linecap:round; stroke-linejoin:round; stroke-width:4; stroke-opacity:1; fill:none\" points=\"1345.97,161.915 1344.06,167.995 1342.08,174.074 1340.72,178.124 1340.08,180.154 1338.12,186.234 1336.1,192.314 1334.64,196.594 1334.06,198.393 1332.06,204.473 1329.99,210.553 1328.56,214.639 1327.9,216.632 1325.84,222.712 1323.72,228.792 1322.48,232.253 1321.58,234.871 1319.47,240.951 1317.28,247.031 1316.4,249.429 1315.1,253.111 1312.91,259.19 1310.66,265.27 1310.32,266.155 1308.44,271.35 1306.17,277.429 1304.25,282.448 1303.85,283.509 1301.56,289.589 1299.2,295.669 1298.17,298.301 1296.83,301.748 1294.45,307.828 1292.09,313.68 1292,313.908 1289.57,319.987 1287.08,326.067 1286.01,328.64 1284.56,332.147 1282.02,338.227 1279.93,343.123 1279.42,344.306 1276.82,350.386 1274.15,356.466 1273.85,357.154 1271.47,362.545 1268.73,368.625 1267.77,370.742 1265.96,374.705 1263.14,380.784 1261.69,383.865 1260.27,386.864 1257.35,392.944 1255.61,396.528 1254.38,399.024 1251.36,405.103 1249.53,408.733 1248.27,411.183 1245.13,417.263 1243.45,420.481 1241.92,423.342 1238.64,429.422 1237.37,431.769 1235.29,435.502 1231.86,441.582 1231.29,442.593 1228.34,447.661 1225.21,452.966 1224.74,453.741 1221.03,459.821 1219.13,462.896 1217.21,465.9 1213.29,471.98 1213.05,472.347 1209.21,478.06 1206.97,481.376 1205.01,484.14 1200.89,489.924 1200.67,490.219 1196.12,496.299 1194.81,498.053 1191.38,502.379 1188.73,505.728 1186.43,508.458 1182.65,512.954 1181.23,514.538 1176.57,519.742 1175.73,520.618 1170.49,526.1 1169.87,526.697 1164.41,532.034 1163.58,532.777 1158.33,537.549 1156.75,538.857 1152.25,542.648 1149.25,544.937 1146.17,547.334 1140.91,551.016 1140.09,551.605 1134.01,555.506 1131.22,557.096 1127.93,559.019 1121.85,562.154 1119.58,563.176 1115.77,564.945 1109.69,567.391 1104.29,569.255 1103.61,569.497 1097.53,571.337 1091.46,572.885 1085.38,574.177 1079.3,575.252 1078.72,575.335 1073.22,576.188 1067.14,577.01 1061.06,577.788 1054.98,578.613 1048.9,579.604 1042.82,580.926 1041.15,581.415 1036.74,582.887 1030.66,585.849 1028.29,587.495 1024.58,590.583 1022,593.574 1018.5,598.709 1018.01,599.654 1015.46,605.734 1013.54,611.813 1012.42,616.548 1012.16,617.893 1011.28,623.973 1010.67,630.053 1010.29,636.132 1010.11,642.212 1010.09,648.292 1010.21,654.371 1010.46,660.451 1010.82,666.531 1011.27,672.611 1011.8,678.69 1012.41,684.77 1012.42,684.884 1013.15,690.85 1013.96,696.929 1014.83,703.009 1015.74,709.089 1016.71,715.168 1017.71,721.248 1018.5,725.844 1018.77,727.328 1019.95,733.408 1021.16,739.487 1022.39,745.567 1023.65,751.647 1024.58,755.993 1024.97,757.726 1026.4,763.806 1027.84,769.886 1029.31,775.966 1030.66,781.514 1030.8,782.045 1032.42,788.125 1034.06,794.205 1035.71,800.284 1036.74,803.997 1037.43,806.364 1039.25,812.444 1041.07,818.524 1042.82,824.302 1042.91,824.603 1044.91,830.683 1046.91,836.763 1048.9,842.756 1048.93,842.842 1051.11,848.922 1053.3,855.002 1054.98,859.615 1055.54,861.081 1057.93,867.161 1060.32,873.241 1061.06,875.099 1062.85,879.321 1065.45,885.4 1067.14,889.312 1068.13,891.48 1070.97,897.56 1073.22,902.354 1073.86,903.639 1076.96,909.719 1079.3,914.275 1080.13,915.799 1083.53,921.879 1085.38,925.135 1087.1,927.958 1090.85,934.038 1091.46,935.002 1094.94,940.118 1097.53,943.87 1099.29,946.197 1103.61,951.819 1104,952.277 1109.28,958.357 1109.69,958.829 1115.26,964.437 1115.77,964.94 1121.85,970.171 1122.32,970.516 1127.93,974.519 1131.48,976.596 1134.01,978.034 1140.09,980.701 1146.17,982.558 1146.86,982.676 1152.25,983.568 1158.33,983.772 1164.41,983.177 1166.6,982.676 1170.49,981.773 1176.57,979.57 1182.65,976.606 1182.67,976.596 1188.73,972.82 1191.81,970.516 1194.81,968.272 1199.19,964.437 1200.89,962.949 1205.46,958.357 1206.97,956.848 1211,952.277 1213.05,949.971 1216.04,946.197 1219.13,942.329 1220.72,940.118 1225.13,934.038 1225.21,933.934 1229.14,927.958 1231.29,924.739 1233.02,921.879 1236.75,915.799 1237.37,914.804 1240.23,909.719 1243.45,904.101 1243.69,903.639 1246.88,897.56 1249.53,892.623 1250.09,891.48 1253.09,885.4 1255.61,880.388 1256.1,879.321 1258.92,873.241 1261.69,867.397 1261.79,867.161 1264.44,861.081 1267.15,855.002 1267.77,853.622 1269.7,848.922 1272.25,842.842 1273.85,839.089 1274.76,836.763 1277.15,830.683 1279.6,824.603 1279.93,823.804 1281.89,818.524 1284.19,812.444 1286.01,807.738 1286.49,806.364 1288.66,800.284 1290.87,794.205 1292.09,790.902 1293.03,788.125 1295.1,782.045 1297.23,775.966 1298.17,773.302 1299.27,769.886 1301.26,763.806 1303.3,757.726 1304.25,754.93 1305.26,751.647 1307.17,745.567 1309.12,739.487 1310.32,735.782 1311.03,733.408 1312.86,727.328 1314.72,721.248 1316.4,715.867 1316.6,715.168 1318.35,709.089 1320.13,703.009 1321.95,696.929 1322.48,695.151 1323.67,690.85 1325.37,684.77 1327.1,678.69 1328.56,673.663 1328.84,672.611 1330.46,666.531 1332.11,660.451 1333.8,654.371 1334.64,651.371 1335.43,648.292 1337,642.212 1338.61,636.132 1340.25,630.053 1340.72,628.296 1341.79,623.973 1343.31,617.893 1344.87,611.813 1346.46,605.734 1346.8,604.42 1347.94,599.654 1349.41,593.574 1350.92,587.495 1352.45,581.415 1352.88,579.73 1353.9,575.335 1355.32,569.255 1356.77,563.176 1358.25,557.096 1358.96,554.225 1359.68,551.016 1361.05,544.937 1362.45,538.857 1363.88,532.777 1365.04,527.908 1365.3,526.697 1366.62,520.618 1367.97,514.538 1369.34,508.458 1370.74,502.379 1371.12,500.749 1372.05,496.299 1373.34,490.219 1374.66,484.14 1376,478.06 1377.2,472.757 1377.36,471.98 1378.59,465.9 1379.85,459.821 1381.14,453.741 1382.45,447.661 1383.28,443.892 1383.74,441.582 1384.94,435.502 1386.16,429.422 1387.42,423.342 1388.7,417.263 1389.36,414.167 1389.93,411.183 1391.1,405.103 1392.29,399.024 1393.51,392.944 1394.75,386.864 1395.44,383.559 1395.95,380.784 1397.08,374.705 1398.24,368.625 1399.42,362.545 1400.63,356.466 1401.52,352.051 1401.82,350.386 1402.91,344.306 1404.03,338.227 1405.17,332.147 1406.33,326.067 1407.53,319.987 1407.6,319.627 1408.59,313.908 1409.66,307.828 1410.76,301.748 1411.88,295.669 1413.03,289.589 1413.68,286.217 1414.14,283.509 1415.17,277.429 1416.22,271.35 1417.29,265.27 1418.4,259.19 1419.53,253.111 1419.76,251.853 1420.55,247.031 1421.55,240.951 1422.58,234.871 1423.63,228.792 1424.7,222.712 1425.81,216.632 1425.84,216.475 1426.77,210.553 1427.75,204.473 1428.75,198.393 1429.77,192.314 1430.82,186.234 1431.89,180.154 1431.92,180.017 1432.82,174.074 1433.77,167.995 1434.74,161.915 \"/>\n",
       "<polyline clip-path=\"url(#clip792)\" style=\"stroke:#000003; stroke-linecap:round; stroke-linejoin:round; stroke-width:4; stroke-opacity:1; fill:none\" points=\"1413.7,161.915 1413.68,162.114 1412.77,167.995 1411.87,174.074 1410.99,180.154 1410.15,186.234 1409.32,192.314 1408.51,198.393 1407.72,204.473 1407.6,205.397 1406.73,210.553 1405.74,216.632 1404.79,222.712 1403.86,228.792 1402.97,234.871 1402.09,240.951 1401.52,244.911 1401.14,247.031 1400.07,253.111 1399.04,259.19 1398.04,265.27 1397.07,271.35 1396.13,277.429 1395.44,281.913 1395.14,283.509 1394.01,289.589 1392.93,295.669 1391.87,301.748 1390.85,307.828 1389.85,313.908 1389.36,316.929 1388.77,319.987 1387.6,326.067 1386.47,332.147 1385.38,338.227 1384.31,344.306 1383.28,350.356 1383.28,350.386 1382.04,356.466 1380.84,362.545 1379.69,368.625 1378.56,374.705 1377.47,380.784 1377.2,382.274 1376.23,386.864 1374.98,392.944 1373.77,399.024 1372.59,405.103 1371.45,411.183 1371.12,412.922 1370.17,417.263 1368.87,423.342 1367.61,429.422 1366.39,435.502 1365.2,441.582 1365.04,442.387 1363.85,447.661 1362.51,453.741 1361.21,459.821 1359.94,465.9 1358.96,470.708 1358.66,471.98 1357.25,478.06 1355.87,484.14 1354.54,490.219 1353.24,496.299 1352.88,497.966 1351.81,502.379 1350.36,508.458 1348.96,514.538 1347.6,520.618 1346.8,524.2 1346.17,526.697 1344.66,532.777 1343.19,538.857 1341.77,544.937 1340.72,549.46 1340.32,551.016 1338.74,557.096 1337.21,563.176 1335.72,569.255 1334.64,573.756 1334.22,575.335 1332.58,581.415 1330.99,587.495 1329.45,593.574 1328.56,597.112 1327.85,599.654 1326.16,605.734 1324.52,611.813 1322.92,617.893 1322.48,619.567 1321.19,623.973 1319.45,630.053 1317.76,636.132 1316.4,641.125 1316.07,642.212 1314.23,648.292 1312.44,654.371 1310.71,660.451 1310.32,661.791 1308.82,666.531 1306.94,672.611 1305.11,678.69 1304.25,681.581 1303.19,684.77 1301.21,690.85 1299.28,696.929 1298.17,700.518 1297.3,703.009 1295.22,709.089 1293.21,715.168 1292.09,718.601 1291.13,721.248 1288.95,727.328 1286.84,733.408 1286.01,735.838 1284.62,739.487 1282.35,745.567 1280.15,751.647 1279.93,752.251 1277.73,757.726 1275.37,763.806 1273.85,767.797 1272.96,769.886 1270.43,775.966 1267.97,782.045 1267.77,782.54 1265.27,788.125 1262.64,794.205 1261.69,796.421 1259.85,800.284 1257.03,806.364 1255.61,809.489 1254.11,812.444 1251.09,818.524 1249.53,821.731 1247.97,824.603 1244.74,830.683 1243.45,833.147 1241.34,836.763 1237.88,842.842 1237.37,843.746 1234.1,848.922 1231.29,853.497 1230.25,855.002 1226.11,861.081 1225.21,862.424 1221.62,867.161 1219.13,870.506 1216.82,873.241 1213.05,877.762 1211.56,879.321 1206.97,884.171 1205.61,885.4 1200.89,889.72 1198.6,891.48 1194.81,894.409 1189.82,897.56 1188.73,898.25 1182.65,901.178 1176.57,903.25 1174.5,903.639 1170.49,904.385 1164.41,904.593 1158.33,903.865 1157.5,903.639 1152.25,902.125 1146.17,899.386 1143.16,897.56 1140.09,895.592 1134.94,891.48 1134.01,890.705 1128.68,885.4 1127.93,884.62 1123.51,879.321 1121.85,877.242 1119.01,873.241 1115.77,868.486 1114.96,867.161 1111.37,861.081 1109.69,858.112 1108.08,855.002 1105.06,848.922 1103.61,845.864 1102.28,842.842 1099.73,836.763 1097.53,831.26 1097.32,830.683 1095.17,824.603 1093.14,818.524 1091.46,813.181 1091.24,812.444 1089.56,806.364 1088,800.284 1086.56,794.205 1085.38,788.674 1085.26,788.125 1084.17,782.045 1083.21,775.966 1082.41,769.886 1081.75,763.806 1081.28,757.726 1080.98,751.647 1080.89,745.567 1081.03,739.487 1081.4,733.408 1082.04,727.328 1082.96,721.248 1084.21,715.168 1085.38,710.701 1085.83,709.089 1087.9,703.009 1090.4,696.929 1091.46,694.734 1093.43,690.85 1097,684.77 1097.53,683.956 1101.14,678.69 1103.61,675.454 1105.82,672.611 1109.69,668.083 1111.02,666.531 1115.77,661.38 1116.61,660.451 1121.85,655.054 1122.5,654.371 1127.93,648.916 1128.53,648.292 1134.01,642.832 1134.6,642.212 1140.09,636.706 1140.63,636.132 1146.17,630.467 1146.55,630.053 1152.25,624.059 1152.33,623.973 1157.92,617.893 1158.33,617.458 1163.33,611.813 1164.41,610.618 1168.57,605.734 1170.49,603.506 1173.63,599.654 1176.57,596.093 1178.54,593.574 1182.65,588.353 1183.29,587.495 1187.88,581.415 1188.73,580.302 1192.33,575.335 1194.81,571.917 1196.66,569.255 1200.87,563.176 1200.89,563.142 1204.95,557.096 1206.97,554.058 1208.93,551.016 1212.81,544.937 1213.05,544.555 1216.59,538.857 1219.13,534.715 1220.29,532.777 1223.9,526.697 1225.21,524.476 1227.44,520.618 1230.89,514.538 1231.29,513.834 1234.29,508.458 1237.37,502.813 1237.6,502.379 1240.88,496.299 1243.45,491.413 1244.07,490.219 1247.23,484.14 1249.53,479.612 1250.32,478.06 1253.37,471.98 1255.61,467.413 1256.35,465.9 1259.32,459.821 1261.69,454.815 1262.2,453.741 1265.09,447.661 1267.77,441.815 1267.88,441.582 1270.7,435.502 1273.41,429.422 1273.85,428.446 1276.16,423.342 1278.82,417.263 1279.93,414.689 1281.48,411.183 1284.1,405.103 1286.01,400.528 1286.66,399.024 1289.25,392.944 1291.73,386.864 1292.09,385.985 1294.28,380.784 1296.74,374.705 1298.17,371.086 1299.18,368.625 1301.64,362.545 1303.99,356.466 1304.25,355.789 1306.43,350.386 1308.77,344.306 1310.32,340.16 1311.09,338.227 1313.46,332.147 1315.71,326.067 1316.4,324.168 1318.03,319.987 1320.31,313.908 1322.48,307.828 1322.48,307.811 1324.8,301.748 1327,295.669 1328.56,291.177 1329.17,289.589 1331.42,283.509 1333.55,277.429 1334.64,274.219 1335.72,271.35 1337.91,265.27 1339.98,259.19 1340.72,256.964 1342.14,253.111 1344.29,247.031 1346.31,240.951 1346.8,239.439 1348.47,234.871 1350.58,228.792 1352.55,222.712 1352.88,221.679 1354.71,216.632 1356.79,210.553 1358.73,204.473 1358.96,203.72 1360.89,198.393 1362.94,192.314 1364.85,186.234 1365.04,185.608 1367.01,180.154 1369.05,174.074 1370.94,167.995 1371.12,167.4 1373.12,161.915 \"/>\n",
       "<polyline clip-path=\"url(#clip792)\" style=\"stroke:#000003; stroke-linecap:round; stroke-linejoin:round; stroke-width:4; stroke-opacity:1; fill:none\" points=\"1364.88,271.35 1361.58,277.429 1358.96,280.836 1357.86,283.509 1354.97,289.589 1352.88,293.169 1351.92,295.669 1349.33,301.748 1346.8,306.744 1346.4,307.828 1344.02,313.908 1341.24,319.987 1340.72,321.03 1338.83,326.067 1336.29,332.147 1334.64,335.711 1333.71,338.227 1331.31,344.306 1328.62,350.386 1328.56,350.506 1326.31,356.466 1323.77,362.545 1322.48,365.442 1321.27,368.625 1318.84,374.705 1316.4,380.263 1316.2,380.784 1313.83,386.864 1311.25,392.944 1310.32,395.035 1308.76,399.024 1306.24,405.103 1304.25,409.62 1303.62,411.183 1301.14,417.263 1298.46,423.342 1298.17,424.002 1295.95,429.422 1293.31,435.502 1292.09,438.201 1290.68,441.582 1288.04,447.661 1286.01,452.12 1285.32,453.741 1282.67,459.821 1279.93,465.756 1279.86,465.9 1277.2,471.98 1274.37,478.06 1273.85,479.159 1271.61,484.14 1268.75,490.219 1267.77,492.265 1265.91,496.299 1263.01,502.379 1261.69,505.066 1260.08,508.458 1257.12,514.538 1255.61,517.561 1254.12,520.618 1251.09,526.697 1249.53,529.751 1248.01,532.777 1244.9,538.857 1243.45,541.636 1241.75,544.937 1238.54,551.016 1237.37,553.215 1235.31,557.096 1232.01,563.176 1231.29,564.489 1228.69,569.255 1225.28,575.335 1225.21,575.458 1221.87,581.415 1219.13,586.192 1218.37,587.495 1214.85,593.574 1213.05,596.648 1211.26,599.654 1207.62,605.734 1206.97,606.824 1203.94,611.813 1200.89,616.788 1200.2,617.893 1196.42,623.973 1194.81,626.568 1192.59,630.053 1188.73,636.124 1188.73,636.132 1184.84,642.212 1182.65,645.652 1180.92,648.292 1177,654.371 1176.57,655.053 1173.08,660.451 1170.49,664.537 1169.19,666.531 1165.34,672.611 1164.41,674.141 1161.57,678.69 1158.33,684.058 1157.89,684.77 1154.35,690.85 1152.25,694.638 1150.96,696.929 1147.78,703.009 1146.17,706.305 1144.81,709.089 1142.1,715.168 1140.09,720.137 1139.65,721.248 1137.5,727.328 1135.65,733.408 1134.09,739.487 1134.01,739.859 1132.87,745.567 1131.96,751.647 1131.35,757.726 1131.05,763.806 1131.05,769.886 1131.36,775.966 1131.98,782.045 1132.9,788.125 1134.01,793.664 1134.13,794.205 1135.79,800.284 1137.81,806.364 1140.09,812.226 1140.19,812.444 1143.24,818.524 1146.17,823.603 1146.84,824.603 1151.47,830.683 1152.25,831.597 1157.73,836.763 1158.33,837.267 1164.41,841.063 1168.98,842.842 1170.49,843.368 1176.57,844.253 1182.65,843.912 1186.99,842.842 1188.73,842.411 1194.81,839.758 1199.79,836.763 1200.89,836.105 1206.97,831.403 1207.73,830.683 1213.05,825.701 1214.03,824.603 1219.13,819.046 1219.54,818.524 1224.37,812.444 1225.21,811.416 1228.74,806.364 1231.29,802.84 1232.89,800.284 1236.82,794.205 1237.37,793.367 1240.37,788.125 1243.45,782.951 1243.92,782.045 1247.13,775.966 1249.53,771.605 1250.36,769.886 1253.34,763.806 1255.61,759.355 1256.34,757.726 1259.1,751.647 1261.69,746.203 1261.95,745.567 1264.51,739.487 1267.19,733.408 1267.77,732.103 1269.64,727.328 1272.11,721.248 1273.85,717.083 1274.55,715.168 1276.82,709.089 1279.19,703.009 1279.93,701.138 1281.39,696.929 1283.56,690.85 1285.82,684.77 1286.01,684.271 1287.83,678.69 1289.9,672.611 1292.05,666.531 1292.09,666.435 1293.94,660.451 1295.89,654.371 1297.93,648.292 1298.17,647.601 1299.75,642.212 1301.59,636.132 1303.51,630.053 1304.25,627.758 1305.3,623.973 1307.03,617.893 1308.83,611.813 1310.32,606.923 1310.64,605.734 1312.26,599.654 1313.93,593.574 1315.68,587.495 1316.4,584.993 1317.3,581.415 1318.86,575.335 1320.47,569.255 1322.15,563.176 1322.48,561.976 1323.65,557.096 1325.13,551.016 1326.67,544.937 1328.27,538.857 1328.56,537.764 1329.69,532.777 1331.09,526.697 1332.55,520.618 1334.07,514.538 1334.64,512.258 1335.45,508.458 1336.77,502.379 1338.13,496.299 1339.56,490.219 1340.72,485.384 1340.98,484.14 1342.2,478.06 1343.46,471.98 1344.76,465.9 1346.13,459.821 1346.8,456.878 1347.39,453.741 1348.54,447.661 1349.73,441.582 1350.96,435.502 1352.25,429.422 1352.88,426.482 1353.43,423.342 1354.49,417.263 1355.58,411.183 1356.7,405.103 1357.88,399.024 1358.96,393.648 1359.08,392.944 1360.01,386.864 1360.97,380.784 1361.96,374.705 1362.98,368.625 1364.03,362.545 1365.04,356.978 1365.11,356.466 1365.9,350.386 1366.7,344.306 1367.49,338.227 1368.29,332.147 1369.1,326.067 1369.91,319.987 1370.74,313.908 1371.12,310.876 1371.38,307.828 1371.82,301.748 1372.18,295.669 1372.42,289.589 1372.48,283.509 1372.27,277.429 1371.56,271.35 1371.12,269.432 1365.04,271.01 1364.88,271.35 \"/>\n",
       "<polyline clip-path=\"url(#clip792)\" style=\"stroke:#000003; stroke-linecap:round; stroke-linejoin:round; stroke-width:4; stroke-opacity:1; fill:none\" points=\"1285.85,551.016 1280.35,557.096 1279.93,557.386 1276.69,563.176 1273.85,566.886 1272.67,569.255 1269.2,575.335 1267.77,577.46 1265.86,581.415 1262.43,587.495 1261.69,588.7 1259.39,593.574 1256.05,599.654 1255.61,600.423 1253.16,605.734 1249.93,611.813 1249.53,612.544 1247.11,617.893 1244.01,623.973 1243.45,625.056 1241.24,630.053 1238.31,636.132 1237.37,638.027 1235.57,642.212 1232.84,648.292 1231.29,651.618 1230.16,654.371 1227.68,660.451 1225.21,666.135 1225.06,666.531 1222.9,672.611 1220.71,678.69 1219.13,683.151 1218.62,684.77 1217.01,690.85 1215.58,696.929 1214.46,703.009 1213.88,709.089 1214.42,715.168 1217.9,721.248 1219.13,722.139 1222.83,721.248 1225.21,720.748 1231.29,715.81 1231.78,715.168 1236.92,709.089 1237.37,708.612 1240.89,703.009 1243.45,699.464 1244.78,696.929 1248.23,690.85 1249.53,688.747 1251.34,684.77 1254.39,678.69 1255.61,676.425 1257.14,672.611 1259.77,666.531 1261.69,662.512 1262.43,660.451 1264.66,654.371 1267.19,648.292 1267.77,646.929 1269.26,642.212 1271.31,636.132 1273.62,630.053 1273.85,629.455 1275.36,623.973 1277.14,617.893 1279.12,611.813 1279.93,609.4 1280.8,605.734 1282.23,599.654 1283.76,593.574 1285.44,587.495 1286.01,585.398 1286.71,581.415 1287.66,575.335 1288.51,569.255 1289.13,563.176 1289.15,557.096 1286.38,551.016 1286.01,550.774 1285.85,551.016 \"/>\n",
       "<circle clip-path=\"url(#clip792)\" cx=\"1251.96\" cy=\"645.86\" r=\"18\" fill=\"#ff0000\" fill-rule=\"evenodd\" fill-opacity=\"1\" stroke=\"#000000\" stroke-opacity=\"1\" stroke-width=\"3.2\"/>\n",
       "<circle clip-path=\"url(#clip792)\" cx=\"1251.96\" cy=\"645.86\" r=\"18\" fill=\"#ff0000\" fill-rule=\"evenodd\" fill-opacity=\"1\" stroke=\"#000000\" stroke-opacity=\"1\" stroke-width=\"3.2\"/>\n",
       "<defs>\n",
       "  <clipPath id=\"clip793\">\n",
       "    <rect x=\"2160\" y=\"125\" width=\"73\" height=\"1283\"/>\n",
       "  </clipPath>\n",
       "</defs>\n",
       "<polyline clip-path=\"url(#clip793)\" style=\"stroke:#000003; stroke-linecap:round; stroke-linejoin:round; stroke-width:4; stroke-opacity:1; fill:none\" points=\"2160.76,1407.94 2232.76,1407.94 \"/>\n",
       "<polyline clip-path=\"url(#clip793)\" style=\"stroke:#000003; stroke-linecap:round; stroke-linejoin:round; stroke-width:4; stroke-opacity:1; fill:none\" points=\"2160.76,1406.7 2232.76,1406.7 \"/>\n",
       "<polyline clip-path=\"url(#clip793)\" style=\"stroke:#000004; stroke-linecap:round; stroke-linejoin:round; stroke-width:4; stroke-opacity:1; fill:none\" points=\"2160.76,1405.33 2232.76,1405.33 \"/>\n",
       "<polyline clip-path=\"url(#clip793)\" style=\"stroke:#000004; stroke-linecap:round; stroke-linejoin:round; stroke-width:4; stroke-opacity:1; fill:none\" points=\"2160.76,1402.59 2232.76,1402.59 \"/>\n",
       "<polyline clip-path=\"url(#clip793)\" style=\"stroke:#000006; stroke-linecap:round; stroke-linejoin:round; stroke-width:4; stroke-opacity:1; fill:none\" points=\"2160.76,1399.85 2232.76,1399.85 \"/>\n",
       "<path clip-path=\"url(#clip790)\" d=\"M2269.43 1280.78 L2277.07 1280.78 L2277.07 1254.41 L2268.76 1256.08 L2268.76 1251.82 L2277.02 1250.15 L2281.7 1250.15 L2281.7 1280.78 L2289.33 1280.78 L2289.33 1284.71 L2269.43 1284.71 L2269.43 1280.78 Z\" fill=\"#000000\" fill-rule=\"nonzero\" fill-opacity=\"1\" /><path clip-path=\"url(#clip790)\" d=\"M2308.78 1253.23 Q2305.17 1253.23 2303.34 1256.79 Q2301.53 1260.34 2301.53 1267.47 Q2301.53 1274.57 2303.34 1278.14 Q2305.17 1281.68 2308.78 1281.68 Q2312.41 1281.68 2314.22 1278.14 Q2316.05 1274.57 2316.05 1267.47 Q2316.05 1260.34 2314.22 1256.79 Q2312.41 1253.23 2308.78 1253.23 M2308.78 1249.53 Q2314.59 1249.53 2317.64 1254.13 Q2320.72 1258.72 2320.72 1267.47 Q2320.72 1276.19 2317.64 1280.8 Q2314.59 1285.38 2308.78 1285.38 Q2302.97 1285.38 2299.89 1280.8 Q2296.83 1276.19 2296.83 1267.47 Q2296.83 1258.72 2299.89 1254.13 Q2302.97 1249.53 2308.78 1249.53 Z\" fill=\"#000000\" fill-rule=\"nonzero\" fill-opacity=\"1\" /><path clip-path=\"url(#clip790)\" d=\"M2338.94 1253.23 Q2335.33 1253.23 2333.5 1256.79 Q2331.7 1260.34 2331.7 1267.47 Q2331.7 1274.57 2333.5 1278.14 Q2335.33 1281.68 2338.94 1281.68 Q2342.57 1281.68 2344.38 1278.14 Q2346.21 1274.57 2346.21 1267.47 Q2346.21 1260.34 2344.38 1256.79 Q2342.57 1253.23 2338.94 1253.23 M2338.94 1249.53 Q2344.75 1249.53 2347.81 1254.13 Q2350.89 1258.72 2350.89 1267.47 Q2350.89 1276.19 2347.81 1280.8 Q2344.75 1285.38 2338.94 1285.38 Q2333.13 1285.38 2330.05 1280.8 Q2327 1276.19 2327 1267.47 Q2327 1258.72 2330.05 1254.13 Q2333.13 1249.53 2338.94 1249.53 Z\" fill=\"#000000\" fill-rule=\"nonzero\" fill-opacity=\"1\" /><path clip-path=\"url(#clip790)\" d=\"M2274.38 1143.76 L2290.7 1143.76 L2290.7 1147.7 L2268.76 1147.7 L2268.76 1143.76 Q2271.42 1141.01 2276 1136.38 Q2280.61 1131.72 2281.79 1130.38 Q2284.03 1127.86 2284.91 1126.12 Q2285.82 1124.36 2285.82 1122.67 Q2285.82 1119.92 2283.87 1118.18 Q2281.95 1116.45 2278.85 1116.45 Q2276.65 1116.45 2274.2 1117.21 Q2271.77 1117.97 2268.99 1119.53 L2268.99 1114.8 Q2271.81 1113.67 2274.27 1113.09 Q2276.72 1112.51 2278.76 1112.51 Q2284.13 1112.51 2287.32 1115.2 Q2290.52 1117.88 2290.52 1122.37 Q2290.52 1124.5 2289.7 1126.42 Q2288.92 1128.32 2286.81 1130.91 Q2286.23 1131.59 2283.13 1134.8 Q2280.03 1138 2274.38 1143.76 Z\" fill=\"#000000\" fill-rule=\"nonzero\" fill-opacity=\"1\" /><path clip-path=\"url(#clip790)\" d=\"M2310.51 1116.22 Q2306.9 1116.22 2305.08 1119.78 Q2303.27 1123.32 2303.27 1130.45 Q2303.27 1137.56 2305.08 1141.12 Q2306.9 1144.66 2310.51 1144.66 Q2314.15 1144.66 2315.95 1141.12 Q2317.78 1137.56 2317.78 1130.45 Q2317.78 1123.32 2315.95 1119.78 Q2314.15 1116.22 2310.51 1116.22 M2310.51 1112.51 Q2316.33 1112.51 2319.38 1117.12 Q2322.46 1121.7 2322.46 1130.45 Q2322.46 1139.18 2319.38 1143.78 Q2316.33 1148.37 2310.51 1148.37 Q2304.7 1148.37 2301.63 1143.78 Q2298.57 1139.18 2298.57 1130.45 Q2298.57 1121.7 2301.63 1117.12 Q2304.7 1112.51 2310.51 1112.51 Z\" fill=\"#000000\" fill-rule=\"nonzero\" fill-opacity=\"1\" /><path clip-path=\"url(#clip790)\" d=\"M2340.68 1116.22 Q2337.07 1116.22 2335.24 1119.78 Q2333.43 1123.32 2333.43 1130.45 Q2333.43 1137.56 2335.24 1141.12 Q2337.07 1144.66 2340.68 1144.66 Q2344.31 1144.66 2346.12 1141.12 Q2347.95 1137.56 2347.95 1130.45 Q2347.95 1123.32 2346.12 1119.78 Q2344.31 1116.22 2340.68 1116.22 M2340.68 1112.51 Q2346.49 1112.51 2349.54 1117.12 Q2352.62 1121.7 2352.62 1130.45 Q2352.62 1139.18 2349.54 1143.78 Q2346.49 1148.37 2340.68 1148.37 Q2334.87 1148.37 2331.79 1143.78 Q2328.73 1139.18 2328.73 1130.45 Q2328.73 1121.7 2331.79 1117.12 Q2334.87 1112.51 2340.68 1112.51 Z\" fill=\"#000000\" fill-rule=\"nonzero\" fill-opacity=\"1\" /><path clip-path=\"url(#clip790)\" d=\"M2284.38 992.048 Q2287.74 992.765 2289.61 995.034 Q2291.51 997.302 2291.51 1000.64 Q2291.51 1005.75 2287.99 1008.55 Q2284.47 1011.35 2277.99 1011.35 Q2275.82 1011.35 2273.5 1010.91 Q2271.21 1010.5 2268.76 1009.64 L2268.76 1005.13 Q2270.7 1006.26 2273.02 1006.84 Q2275.33 1007.42 2277.85 1007.42 Q2282.25 1007.42 2284.54 1005.68 Q2286.86 1003.95 2286.86 1000.64 Q2286.86 997.58 2284.7 995.867 Q2282.58 994.131 2278.76 994.131 L2274.73 994.131 L2274.73 990.289 L2278.94 990.289 Q2282.39 990.289 2284.22 988.923 Q2286.05 987.534 2286.05 984.941 Q2286.05 982.279 2284.15 980.867 Q2282.27 979.432 2278.76 979.432 Q2276.83 979.432 2274.64 979.849 Q2272.44 980.265 2269.8 981.145 L2269.8 976.978 Q2272.46 976.238 2274.77 975.867 Q2277.11 975.497 2279.17 975.497 Q2284.5 975.497 2287.6 977.927 Q2290.7 980.335 2290.7 984.455 Q2290.7 987.326 2289.06 989.316 Q2287.41 991.284 2284.38 992.048 Z\" fill=\"#000000\" fill-rule=\"nonzero\" fill-opacity=\"1\" /><path clip-path=\"url(#clip790)\" d=\"M2310.38 979.201 Q2306.76 979.201 2304.94 982.765 Q2303.13 986.307 2303.13 993.437 Q2303.13 1000.54 2304.94 1004.11 Q2306.76 1007.65 2310.38 1007.65 Q2314.01 1007.65 2315.82 1004.11 Q2317.64 1000.54 2317.64 993.437 Q2317.64 986.307 2315.82 982.765 Q2314.01 979.201 2310.38 979.201 M2310.38 975.497 Q2316.19 975.497 2319.24 980.103 Q2322.32 984.687 2322.32 993.437 Q2322.32 1002.16 2319.24 1006.77 Q2316.19 1011.35 2310.38 1011.35 Q2304.57 1011.35 2301.49 1006.77 Q2298.43 1002.16 2298.43 993.437 Q2298.43 984.687 2301.49 980.103 Q2304.57 975.497 2310.38 975.497 Z\" fill=\"#000000\" fill-rule=\"nonzero\" fill-opacity=\"1\" /><path clip-path=\"url(#clip790)\" d=\"M2340.54 979.201 Q2336.93 979.201 2335.1 982.765 Q2333.29 986.307 2333.29 993.437 Q2333.29 1000.54 2335.1 1004.11 Q2336.93 1007.65 2340.54 1007.65 Q2344.17 1007.65 2345.98 1004.11 Q2347.81 1000.54 2347.81 993.437 Q2347.81 986.307 2345.98 982.765 Q2344.17 979.201 2340.54 979.201 M2340.54 975.497 Q2346.35 975.497 2349.4 980.103 Q2352.48 984.687 2352.48 993.437 Q2352.48 1002.16 2349.4 1006.77 Q2346.35 1011.35 2340.54 1011.35 Q2334.73 1011.35 2331.65 1006.77 Q2328.59 1002.16 2328.59 993.437 Q2328.59 984.687 2331.65 980.103 Q2334.73 975.497 2340.54 975.497 Z\" fill=\"#000000\" fill-rule=\"nonzero\" fill-opacity=\"1\" /><path clip-path=\"url(#clip790)\" d=\"M2284.36 843.182 L2272.55 861.631 L2284.36 861.631 L2284.36 843.182 M2283.13 839.108 L2289.01 839.108 L2289.01 861.631 L2293.94 861.631 L2293.94 865.519 L2289.01 865.519 L2289.01 873.668 L2284.36 873.668 L2284.36 865.519 L2268.76 865.519 L2268.76 861.006 L2283.13 839.108 Z\" fill=\"#000000\" fill-rule=\"nonzero\" fill-opacity=\"1\" /><path clip-path=\"url(#clip790)\" d=\"M2311.67 842.186 Q2308.06 842.186 2306.23 845.751 Q2304.43 849.293 2304.43 856.422 Q2304.43 863.529 2306.23 867.093 Q2308.06 870.635 2311.67 870.635 Q2315.31 870.635 2317.11 867.093 Q2318.94 863.529 2318.94 856.422 Q2318.94 849.293 2317.11 845.751 Q2315.31 842.186 2311.67 842.186 M2311.67 838.483 Q2317.48 838.483 2320.54 843.089 Q2323.62 847.672 2323.62 856.422 Q2323.62 865.149 2320.54 869.756 Q2317.48 874.339 2311.67 874.339 Q2305.86 874.339 2302.78 869.756 Q2299.73 865.149 2299.73 856.422 Q2299.73 847.672 2302.78 843.089 Q2305.86 838.483 2311.67 838.483 Z\" fill=\"#000000\" fill-rule=\"nonzero\" fill-opacity=\"1\" /><path clip-path=\"url(#clip790)\" d=\"M2341.83 842.186 Q2338.22 842.186 2336.39 845.751 Q2334.59 849.293 2334.59 856.422 Q2334.59 863.529 2336.39 867.093 Q2338.22 870.635 2341.83 870.635 Q2345.47 870.635 2347.27 867.093 Q2349.1 863.529 2349.1 856.422 Q2349.1 849.293 2347.27 845.751 Q2345.47 842.186 2341.83 842.186 M2341.83 838.483 Q2347.64 838.483 2350.7 843.089 Q2353.78 847.672 2353.78 856.422 Q2353.78 865.149 2350.7 869.756 Q2347.64 874.339 2341.83 874.339 Q2336.02 874.339 2332.95 869.756 Q2329.89 865.149 2329.89 856.422 Q2329.89 847.672 2332.95 843.089 Q2336.02 838.483 2341.83 838.483 Z\" fill=\"#000000\" fill-rule=\"nonzero\" fill-opacity=\"1\" /><path clip-path=\"url(#clip790)\" d=\"M2270.21 702.093 L2288.57 702.093 L2288.57 706.028 L2274.5 706.028 L2274.5 714.5 Q2275.52 714.153 2276.53 713.991 Q2277.55 713.806 2278.57 713.806 Q2284.36 713.806 2287.74 716.977 Q2291.12 720.149 2291.12 725.565 Q2291.12 731.144 2287.64 734.246 Q2284.17 737.324 2277.85 737.324 Q2275.68 737.324 2273.41 736.954 Q2271.16 736.584 2268.76 735.843 L2268.76 731.144 Q2270.84 732.278 2273.06 732.834 Q2275.28 733.389 2277.76 733.389 Q2281.77 733.389 2284.1 731.283 Q2286.44 729.176 2286.44 725.565 Q2286.44 721.954 2284.1 719.848 Q2281.77 717.741 2277.76 717.741 Q2275.89 717.741 2274.01 718.158 Q2272.16 718.575 2270.21 719.454 L2270.21 702.093 Z\" fill=\"#000000\" fill-rule=\"nonzero\" fill-opacity=\"1\" /><path clip-path=\"url(#clip790)\" d=\"M2310.33 705.172 Q2306.72 705.172 2304.89 708.737 Q2303.08 712.278 2303.08 719.408 Q2303.08 726.514 2304.89 730.079 Q2306.72 733.621 2310.33 733.621 Q2313.96 733.621 2315.77 730.079 Q2317.6 726.514 2317.6 719.408 Q2317.6 712.278 2315.77 708.737 Q2313.96 705.172 2310.33 705.172 M2310.33 701.468 Q2316.14 701.468 2319.2 706.075 Q2322.27 710.658 2322.27 719.408 Q2322.27 728.135 2319.2 732.741 Q2316.14 737.324 2310.33 737.324 Q2304.52 737.324 2301.44 732.741 Q2298.39 728.135 2298.39 719.408 Q2298.39 710.658 2301.44 706.075 Q2304.52 701.468 2310.33 701.468 Z\" fill=\"#000000\" fill-rule=\"nonzero\" fill-opacity=\"1\" /><path clip-path=\"url(#clip790)\" d=\"M2340.49 705.172 Q2336.88 705.172 2335.05 708.737 Q2333.25 712.278 2333.25 719.408 Q2333.25 726.514 2335.05 730.079 Q2336.88 733.621 2340.49 733.621 Q2344.13 733.621 2345.93 730.079 Q2347.76 726.514 2347.76 719.408 Q2347.76 712.278 2345.93 708.737 Q2344.13 705.172 2340.49 705.172 M2340.49 701.468 Q2346.3 701.468 2349.36 706.075 Q2352.44 710.658 2352.44 719.408 Q2352.44 728.135 2349.36 732.741 Q2346.3 737.324 2340.49 737.324 Q2334.68 737.324 2331.6 732.741 Q2328.55 728.135 2328.55 719.408 Q2328.55 710.658 2331.6 706.075 Q2334.68 701.468 2340.49 701.468 Z\" fill=\"#000000\" fill-rule=\"nonzero\" fill-opacity=\"1\" /><path clip-path=\"url(#clip790)\" d=\"M2281.09 580.495 Q2277.95 580.495 2276.09 582.648 Q2274.27 584.801 2274.27 588.551 Q2274.27 592.278 2276.09 594.454 Q2277.95 596.606 2281.09 596.606 Q2284.24 596.606 2286.07 594.454 Q2287.92 592.278 2287.92 588.551 Q2287.92 584.801 2286.07 582.648 Q2284.24 580.495 2281.09 580.495 M2290.38 565.843 L2290.38 570.102 Q2288.62 569.269 2286.81 568.829 Q2285.03 568.389 2283.27 568.389 Q2278.64 568.389 2276.19 571.514 Q2273.76 574.639 2273.41 580.958 Q2274.77 578.944 2276.83 577.88 Q2278.89 576.792 2281.37 576.792 Q2286.58 576.792 2289.59 579.963 Q2292.62 583.111 2292.62 588.551 Q2292.62 593.875 2289.47 597.092 Q2286.33 600.31 2281.09 600.31 Q2275.1 600.31 2271.93 595.727 Q2268.76 591.12 2268.76 582.393 Q2268.76 574.199 2272.64 569.338 Q2276.53 564.454 2283.08 564.454 Q2284.84 564.454 2286.63 564.801 Q2288.43 565.148 2290.38 565.843 Z\" fill=\"#000000\" fill-rule=\"nonzero\" fill-opacity=\"1\" /><path clip-path=\"url(#clip790)\" d=\"M2310.68 568.157 Q2307.07 568.157 2305.24 571.722 Q2303.43 575.264 2303.43 582.393 Q2303.43 589.5 2305.24 593.065 Q2307.07 596.606 2310.68 596.606 Q2314.31 596.606 2316.12 593.065 Q2317.95 589.5 2317.95 582.393 Q2317.95 575.264 2316.12 571.722 Q2314.31 568.157 2310.68 568.157 M2310.68 564.454 Q2316.49 564.454 2319.54 569.06 Q2322.62 573.643 2322.62 582.393 Q2322.62 591.12 2319.54 595.727 Q2316.49 600.31 2310.68 600.31 Q2304.87 600.31 2301.79 595.727 Q2298.73 591.12 2298.73 582.393 Q2298.73 573.643 2301.79 569.06 Q2304.87 564.454 2310.68 564.454 Z\" fill=\"#000000\" fill-rule=\"nonzero\" fill-opacity=\"1\" /><path clip-path=\"url(#clip790)\" d=\"M2340.84 568.157 Q2337.23 568.157 2335.4 571.722 Q2333.59 575.264 2333.59 582.393 Q2333.59 589.5 2335.4 593.065 Q2337.23 596.606 2340.84 596.606 Q2344.47 596.606 2346.28 593.065 Q2348.11 589.5 2348.11 582.393 Q2348.11 575.264 2346.28 571.722 Q2344.47 568.157 2340.84 568.157 M2340.84 564.454 Q2346.65 564.454 2349.7 569.06 Q2352.78 573.643 2352.78 582.393 Q2352.78 591.12 2349.7 595.727 Q2346.65 600.31 2340.84 600.31 Q2335.03 600.31 2331.95 595.727 Q2328.89 591.12 2328.89 582.393 Q2328.89 573.643 2331.95 569.06 Q2335.03 564.454 2340.84 564.454 Z\" fill=\"#000000\" fill-rule=\"nonzero\" fill-opacity=\"1\" /><path clip-path=\"url(#clip790)\" d=\"M2268.76 428.064 L2290.98 428.064 L2290.98 430.055 L2278.43 462.624 L2273.55 462.624 L2285.35 431.999 L2268.76 431.999 L2268.76 428.064 Z\" fill=\"#000000\" fill-rule=\"nonzero\" fill-opacity=\"1\" /><path clip-path=\"url(#clip790)\" d=\"M2310.1 431.143 Q2306.49 431.143 2304.66 434.708 Q2302.85 438.249 2302.85 445.379 Q2302.85 452.485 2304.66 456.05 Q2306.49 459.592 2310.1 459.592 Q2313.73 459.592 2315.54 456.05 Q2317.37 452.485 2317.37 445.379 Q2317.37 438.249 2315.54 434.708 Q2313.73 431.143 2310.1 431.143 M2310.1 427.439 Q2315.91 427.439 2318.96 432.046 Q2322.04 436.629 2322.04 445.379 Q2322.04 454.106 2318.96 458.712 Q2315.91 463.296 2310.1 463.296 Q2304.29 463.296 2301.21 458.712 Q2298.15 454.106 2298.15 445.379 Q2298.15 436.629 2301.21 432.046 Q2304.29 427.439 2310.1 427.439 Z\" fill=\"#000000\" fill-rule=\"nonzero\" fill-opacity=\"1\" /><path clip-path=\"url(#clip790)\" d=\"M2340.26 431.143 Q2336.65 431.143 2334.82 434.708 Q2333.01 438.249 2333.01 445.379 Q2333.01 452.485 2334.82 456.05 Q2336.65 459.592 2340.26 459.592 Q2343.89 459.592 2345.7 456.05 Q2347.53 452.485 2347.53 445.379 Q2347.53 438.249 2345.7 434.708 Q2343.89 431.143 2340.26 431.143 M2340.26 427.439 Q2346.07 427.439 2349.13 432.046 Q2352.2 436.629 2352.2 445.379 Q2352.2 454.106 2349.13 458.712 Q2346.07 463.296 2340.26 463.296 Q2334.45 463.296 2331.37 458.712 Q2328.32 454.106 2328.32 445.379 Q2328.32 436.629 2331.37 432.046 Q2334.45 427.439 2340.26 427.439 Z\" fill=\"#000000\" fill-rule=\"nonzero\" fill-opacity=\"1\" /><path clip-path=\"url(#clip790)\" d=\"M2280.61 309.198 Q2277.27 309.198 2275.35 310.98 Q2273.45 312.763 2273.45 315.888 Q2273.45 319.013 2275.35 320.795 Q2277.27 322.578 2280.61 322.578 Q2283.94 322.578 2285.86 320.795 Q2287.78 318.99 2287.78 315.888 Q2287.78 312.763 2285.86 310.98 Q2283.96 309.198 2280.61 309.198 M2275.93 307.207 Q2272.92 306.466 2271.23 304.406 Q2269.57 302.346 2269.57 299.383 Q2269.57 295.24 2272.51 292.832 Q2275.47 290.425 2280.61 290.425 Q2285.77 290.425 2288.71 292.832 Q2291.65 295.24 2291.65 299.383 Q2291.65 302.346 2289.96 304.406 Q2288.29 306.466 2285.31 307.207 Q2288.69 307.994 2290.56 310.286 Q2292.46 312.578 2292.46 315.888 Q2292.46 320.911 2289.38 323.596 Q2286.33 326.281 2280.61 326.281 Q2274.89 326.281 2271.81 323.596 Q2268.76 320.911 2268.76 315.888 Q2268.76 312.578 2270.65 310.286 Q2272.55 307.994 2275.93 307.207 M2274.22 299.823 Q2274.22 302.508 2275.89 304.013 Q2277.58 305.517 2280.61 305.517 Q2283.62 305.517 2285.31 304.013 Q2287.02 302.508 2287.02 299.823 Q2287.02 297.138 2285.31 295.633 Q2283.62 294.129 2280.61 294.129 Q2277.58 294.129 2275.89 295.633 Q2274.22 297.138 2274.22 299.823 Z\" fill=\"#000000\" fill-rule=\"nonzero\" fill-opacity=\"1\" /><path clip-path=\"url(#clip790)\" d=\"M2310.77 294.129 Q2307.16 294.129 2305.33 297.693 Q2303.52 301.235 2303.52 308.365 Q2303.52 315.471 2305.33 319.036 Q2307.16 322.578 2310.77 322.578 Q2314.4 322.578 2316.21 319.036 Q2318.04 315.471 2318.04 308.365 Q2318.04 301.235 2316.21 297.693 Q2314.4 294.129 2310.77 294.129 M2310.77 290.425 Q2316.58 290.425 2319.64 295.031 Q2322.71 299.615 2322.71 308.365 Q2322.71 317.091 2319.64 321.698 Q2316.58 326.281 2310.77 326.281 Q2304.96 326.281 2301.88 321.698 Q2298.83 317.091 2298.83 308.365 Q2298.83 299.615 2301.88 295.031 Q2304.96 290.425 2310.77 290.425 Z\" fill=\"#000000\" fill-rule=\"nonzero\" fill-opacity=\"1\" /><path clip-path=\"url(#clip790)\" d=\"M2340.93 294.129 Q2337.32 294.129 2335.49 297.693 Q2333.69 301.235 2333.69 308.365 Q2333.69 315.471 2335.49 319.036 Q2337.32 322.578 2340.93 322.578 Q2344.57 322.578 2346.37 319.036 Q2348.2 315.471 2348.2 308.365 Q2348.2 301.235 2346.37 297.693 Q2344.57 294.129 2340.93 294.129 M2340.93 290.425 Q2346.74 290.425 2349.8 295.031 Q2352.88 299.615 2352.88 308.365 Q2352.88 317.091 2349.8 321.698 Q2346.74 326.281 2340.93 326.281 Q2335.12 326.281 2332.04 321.698 Q2328.99 317.091 2328.99 308.365 Q2328.99 299.615 2332.04 295.031 Q2335.12 290.425 2340.93 290.425 Z\" fill=\"#000000\" fill-rule=\"nonzero\" fill-opacity=\"1\" /><path clip-path=\"url(#clip790)\" d=\"M2270.98 187.878 L2270.98 183.619 Q2272.74 184.452 2274.54 184.892 Q2276.35 185.332 2278.08 185.332 Q2282.71 185.332 2285.14 182.23 Q2287.6 179.105 2287.95 172.762 Q2286.6 174.753 2284.54 175.818 Q2282.48 176.883 2279.98 176.883 Q2274.8 176.883 2271.77 173.758 Q2268.76 170.609 2268.76 165.17 Q2268.76 159.846 2271.9 156.628 Q2275.05 153.411 2280.28 153.411 Q2286.28 153.411 2289.43 158.017 Q2292.6 162.6 2292.6 171.35 Q2292.6 179.521 2288.71 184.406 Q2284.84 189.267 2278.29 189.267 Q2276.53 189.267 2274.73 188.92 Q2272.92 188.572 2270.98 187.878 M2280.28 173.225 Q2283.43 173.225 2285.26 171.072 Q2287.11 168.92 2287.11 165.17 Q2287.11 161.443 2285.26 159.29 Q2283.43 157.114 2280.28 157.114 Q2277.14 157.114 2275.28 159.29 Q2273.45 161.443 2273.45 165.17 Q2273.45 168.92 2275.28 171.072 Q2277.14 173.225 2280.28 173.225 Z\" fill=\"#000000\" fill-rule=\"nonzero\" fill-opacity=\"1\" /><path clip-path=\"url(#clip790)\" d=\"M2311 157.114 Q2307.39 157.114 2305.56 160.679 Q2303.76 164.221 2303.76 171.35 Q2303.76 178.457 2305.56 182.021 Q2307.39 185.563 2311 185.563 Q2314.64 185.563 2316.44 182.021 Q2318.27 178.457 2318.27 171.35 Q2318.27 164.221 2316.44 160.679 Q2314.64 157.114 2311 157.114 M2311 153.411 Q2316.81 153.411 2319.87 158.017 Q2322.95 162.6 2322.95 171.35 Q2322.95 180.077 2319.87 184.683 Q2316.81 189.267 2311 189.267 Q2305.19 189.267 2302.11 184.683 Q2299.06 180.077 2299.06 171.35 Q2299.06 162.6 2302.11 158.017 Q2305.19 153.411 2311 153.411 Z\" fill=\"#000000\" fill-rule=\"nonzero\" fill-opacity=\"1\" /><path clip-path=\"url(#clip790)\" d=\"M2341.16 157.114 Q2337.55 157.114 2335.72 160.679 Q2333.92 164.221 2333.92 171.35 Q2333.92 178.457 2335.72 182.021 Q2337.55 185.563 2341.16 185.563 Q2344.8 185.563 2346.6 182.021 Q2348.43 178.457 2348.43 171.35 Q2348.43 164.221 2346.6 160.679 Q2344.8 157.114 2341.16 157.114 M2341.16 153.411 Q2346.97 153.411 2350.03 158.017 Q2353.11 162.6 2353.11 171.35 Q2353.11 180.077 2350.03 184.683 Q2346.97 189.267 2341.16 189.267 Q2335.35 189.267 2332.27 184.683 Q2329.22 180.077 2329.22 171.35 Q2329.22 162.6 2332.27 158.017 Q2335.35 153.411 2341.16 153.411 Z\" fill=\"#000000\" fill-rule=\"nonzero\" fill-opacity=\"1\" /><polyline clip-path=\"url(#clip790)\" style=\"stroke:#000000; stroke-linecap:round; stroke-linejoin:round; stroke-width:4; stroke-opacity:1; fill:none\" points=\"2232.76,1408.07 2232.76,1271.06 2256.76,1271.06 2232.76,1271.06 2232.76,1134.05 2256.76,1134.05 2232.76,1134.05 2232.76,997.031 2256.76,997.031 2232.76,997.031 2232.76,860.016 2256.76,860.016 2232.76,860.016 2232.76,723.002 2256.76,723.002 2232.76,723.002 2232.76,585.988 2256.76,585.988 2232.76,585.988 2232.76,448.973 2256.76,448.973 2232.76,448.973 2232.76,311.959 2256.76,311.959 2232.76,311.959 2232.76,174.944 2256.76,174.944 2232.76,174.944 2232.76,125.619 \"/>\n",
       "<path clip-path=\"url(#clip790)\" d=\"M214.643 329.113 L745.905 329.113 L745.905 173.593 L214.643 173.593  Z\" fill=\"#ffffff\" fill-rule=\"evenodd\" fill-opacity=\"1\"/>\n",
       "<polyline clip-path=\"url(#clip790)\" style=\"stroke:#000000; stroke-linecap:round; stroke-linejoin:round; stroke-width:4; stroke-opacity:1; fill:none\" points=\"214.643,329.113 745.905,329.113 745.905,173.593 214.643,173.593 214.643,329.113 \"/>\n",
       "<path clip-path=\"url(#clip790)\" d=\"M236.46 246.169 L367.365 246.169 L367.365 204.697 L236.46 204.697 L236.46 246.169  Z\" fill=\"#009af9\" fill-rule=\"evenodd\" fill-opacity=\"1\"/>\n",
       "<polyline clip-path=\"url(#clip790)\" style=\"stroke:#000000; stroke-linecap:round; stroke-linejoin:round; stroke-width:8; stroke-opacity:1; fill:none\" points=\"236.46,204.697 367.365,204.697 \"/>\n",
       "<path clip-path=\"url(#clip790)\" d=\"M417.052 210.815 L417.052 215.745 Q414.691 213.546 412.006 212.458 Q409.344 211.37 406.335 211.37 Q400.409 211.37 397.261 215.004 Q394.113 218.615 394.113 225.467 Q394.113 232.296 397.261 235.93 Q400.409 239.541 406.335 239.541 Q409.344 239.541 412.006 238.453 Q414.691 237.365 417.052 235.166 L417.052 240.051 Q414.599 241.717 411.844 242.551 Q409.113 243.384 406.057 243.384 Q398.21 243.384 393.696 238.592 Q389.182 233.777 389.182 225.467 Q389.182 217.134 393.696 212.342 Q398.21 207.528 406.057 207.528 Q409.159 207.528 411.89 208.361 Q414.645 209.171 417.052 210.815 Z\" fill=\"#000000\" fill-rule=\"nonzero\" fill-opacity=\"1\" /><path clip-path=\"url(#clip790)\" d=\"M434.136 219.773 Q430.71 219.773 428.719 222.458 Q426.728 225.12 426.728 229.773 Q426.728 234.426 428.696 237.111 Q430.687 239.773 434.136 239.773 Q437.538 239.773 439.529 237.088 Q441.52 234.402 441.52 229.773 Q441.52 225.166 439.529 222.481 Q437.538 219.773 434.136 219.773 M434.136 216.162 Q439.691 216.162 442.862 219.773 Q446.034 223.384 446.034 229.773 Q446.034 236.139 442.862 239.773 Q439.691 243.384 434.136 243.384 Q428.557 243.384 425.386 239.773 Q422.238 236.139 422.238 229.773 Q422.238 223.384 425.386 219.773 Q428.557 216.162 434.136 216.162 Z\" fill=\"#000000\" fill-rule=\"nonzero\" fill-opacity=\"1\" /><path clip-path=\"url(#clip790)\" d=\"M474.645 227.065 L474.645 242.713 L470.385 242.713 L470.385 227.203 Q470.385 223.523 468.95 221.694 Q467.515 219.865 464.645 219.865 Q461.196 219.865 459.205 222.065 Q457.214 224.264 457.214 228.06 L457.214 242.713 L452.932 242.713 L452.932 216.787 L457.214 216.787 L457.214 220.815 Q458.742 218.477 460.802 217.319 Q462.885 216.162 465.594 216.162 Q470.061 216.162 472.353 218.94 Q474.645 221.694 474.645 227.065 Z\" fill=\"#000000\" fill-rule=\"nonzero\" fill-opacity=\"1\" /><path clip-path=\"url(#clip790)\" d=\"M499.668 217.551 L499.668 221.578 Q497.862 220.653 495.918 220.19 Q493.973 219.727 491.89 219.727 Q488.719 219.727 487.121 220.699 Q485.547 221.671 485.547 223.615 Q485.547 225.097 486.682 225.953 Q487.816 226.787 491.242 227.551 L492.7 227.875 Q497.237 228.847 499.135 230.629 Q501.057 232.389 501.057 235.56 Q501.057 239.171 498.186 241.277 Q495.339 243.384 490.339 243.384 Q488.256 243.384 485.987 242.967 Q483.742 242.574 481.242 241.764 L481.242 237.365 Q483.603 238.592 485.895 239.217 Q488.186 239.819 490.432 239.819 Q493.441 239.819 495.061 238.801 Q496.682 237.759 496.682 235.884 Q496.682 234.148 495.501 233.222 Q494.344 232.296 490.385 231.439 L488.904 231.092 Q484.946 230.259 483.186 228.546 Q481.427 226.81 481.427 223.801 Q481.427 220.143 484.02 218.153 Q486.612 216.162 491.381 216.162 Q493.742 216.162 495.825 216.509 Q497.908 216.856 499.668 217.551 Z\" fill=\"#000000\" fill-rule=\"nonzero\" fill-opacity=\"1\" /><path clip-path=\"url(#clip790)\" d=\"M512.052 209.426 L512.052 216.787 L520.825 216.787 L520.825 220.097 L512.052 220.097 L512.052 234.171 Q512.052 237.342 512.908 238.245 Q513.788 239.148 516.45 239.148 L520.825 239.148 L520.825 242.713 L516.45 242.713 Q511.519 242.713 509.644 240.884 Q507.769 239.032 507.769 234.171 L507.769 220.097 L504.644 220.097 L504.644 216.787 L507.769 216.787 L507.769 209.426 L512.052 209.426 Z\" fill=\"#000000\" fill-rule=\"nonzero\" fill-opacity=\"1\" /><path clip-path=\"url(#clip790)\" d=\"M541.45 220.768 Q540.732 220.352 539.876 220.166 Q539.042 219.958 538.024 219.958 Q534.413 219.958 532.468 222.319 Q530.547 224.657 530.547 229.055 L530.547 242.713 L526.265 242.713 L526.265 216.787 L530.547 216.787 L530.547 220.815 Q531.89 218.453 534.042 217.319 Q536.195 216.162 539.274 216.162 Q539.714 216.162 540.246 216.231 Q540.779 216.278 541.427 216.393 L541.45 220.768 Z\" fill=\"#000000\" fill-rule=\"nonzero\" fill-opacity=\"1\" /><path clip-path=\"url(#clip790)\" d=\"M557.7 229.68 Q552.538 229.68 550.547 230.861 Q548.556 232.041 548.556 234.889 Q548.556 237.157 550.038 238.5 Q551.542 239.819 554.112 239.819 Q557.653 239.819 559.783 237.319 Q561.936 234.796 561.936 230.629 L561.936 229.68 L557.7 229.68 M566.195 227.921 L566.195 242.713 L561.936 242.713 L561.936 238.777 Q560.478 241.139 558.302 242.273 Q556.126 243.384 552.978 243.384 Q548.996 243.384 546.635 241.162 Q544.297 238.916 544.297 235.166 Q544.297 230.791 547.214 228.569 Q550.154 226.347 555.964 226.347 L561.936 226.347 L561.936 225.93 Q561.936 222.99 559.991 221.393 Q558.07 219.773 554.575 219.773 Q552.353 219.773 550.246 220.305 Q548.14 220.838 546.195 221.902 L546.195 217.967 Q548.533 217.065 550.732 216.625 Q552.931 216.162 555.015 216.162 Q560.64 216.162 563.417 219.078 Q566.195 221.995 566.195 227.921 Z\" fill=\"#000000\" fill-rule=\"nonzero\" fill-opacity=\"1\" /><path clip-path=\"url(#clip790)\" d=\"M574.968 216.787 L579.227 216.787 L579.227 242.713 L574.968 242.713 L574.968 216.787 M574.968 206.694 L579.227 206.694 L579.227 212.088 L574.968 212.088 L574.968 206.694 Z\" fill=\"#000000\" fill-rule=\"nonzero\" fill-opacity=\"1\" /><path clip-path=\"url(#clip790)\" d=\"M609.69 227.065 L609.69 242.713 L605.431 242.713 L605.431 227.203 Q605.431 223.523 603.996 221.694 Q602.561 219.865 599.69 219.865 Q596.241 219.865 594.25 222.065 Q592.26 224.264 592.26 228.06 L592.26 242.713 L587.977 242.713 L587.977 216.787 L592.26 216.787 L592.26 220.815 Q593.788 218.477 595.848 217.319 Q597.931 216.162 600.639 216.162 Q605.107 216.162 607.399 218.94 Q609.69 221.694 609.69 227.065 Z\" fill=\"#000000\" fill-rule=\"nonzero\" fill-opacity=\"1\" /><path clip-path=\"url(#clip790)\" d=\"M622.398 209.426 L622.398 216.787 L631.172 216.787 L631.172 220.097 L622.398 220.097 L622.398 234.171 Q622.398 237.342 623.255 238.245 Q624.135 239.148 626.797 239.148 L631.172 239.148 L631.172 242.713 L626.797 242.713 Q621.866 242.713 619.991 240.884 Q618.116 239.032 618.116 234.171 L618.116 220.097 L614.991 220.097 L614.991 216.787 L618.116 216.787 L618.116 209.426 L622.398 209.426 Z\" fill=\"#000000\" fill-rule=\"nonzero\" fill-opacity=\"1\" /><path clip-path=\"url(#clip790)\" d=\"M672.745 209.287 L672.745 213.847 Q670.083 212.574 667.722 211.949 Q665.361 211.324 663.162 211.324 Q659.343 211.324 657.259 212.805 Q655.199 214.287 655.199 217.018 Q655.199 219.31 656.565 220.49 Q657.954 221.648 661.796 222.365 L664.62 222.944 Q669.852 223.94 672.329 226.463 Q674.829 228.963 674.829 233.176 Q674.829 238.199 671.449 240.791 Q668.093 243.384 661.588 243.384 Q659.134 243.384 656.357 242.828 Q653.602 242.273 650.639 241.185 L650.639 236.37 Q653.486 237.967 656.218 238.777 Q658.949 239.588 661.588 239.588 Q665.593 239.588 667.769 238.014 Q669.945 236.439 669.945 233.523 Q669.945 230.977 668.37 229.541 Q666.82 228.106 663.255 227.389 L660.408 226.833 Q655.176 225.791 652.838 223.569 Q650.5 221.347 650.5 217.389 Q650.5 212.805 653.718 210.166 Q656.958 207.528 662.63 207.528 Q665.06 207.528 667.583 207.967 Q670.107 208.407 672.745 209.287 Z\" fill=\"#000000\" fill-rule=\"nonzero\" fill-opacity=\"1\" /><path clip-path=\"url(#clip790)\" d=\"M704.111 228.685 L704.111 230.768 L684.528 230.768 Q684.806 235.166 687.167 237.481 Q689.551 239.773 693.787 239.773 Q696.241 239.773 698.532 239.171 Q700.847 238.569 703.116 237.365 L703.116 241.393 Q700.824 242.365 698.417 242.875 Q696.009 243.384 693.532 243.384 Q687.329 243.384 683.694 239.773 Q680.083 236.162 680.083 230.004 Q680.083 223.639 683.509 219.912 Q686.958 216.162 692.792 216.162 Q698.023 216.162 701.055 219.541 Q704.111 222.898 704.111 228.685 M699.852 227.435 Q699.805 223.94 697.884 221.856 Q695.986 219.773 692.838 219.773 Q689.273 219.773 687.12 221.787 Q684.991 223.801 684.667 227.458 L699.852 227.435 Z\" fill=\"#000000\" fill-rule=\"nonzero\" fill-opacity=\"1\" /><path clip-path=\"url(#clip790)\" d=\"M715.315 209.426 L715.315 216.787 L724.088 216.787 L724.088 220.097 L715.315 220.097 L715.315 234.171 Q715.315 237.342 716.171 238.245 Q717.051 239.148 719.713 239.148 L724.088 239.148 L724.088 242.713 L719.713 242.713 Q714.782 242.713 712.907 240.884 Q711.032 239.032 711.032 234.171 L711.032 220.097 L707.907 220.097 L707.907 216.787 L711.032 216.787 L711.032 209.426 L715.315 209.426 Z\" fill=\"#000000\" fill-rule=\"nonzero\" fill-opacity=\"1\" /><circle clip-path=\"url(#clip790)\" cx=\"301.913\" cy=\"277.273\" r=\"20.9455\" fill=\"#ff0000\" fill-rule=\"evenodd\" fill-opacity=\"1\" stroke=\"#000000\" stroke-opacity=\"1\" stroke-width=\"3.72364\"/>\n",
       "<path clip-path=\"url(#clip790)\" d=\"M389.182 259.993 L393.858 259.993 L393.858 294.553 L389.182 294.553 L389.182 259.993 Z\" fill=\"#000000\" fill-rule=\"nonzero\" fill-opacity=\"1\" /><path clip-path=\"url(#clip790)\" d=\"M424.529 278.905 L424.529 294.553 L420.27 294.553 L420.27 279.043 Q420.27 275.363 418.835 273.534 Q417.4 271.705 414.529 271.705 Q411.08 271.705 409.089 273.905 Q407.099 276.104 407.099 279.9 L407.099 294.553 L402.816 294.553 L402.816 268.627 L407.099 268.627 L407.099 272.655 Q408.626 270.317 410.687 269.159 Q412.77 268.002 415.478 268.002 Q419.946 268.002 422.238 270.78 Q424.529 273.534 424.529 278.905 Z\" fill=\"#000000\" fill-rule=\"nonzero\" fill-opacity=\"1\" /><path clip-path=\"url(#clip790)\" d=\"M433.025 268.627 L437.284 268.627 L437.284 294.553 L433.025 294.553 L433.025 268.627 M433.025 258.534 L437.284 258.534 L437.284 263.928 L433.025 263.928 L433.025 258.534 Z\" fill=\"#000000\" fill-rule=\"nonzero\" fill-opacity=\"1\" /><path clip-path=\"url(#clip790)\" d=\"M450.409 261.266 L450.409 268.627 L459.182 268.627 L459.182 271.937 L450.409 271.937 L450.409 286.011 Q450.409 289.182 451.265 290.085 Q452.145 290.988 454.807 290.988 L459.182 290.988 L459.182 294.553 L454.807 294.553 Q449.876 294.553 448.001 292.724 Q446.126 290.872 446.126 286.011 L446.126 271.937 L443.001 271.937 L443.001 268.627 L446.126 268.627 L446.126 261.266 L450.409 261.266 Z\" fill=\"#000000\" fill-rule=\"nonzero\" fill-opacity=\"1\" /><path clip-path=\"url(#clip790)\" d=\"M464.784 268.627 L469.043 268.627 L469.043 294.553 L464.784 294.553 L464.784 268.627 M464.784 258.534 L469.043 258.534 L469.043 263.928 L464.784 263.928 L464.784 258.534 Z\" fill=\"#000000\" fill-rule=\"nonzero\" fill-opacity=\"1\" /><path clip-path=\"url(#clip790)\" d=\"M489.737 281.52 Q484.575 281.52 482.584 282.701 Q480.594 283.881 480.594 286.729 Q480.594 288.997 482.075 290.34 Q483.58 291.659 486.149 291.659 Q489.691 291.659 491.82 289.159 Q493.973 286.636 493.973 282.469 L493.973 281.52 L489.737 281.52 M498.232 279.761 L498.232 294.553 L493.973 294.553 L493.973 290.617 Q492.515 292.979 490.339 294.113 Q488.163 295.224 485.015 295.224 Q481.034 295.224 478.672 293.002 Q476.334 290.756 476.334 287.006 Q476.334 282.631 479.251 280.409 Q482.191 278.187 488.001 278.187 L493.973 278.187 L493.973 277.77 Q493.973 274.83 492.029 273.233 Q490.108 271.613 486.612 271.613 Q484.39 271.613 482.284 272.145 Q480.177 272.678 478.233 273.742 L478.233 269.807 Q480.571 268.905 482.77 268.465 Q484.969 268.002 487.052 268.002 Q492.677 268.002 495.455 270.918 Q498.232 273.835 498.232 279.761 Z\" fill=\"#000000\" fill-rule=\"nonzero\" fill-opacity=\"1\" /><path clip-path=\"url(#clip790)\" d=\"M507.006 258.534 L511.265 258.534 L511.265 294.553 L507.006 294.553 L507.006 258.534 Z\" fill=\"#000000\" fill-rule=\"nonzero\" fill-opacity=\"1\" /><path clip-path=\"url(#clip790)\" d=\"M540.107 263.835 L540.107 276.821 L545.987 276.821 Q549.251 276.821 551.033 275.131 Q552.816 273.442 552.816 270.317 Q552.816 267.215 551.033 265.525 Q549.251 263.835 545.987 263.835 L540.107 263.835 M535.431 259.993 L545.987 259.993 Q551.797 259.993 554.76 262.631 Q557.746 265.247 557.746 270.317 Q557.746 275.432 554.76 278.048 Q551.797 280.664 545.987 280.664 L540.107 280.664 L540.107 294.553 L535.431 294.553 L535.431 259.993 Z\" fill=\"#000000\" fill-rule=\"nonzero\" fill-opacity=\"1\" /><path clip-path=\"url(#clip790)\" d=\"M572.19 271.613 Q568.765 271.613 566.774 274.298 Q564.783 276.96 564.783 281.613 Q564.783 286.266 566.751 288.951 Q568.741 291.613 572.19 291.613 Q575.593 291.613 577.584 288.928 Q579.575 286.242 579.575 281.613 Q579.575 277.006 577.584 274.321 Q575.593 271.613 572.19 271.613 M572.19 268.002 Q577.746 268.002 580.917 271.613 Q584.089 275.224 584.089 281.613 Q584.089 287.979 580.917 291.613 Q577.746 295.224 572.19 295.224 Q566.612 295.224 563.44 291.613 Q560.292 287.979 560.292 281.613 Q560.292 275.224 563.44 271.613 Q566.612 268.002 572.19 268.002 Z\" fill=\"#000000\" fill-rule=\"nonzero\" fill-opacity=\"1\" /><path clip-path=\"url(#clip790)\" d=\"M591.149 268.627 L595.408 268.627 L595.408 294.553 L591.149 294.553 L591.149 268.627 M591.149 258.534 L595.408 258.534 L595.408 263.928 L591.149 263.928 L591.149 258.534 Z\" fill=\"#000000\" fill-rule=\"nonzero\" fill-opacity=\"1\" /><path clip-path=\"url(#clip790)\" d=\"M625.871 278.905 L625.871 294.553 L621.611 294.553 L621.611 279.043 Q621.611 275.363 620.176 273.534 Q618.741 271.705 615.871 271.705 Q612.422 271.705 610.431 273.905 Q608.44 276.104 608.44 279.9 L608.44 294.553 L604.158 294.553 L604.158 268.627 L608.44 268.627 L608.44 272.655 Q609.968 270.317 612.028 269.159 Q614.111 268.002 616.82 268.002 Q621.287 268.002 623.579 270.78 Q625.871 273.534 625.871 278.905 Z\" fill=\"#000000\" fill-rule=\"nonzero\" fill-opacity=\"1\" /><path clip-path=\"url(#clip790)\" d=\"M638.579 261.266 L638.579 268.627 L647.352 268.627 L647.352 271.937 L638.579 271.937 L638.579 286.011 Q638.579 289.182 639.435 290.085 Q640.315 290.988 642.977 290.988 L647.352 290.988 L647.352 294.553 L642.977 294.553 Q638.047 294.553 636.172 292.724 Q634.297 290.872 634.297 286.011 L634.297 271.937 L631.172 271.937 L631.172 268.627 L634.297 268.627 L634.297 261.266 L638.579 261.266 Z\" fill=\"#000000\" fill-rule=\"nonzero\" fill-opacity=\"1\" /></svg>\n"
      ]
     },
     "metadata": {},
     "output_type": "display_data"
    }
   ],
   "source": [
    "#  Creating the plot\n",
    "# Call the newton function\n",
    "result = newton(x0, a, b, r, λ)\n",
    "\n",
    "# Collect the values of x^k at each step\n",
    "x_steps = []\n",
    "\n",
    "function callback(x, iter, fx)\n",
    "    push!(x_steps, x)\n",
    "end\n",
    "\n",
    "newton(x0, a, b, r, λ, trace=callback)\n",
    "\n",
    "# Define the constraint set plot\n",
    "function plot_constraint_set(r)\n",
    "    θ = LinRange(0, 2π, 100)\n",
    "    x = r .* cos.(θ)\n",
    "    y = r .* sin.(θ)\n",
    "    plot!(x, y, fill=true, aspect_ratio=:equal, linecolor=:black, linewidth=2, label=\"Constraint Set\")\n",
    "end\n",
    "\n",
    "# Define the contours of f plot\n",
    "function plot_contours(a, b)\n",
    "    x = LinRange(-5, 5, 200)\n",
    "    y = LinRange(-5, 5, 200)\n",
    "    contour!(x, y, (x, y) -> Rosenbrock([x, y], a, b), levels=[0.1, 1, 2, 4, 6]) #  Creating the plot\n",
    "end\n",
    "# Plot the progress of the algorithm\n",
    "p = plot()\n",
    "plot_constraint_set(r)\n",
    "plot_contours(a, b)\n",
    "for (i, x) in enumerate(x_steps)\n",
    "    scatter!([x[1]], [x[2]], markersize=5, markercolor=:red, label=i == 1 ? \"Initial Point\" : \"\", legend=:topleft)\n",
    "end\n",
    "display(p)"
   ]
  },
  {
   "cell_type": "markdown",
   "metadata": {},
   "source": [
    "1 a iii"
   ]
  },
  {
   "cell_type": "code",
   "execution_count": 51,
   "metadata": {},
   "outputs": [
    {
     "name": "stdout",
     "output_type": "stream",
     "text": [
      "Results for b = 1.0:\n",
      "Optimisation: (fx = -1.4745270468740155, x = [0.45339765151640377, 0.10278471520029514], iter = 4)\n",
      "Results for b = 100.0:\n",
      "Optimisation: (fx = -1.4564489497067452, x = [0.424345197650557, 0.17828598690008937], iter = 6)\n",
      "Results for b = 1000.0:\n",
      "Optimisation: (fx = -1.4561609057553957, x = [0.42390324404464796, 0.17951444586571064], iter = 7)\n",
      "Results for b = 100000.0:\n",
      "Optimisation: (fx = -1.4561289783648783, x = [0.4238542938576046, 0.17965066591486947], iter = 8)\n",
      "Results for b = 1.0e7:\n",
      "Optimisation: (fx = -1.456128658846272, x = [0.4238538040176953, 0.17965202921506793], iter = 8)\n",
      "Results for b = 1.0e9:\n",
      "Optimisation: (fx = -1.4561286556510615, x = [0.42385379911926235, 0.17965204284817998], iter = 8)\n",
      "Results for b = 1.0e11:\n",
      "Optimisation: (fx = -1.4561286556191093, x = [0.42385379907027804, 0.17965204298451115], iter = 100)\n",
      "Results for x = [10.0, 10.0]:\n",
      "Optimisation: (fx = -1.4745270468740153, x = [0.4533976515164039, 0.10278471520029517], iter = 10)\n",
      "Results for x = [50.0, 50.0]:\n",
      "Optimisation: (fx = -1.4745270468740155, x = [0.4533976515164037, 0.10278471520029514], iter = 15)\n",
      "Results for x = [-200.0, 1500.0]:\n",
      "Optimisation: (fx = -1.4745270468740155, x = [0.45339765151640377, 0.10278471520029515], iter = 19)\n",
      "Results for x = [12345.0, -6789.0]:\n",
      "Optimisation: (fx = -1.4745270468740155, x = [0.45339765151640415, 0.10278471520029513], iter = 29)\n"
     ]
    }
   ],
   "source": [
    "a=1\n",
    "b=1\n",
    "r=2\n",
    "λ = 1\n",
    "x0 = zeros(2)\n",
    "\n",
    "b_values = [1, 100, 1000, 1e5, 1e7, 1e9, 1e11]  # Different values of b to test\n",
    "x_values = [ [10.0, 10.0], [50.0, 50.0], [-200.0, 1500.0], [12345.0, -6789.0]]\n",
    "\n",
    "for b in b_values\n",
    "    result = newton(x0, a, b, r, λ )\n",
    "    println(\"Results for b = $b:\")\n",
    "    println(\"Optimisation: $(result)\")\n",
    "end\n",
    "b = 1\n",
    "for x in x_values\n",
    "    result = newton(x, a, b, r, λ )\n",
    "    println(\"Results for x = $x:\")\n",
    "    println(\"Optimisation: $(result)\")\n",
    "end\n"
   ]
  },
  {
   "cell_type": "markdown",
   "metadata": {},
   "source": [
    "For the Rosenbrock function, which has a narrow and curved valley leading to the minimum, the choice of the initial guess can significantly impact the convergence behavior.\n",
    "\n",
    "Since the Rosenbrock function has a global minimum at \\( (1, 1) \\), it's essential to choose an initial guess that is relatively close to this minimum for efficient convergence. The closer the initial guess is to the true minimum, the faster the convergence is likely to occur.\n",
    "\n",
    "If the initial guess is far from the true minimum, it might take longer for the optimisation algorithm to converge, or it might even get stuck in a local minimum or saddle point.\n",
    "\n",
    "To ensure convergence, especially with gradient-based optimisation algorithms like Newton's method, it's advisable to choose an initial guess that is within the vicinity of the true minimum. However, it's worth noting that even if the initial guess is not very close to the true minimum, the algorithm might still converge if given enough iterations and appropriate step size control mechanisms.\n",
    "\n",
    "Therefore, for the Rosenbrock function, choosing an initial guess that is relatively close to \\( (1, 1) \\) would likely ensure faster convergence. As for how close you need to make \\( x_0 \\) to the true minimum to ensure convergence, it's difficult to give an exact threshold since it depends on various factors such as the specific optimisation algorithm, tolerance settings, and characteristics of the function landscape. However, starting within a few units of distance from the true minimum should generally lead to satisfactory convergence behavior for Newton's method with appropriate parameters.\n",
    "\n",
    "We can see from above that increasing the value of b does not effect the optimisation. Additionally, changing the values of x increases the number of iterations needed to find the optimum but does not effect the accuracy."
   ]
  },
  {
   "cell_type": "markdown",
   "metadata": {},
   "source": [
    "1 a iv"
   ]
  },
  {
   "cell_type": "code",
   "execution_count": 52,
   "metadata": {},
   "outputs": [
    {
     "name": "stdout",
     "output_type": "stream",
     "text": [
      "Results for r = 0.5 and λ = 0:\n",
      "Optimisation: (fx = 0.0, x = [1.0, 1.0], iter = 2)\n",
      "Results for r = 1.0 and λ = 0:\n",
      "Optimisation: (fx = 0.0, x = [1.0, 1.0], iter = 2)\n",
      "Results for r = 100.0 and λ = 0:\n",
      "Optimisation: (fx = 0.0, x = [1.0, 1.0], iter = 2)\n",
      "Results for r = 0.5 and λ = 1:\n",
      "Optimisation: (fx = 0.025472953125984688, x = [0.45339765151640377, 0.10278471520029514], iter = 4)\n",
      "Results for r = 1.0 and λ = 1:\n",
      "Optimisation: (fx = -0.47452704687401537, x = [0.45339765151640377, 0.10278471520029514], iter = 4)\n",
      "Results for r = 100.0 and λ = 1:\n",
      "Optimisation: (fx = -99.47452704687402, x = [0.45339765151640377, 0.10278471520029514], iter = 4)\n",
      "Results for r = 0.5 and λ = 10:\n",
      "Optimisation: (fx = -4.0908471677241005, x = [0.09078541279813622, 0.0007492719251752445], iter = 2)\n",
      "Results for r = 1.0 and λ = 10:\n",
      "Optimisation: (fx = -9.0908471677241, x = [0.09078541279813622, 0.0007492719251752445], iter = 2)\n",
      "Results for r = 100.0 and λ = 10:\n",
      "Optimisation: (fx = -999.0908471677242, x = [0.09078541279813622, 0.0007492719251752445], iter = 2)\n"
     ]
    }
   ],
   "source": [
    "# Repeating the same as above but changing the values of r\n",
    "b=1\n",
    "r=2\n",
    "λ = 0\n",
    "x0 = zeros(2)\n",
    "r_values = [0.5, 1, 100]\n",
    "x_values = [[12345.0, -6789.0]]\n",
    "λ_values = [0, 1, 10]\n",
    "for λ in λ_values\n",
    "    for r in r_values\n",
    "        result = newton(x0, a, b, r, λ )\n",
    "        println(\"Results for r = $r and λ = $λ:\")\n",
    "        println(\"Optimisation: $(result)\")\n",
    "    end\n",
    "end\n"
   ]
  },
  {
   "cell_type": "markdown",
   "metadata": {},
   "source": [
    "It appears from the results above the biggest factor is the value of lambda, as this affects and changes the constraint and when lambda is not equal to 0 we do not converge to the real minimum."
   ]
  },
  {
   "cell_type": "markdown",
   "metadata": {},
   "source": [
    "## Penalty method\n",
    "1 bi"
   ]
  },
  {
   "cell_type": "code",
   "execution_count": 53,
   "metadata": {},
   "outputs": [
    {
     "data": {
      "text/plain": [
       "solve_penalty (generic function with 1 method)"
      ]
     },
     "metadata": {},
     "output_type": "display_data"
    }
   ],
   "source": [
    "using ForwardDiff\n",
    "using Optim\n",
    "\n",
    "a = 10\n",
    "b = 10\n",
    "r = 10\n",
    "function Rosenbrock(x, a, b, r)\n",
    "    sum = 0\n",
    "    for i in 1:length(x)-1\n",
    "        calc = a*(1-x[i])^2 + b*(x[i+1]-x[i])^2\n",
    "        sum += calc\n",
    "    end\n",
    "    return sum\n",
    "end\n",
    "\n",
    "function constraint(x, r)\n",
    "    sum = 0\n",
    "    for i in 1:length(x)\n",
    "        sum += x[i]^2\n",
    "    end\n",
    "    return sum - r\n",
    "end\n",
    "\n",
    "function solve_penalty(P, x0, a, b, r)\n",
    "    # Set up the penalized objective \n",
    "    function objective(x)\n",
    "        return Rosenbrock(x, a, b, r) + P * norm(constraint(x, r))^2\n",
    "    end\n",
    "\n",
    "    # Solve with LBFGS method\n",
    "    ret = optimize(objective, x0, LBFGS())\n",
    "\n",
    "    # Keep things interpretable\n",
    "    return ret\n",
    "end"
   ]
  },
  {
   "cell_type": "code",
   "execution_count": 54,
   "metadata": {},
   "outputs": [
    {
     "name": "stdout",
     "output_type": "stream",
     "text": [
      " * Status: success\n",
      "\n",
      " * Candidate solution\n",
      "    Final objective value:     1.000000e+14\n",
      "\n",
      " * Found with\n",
      "    Algorithm:     L-BFGS\n",
      "\n",
      " * Convergence measures\n",
      "    |x - x'|               = 0.00e+00 ≤ 0.0e+00\n",
      "    |x - x'|/|x'|          = NaN ≰ 0.0e+00\n",
      "    |f(x) - f(x')|         = NaN ≰ 0.0e+00\n",
      "    |f(x) - f(x')|/|f(x')| = NaN ≰ 0.0e+00\n",
      "    |g(x)|                 = 0.00e+00 ≤ 1.0e-08\n",
      "\n",
      " * Work counters\n",
      "    Seconds run:   0  (vs limit Inf)\n",
      "    Iterations:    0\n",
      "    f(x) calls:    1\n",
      "    ∇f(x) calls:   1\n",
      "\n"
     ]
    }
   ],
   "source": [
    "a=10\n",
    "b=10\n",
    "r=10\n",
    "println(solve_penalty(1e12, zeros(10), a, b, r))"
   ]
  },
  {
   "cell_type": "markdown",
   "metadata": {},
   "source": [
    "We see that we do not converge to the minimum of the Rosenbrock function."
   ]
  },
  {
   "cell_type": "markdown",
   "metadata": {},
   "source": [
    "1 b ii"
   ]
  },
  {
   "cell_type": "code",
   "execution_count": 55,
   "metadata": {},
   "outputs": [
    {
     "data": {
      "text/plain": [
       "penalty_method (generic function with 1 method)"
      ]
     },
     "metadata": {},
     "output_type": "display_data"
    }
   ],
   "source": [
    "function penalty_method(x0, a, b, r; tol = 1e-12, γ = 10, trace = false)\n",
    "    iter = 0\n",
    "    num_evals = 0\n",
    "    P = 1\n",
    "    x = copy(x0)\n",
    "    while true\n",
    "        # Solve with penalty parameter P\n",
    "        ret = solve_penalty(P, x, a, b, r)\n",
    "\n",
    "        # Keep track of the total number of function evals (really, LBFGS steps in this case)\n",
    "        num_evals += ret.iterations\n",
    "\n",
    "        # If P is large enough, we're done\n",
    "        P > 1e12 && break\n",
    "\n",
    "        # Otherwise we keep going, using the solution as a warmstart\n",
    "        # Increment P up\n",
    "        x .= ret.minimizer  # Update x with the minimizer found\n",
    "        gx = constraint(x, r)\n",
    "        P *= γ\n",
    "        iter += 1\n",
    "\n",
    "        trace && @info \"Trace\" iter P penalty_violation = gx\n",
    "    end\n",
    "\n",
    "    return (; fx = Rosenbrock(x, a, b, r), x, iter, num_evals)\n",
    "end\n"
   ]
  },
  {
   "cell_type": "code",
   "execution_count": 56,
   "metadata": {},
   "outputs": [
    {
     "name": "stderr",
     "output_type": "stream",
     "text": [
      "┌ Info: Trace\n",
      "│   iter = 1\n",
      "│   P = 10\n",
      "│   penalty_violation = -1.6370904631912708e-11\n",
      "└ @ Main c:\\Users\\s2155729\\Downloads\\Attempt problem set 5 (1).ipynb:23\n",
      "┌ Info: Trace\n",
      "│   iter = 2\n",
      "│   P = 100\n",
      "│   penalty_violation = -1.6370904631912708e-11\n",
      "└ @ Main c:\\Users\\s2155729\\Downloads\\Attempt problem set 5 (1).ipynb:23\n",
      "┌ Info: Trace\n",
      "│   iter = 3\n",
      "│   P = 1000\n",
      "│   penalty_violation = -1.6370904631912708e-11\n",
      "└ @ Main c:\\Users\\s2155729\\Downloads\\Attempt problem set 5 (1).ipynb:23\n",
      "┌ Info: Trace\n",
      "│   iter = 4\n",
      "│   P = 10000\n",
      "│   penalty_violation = -1.6370904631912708e-11\n",
      "└ @ Main c:\\Users\\s2155729\\Downloads\\Attempt problem set 5 (1).ipynb:23\n",
      "┌ Info: Trace\n",
      "│   iter = 5\n",
      "│   P = 100000\n",
      "│   penalty_violation = -1.6370904631912708e-11\n",
      "└ @ Main c:\\Users\\s2155729\\Downloads\\Attempt problem set 5 (1).ipynb:23\n",
      "┌ Info: Trace\n",
      "│   iter = 6\n",
      "│   P = 1000000\n",
      "│   penalty_violation = -1.6370904631912708e-11\n",
      "└ @ Main c:\\Users\\s2155729\\Downloads\\Attempt problem set 5 (1).ipynb:23\n",
      "┌ Info: Trace\n",
      "│   iter = 7\n",
      "│   P = 10000000\n",
      "│   penalty_violation = -1.6370904631912708e-11\n",
      "└ @ Main c:\\Users\\s2155729\\Downloads\\Attempt problem set 5 (1).ipynb:23\n",
      "┌ Info: Trace\n",
      "│   iter = 8\n",
      "│   P = 100000000\n",
      "│   penalty_violation = -1.6370904631912708e-11\n",
      "└ @ Main c:\\Users\\s2155729\\Downloads\\Attempt problem set 5 (1).ipynb:23\n",
      "┌ Info: Trace\n",
      "│   iter = 9\n",
      "│   P = 1000000000\n",
      "│   penalty_violation = -1.6370904631912708e-11\n",
      "└ @ Main c:\\Users\\s2155729\\Downloads\\Attempt problem set 5 (1).ipynb:23\n",
      "┌ Info: Trace\n",
      "│   iter = 10\n",
      "│   P = 10000000000\n",
      "│   penalty_violation = -1.6370904631912708e-11\n",
      "└ @ Main c:\\Users\\s2155729\\Downloads\\Attempt problem set 5 (1).ipynb:23\n",
      "┌ Info: Trace\n",
      "│   iter = 11\n",
      "│   P = 100000000000\n",
      "│   penalty_violation = -1.6370904631912708e-11\n",
      "└ @ Main c:\\Users\\s2155729\\Downloads\\Attempt problem set 5 (1).ipynb:23\n",
      "┌ Info: Trace\n",
      "│   iter = 12\n",
      "│   P = 1000000000000\n",
      "│   penalty_violation = -1.6370904631912708e-11\n",
      "└ @ Main c:\\Users\\s2155729\\Downloads\\Attempt problem set 5 (1).ipynb:23\n",
      "┌ Info: Trace\n",
      "│   iter = 13\n",
      "│   P = 10000000000000\n",
      "│   penalty_violation = -1.6370904631912708e-11\n",
      "└ @ Main c:\\Users\\s2155729\\Downloads\\Attempt problem set 5 (1).ipynb:23\n"
     ]
    },
    {
     "data": {
      "text/plain": [
       "(fx = 1.0261426364130259e-20, x = [0.9999999999898055, 0.9999999999897117, 1.0000000000014042, 0.9999999999989639, 1.0000000000071068, 0.9999999999948097, 1.0000000000080815, 0.9999999999988493, 0.9999999999982205, 1.0000000000048612], iter = 13, num_evals = 29)"
      ]
     },
     "metadata": {},
     "output_type": "display_data"
    }
   ],
   "source": [
    "x0 = zeros(10)\n",
    "penalty_ret = penalty_method(x0, a, b, r, tol=1e-12, trace=true)"
   ]
  },
  {
   "cell_type": "markdown",
   "metadata": {},
   "source": [
    "We now see that even though we are not at fx = 0 we are extremely close and this algorothm is doing a much better job that only using a large penalty fixed penalty."
   ]
  },
  {
   "cell_type": "markdown",
   "metadata": {},
   "source": [
    "1 b iii"
   ]
  },
  {
   "cell_type": "code",
   "execution_count": 57,
   "metadata": {},
   "outputs": [
    {
     "name": "stderr",
     "output_type": "stream",
     "text": [
      "┌ Info: Trace\n",
      "│   iter = 1\n",
      "│   P = 10\n",
      "│   penalty_violation = -2.5121238422798342e-11\n",
      "└ @ Main c:\\Users\\s2155729\\Downloads\\Attempt problem set 5 (1).ipynb:23\n",
      "┌ Info: Trace\n",
      "│   iter = 2\n",
      "│   P = 100\n",
      "│   penalty_violation = -2.5121238422798342e-11\n",
      "└ @ Main c:\\Users\\s2155729\\Downloads\\Attempt problem set 5 (1).ipynb:23\n",
      "┌ Info: Trace\n",
      "│   iter = 3\n",
      "│   P = 1000\n",
      "│   penalty_violation = -2.5121238422798342e-11\n",
      "└ @ Main c:\\Users\\s2155729\\Downloads\\Attempt problem set 5 (1).ipynb:23\n",
      "┌ Info: Trace\n",
      "│   iter = 4\n",
      "│   P = 10000\n",
      "│   penalty_violation = -2.5121238422798342e-11\n",
      "└ @ Main c:\\Users\\s2155729\\Downloads\\Attempt problem set 5 (1).ipynb:23\n",
      "┌ Info: Trace\n",
      "│   iter = 5\n",
      "│   P = 100000\n",
      "│   penalty_violation = -2.5121238422798342e-11\n",
      "└ @ Main c:\\Users\\s2155729\\Downloads\\Attempt problem set 5 (1).ipynb:23\n",
      "┌ Info: Trace\n",
      "│   iter = 6\n",
      "│   P = 1000000\n",
      "│   penalty_violation = -2.5121238422798342e-11\n",
      "└ @ Main c:\\Users\\s2155729\\Downloads\\Attempt problem set 5 (1).ipynb:23\n",
      "┌ Info: Trace\n",
      "│   iter = 7\n",
      "│   P = 10000000\n",
      "│   penalty_violation = -2.5121238422798342e-11\n",
      "└ @ Main c:\\Users\\s2155729\\Downloads\\Attempt problem set 5 (1).ipynb:23\n",
      "┌ Info: Trace\n",
      "│   iter = 8\n",
      "│   P = 100000000\n",
      "│   penalty_violation = -2.5121238422798342e-11\n",
      "└ @ Main c:\\Users\\s2155729\\Downloads\\Attempt problem set 5 (1).ipynb:23\n",
      "┌ Info: Trace\n",
      "│   iter = 9\n",
      "│   P = 1000000000\n",
      "│   penalty_violation = -2.5121238422798342e-11\n",
      "└ @ Main c:\\Users\\s2155729\\Downloads\\Attempt problem set 5 (1).ipynb:23\n",
      "┌ Info: Trace\n",
      "│   iter = 10\n",
      "│   P = 10000000000\n",
      "│   penalty_violation = -2.5121238422798342e-11\n",
      "└ @ Main c:\\Users\\s2155729\\Downloads\\Attempt problem set 5 (1).ipynb:23\n",
      "┌ Info: Trace\n",
      "│   iter = 11\n",
      "│   P = 100000000000\n",
      "│   penalty_violation = -2.5121238422798342e-11\n",
      "└ @ Main c:\\Users\\s2155729\\Downloads\\Attempt problem set 5 (1).ipynb:23\n",
      "┌ Info: Trace\n",
      "│   iter = 12\n",
      "│   P = 1000000000000\n",
      "│   penalty_violation = -2.5121238422798342e-11\n",
      "└ @ Main c:\\Users\\s2155729\\Downloads\\Attempt problem set 5 (1).ipynb:23\n",
      "┌ Info: Trace\n",
      "│   iter = 13\n",
      "│   P = 10000000000000\n",
      "│   penalty_violation = -2.5121238422798342e-11\n",
      "└ @ Main c:\\Users\\s2155729\\Downloads\\Attempt problem set 5 (1).ipynb:23\n"
     ]
    },
    {
     "data": {
      "text/plain": [
       "(fx = 2.2677849562173716e-21, x = [0.9999999999968074, 0.9999999999979332, 0.99999999999822, 0.9999999999988092, 0.9999999999991825, 0.9999999999989342, 0.9999999999992177, 0.9999999999994769, 0.9999999999994384, 0.9999999999994189], iter = 13, num_evals = 33)"
      ]
     },
     "metadata": {},
     "output_type": "display_data"
    }
   ],
   "source": [
    "# Repeating with b = 1000\n",
    "x0 = zeros(10)\n",
    "b = 1000\n",
    "penalty_ret = penalty_method(x0, a, b, r, tol=1e-12, trace=true)"
   ]
  },
  {
   "cell_type": "markdown",
   "metadata": {},
   "source": [
    "We can see that increasing b makes the final result a bit less accurate but it still does a very good job at getting close to the true minimum."
   ]
  },
  {
   "cell_type": "code",
   "execution_count": 58,
   "metadata": {},
   "outputs": [
    {
     "name": "stderr",
     "output_type": "stream",
     "text": [
      "┌ Info: Trace\n",
      "│   iter = 1\n",
      "│   P = 10\n",
      "│   penalty_violation = 2.795947481551\n",
      "└ @ Main c:\\Users\\s2155729\\Downloads\\Attempt problem set 5 (1).ipynb:23\n",
      "┌ Info: Trace\n",
      "│   iter = 2\n",
      "│   P = 100\n",
      "│   penalty_violation = 0.654633476036222\n",
      "└ @ Main c:\\Users\\s2155729\\Downloads\\Attempt problem set 5 (1).ipynb:23\n",
      "┌ Info: Trace\n",
      "│   iter = 3\n",
      "│   P = 1000\n",
      "│   penalty_violation = 0.09103144601159219\n",
      "└ @ Main c:\\Users\\s2155729\\Downloads\\Attempt problem set 5 (1).ipynb:23\n",
      "┌ Info: Trace\n",
      "│   iter = 4\n",
      "│   P = 10000\n",
      "│   penalty_violation = 0.0096409346232047\n",
      "└ @ Main c:\\Users\\s2155729\\Downloads\\Attempt problem set 5 (1).ipynb:23\n",
      "┌ Info: Trace\n",
      "│   iter = 5\n",
      "│   P = 100000\n",
      "│   penalty_violation = 0.0009702065862569054\n",
      "└ @ Main c:\\Users\\s2155729\\Downloads\\Attempt problem set 5 (1).ipynb:23\n",
      "┌ Info: Trace\n",
      "│   iter = 6\n",
      "│   P = 1000000\n",
      "│   penalty_violation = 9.7082624478384e-5\n",
      "└ @ Main c:\\Users\\s2155729\\Downloads\\Attempt problem set 5 (1).ipynb:23\n",
      "┌ Info: Trace\n",
      "│   iter = 7\n",
      "│   P = 10000000\n",
      "│   penalty_violation = 9.708850315481854e-6\n",
      "└ @ Main c:\\Users\\s2155729\\Downloads\\Attempt problem set 5 (1).ipynb:23\n",
      "┌ Info: Trace\n",
      "│   iter = 8\n",
      "│   P = 100000000\n",
      "│   penalty_violation = 9.708582395795418e-7\n",
      "└ @ Main c:\\Users\\s2155729\\Downloads\\Attempt problem set 5 (1).ipynb:23\n",
      "┌ Info: Trace\n",
      "│   iter = 9\n",
      "│   P = 1000000000\n",
      "│   penalty_violation = 9.705288794847888e-8\n",
      "└ @ Main c:\\Users\\s2155729\\Downloads\\Attempt problem set 5 (1).ipynb:23\n",
      "┌ Info: Trace\n",
      "│   iter = 10\n",
      "│   P = 10000000000\n",
      "│   penalty_violation = 9.672278533656709e-9\n",
      "└ @ Main c:\\Users\\s2155729\\Downloads\\Attempt problem set 5 (1).ipynb:23\n",
      "┌ Info: Trace\n",
      "│   iter = 11\n",
      "│   P = 100000000000\n",
      "│   penalty_violation = 9.342271400925029e-10\n",
      "└ @ Main c:\\Users\\s2155729\\Downloads\\Attempt problem set 5 (1).ipynb:23\n",
      "┌ Info: Trace\n",
      "│   iter = 12\n",
      "│   P = 1000000000000\n",
      "│   penalty_violation = 6.042100153536012e-11\n",
      "└ @ Main c:\\Users\\s2155729\\Downloads\\Attempt problem set 5 (1).ipynb:23\n",
      "┌ Info: Trace\n",
      "│   iter = 13\n",
      "│   P = 10000000000000\n",
      "│   penalty_violation = -2.6959545706972676e-11\n",
      "└ @ Main c:\\Users\\s2155729\\Downloads\\Attempt problem set 5 (1).ipynb:23\n"
     ]
    },
    {
     "data": {
      "text/plain": [
       "(fx = 41.96669048097459, x = [0.32465401158929336, 0.32420465515640057, 0.3232927224359817, 0.3218913865122807, 0.31995942325991716, 0.31743999839743675, 0.31425899536007673, 0.3103228359474531, 0.3055157258802307, 0.2996962506695224], iter = 13, num_evals = 203)"
      ]
     },
     "metadata": {},
     "output_type": "display_data"
    }
   ],
   "source": [
    "# Repeating with r = 1\n",
    "x0 = zeros(10)\n",
    "r = 1\n",
    "penalty_ret = penalty_method(x0, a, b, r, tol=1e-12, trace=true)"
   ]
  },
  {
   "cell_type": "markdown",
   "metadata": {},
   "source": [
    "Here it is impossible to converge to all x's being 1 as this is outside the feasible set, so we can assume because of how well the algorithm has previously been working that it has converged to the minimum in the feasible set. So even though fx is large our algorithm may still be doing well."
   ]
  },
  {
   "cell_type": "markdown",
   "metadata": {},
   "source": [
    "## Augmented Lagrangian\n",
    "1 c i"
   ]
  },
  {
   "cell_type": "code",
   "execution_count": 59,
   "metadata": {},
   "outputs": [
    {
     "data": {
      "text/plain": [
       "augmented_lagrangian (generic function with 1 method)"
      ]
     },
     "metadata": {},
     "output_type": "display_data"
    }
   ],
   "source": [
    "\n",
    "function augmented_lagrangian_inner(f, g, P, a, b, r, λ, x0)\n",
    "    function objective(x, a, b, r, λ)\n",
    "        gx = g(x, r)\n",
    "        f(x, a, b) + 0.5 * P * norm(gx)^2 + dot(λ, gx)\n",
    "    end\n",
    "\n",
    "    # Solve the augmented problem\n",
    "    ret = optimize(x -> objective(x, a, b, r, λ), x0, LBFGS())\n",
    "    return ret.minimizer\n",
    "end\n",
    "\n",
    "function augmented_lagrangian(f, g, a, b, r, x0; tol = 1e-8, γ = 10, trace=false)\n",
    "    gx = g(x0, r)\n",
    "    λ = ones(size(gx))  # Initialize λ as ones\n",
    "    P = 1.0\n",
    "    x = copy(x0)\n",
    "    num_evals = 0\n",
    "    iter = 0\n",
    "\n",
    "    while true \n",
    "        # Solve the inner problem \n",
    "        x′ = augmented_lagrangian_inner(f, g, P, a, b, r, λ, x)\n",
    "        num_evals += 1\n",
    "        iter += 1\n",
    "        \n",
    "        # Update λ\n",
    "        gx = g(x′, r)\n",
    "        λ′ = λ .+ gx .* P\n",
    "\n",
    "        # Check if we're violating the constraints\n",
    "        err = norm(λ′ .- λ)^2\n",
    "        if err < tol\n",
    "            break\n",
    "        else # otherwise keep going\n",
    "            P *= γ\n",
    "            x .= x′\n",
    "            λ .= λ′\n",
    "            trace && @info \"Trace\" iter P err penalty_violation = gx\n",
    "        end\n",
    "    end\n",
    "\n",
    "    return (fx = f(x, a, b), x, λ, num_evals, iter)\n",
    "end\n"
   ]
  },
  {
   "cell_type": "code",
   "execution_count": 60,
   "metadata": {},
   "outputs": [
    {
     "name": "stdout",
     "output_type": "stream",
     "text": [
      "(fx = 1.3812280171802472e-9, x = [0.9999988408065805, 0.9999986148304835, 0.9999985164715609, 0.9999984473890575, 0.999998338498396, 0.9999980809090433, 0.9999974170315276, 0.9999956829888581, 0.999991144734583, 0.9999792640706099], λ = fill(3.0251543204684594e-5), num_evals = 4, iter = 4)\n"
     ]
    },
    {
     "name": "stderr",
     "output_type": "stream",
     "text": [
      "┌ Info: Trace\n",
      "│   iter = 1\n",
      "│   P = 10.0\n",
      "│   err = 0.5130453261856635\n",
      "│   penalty_violation = -0.7162718242299242\n",
      "└ @ Main c:\\Users\\s2155729\\Downloads\\Attempt problem set 5 (1).ipynb:39\n",
      "┌ Info: Trace\n",
      "│   iter = 2\n",
      "│   P = 100.0\n",
      "│   err = 0.0753873258773773\n",
      "│   penalty_violation = -0.027456752516890504\n",
      "└ @ Main c:\\Users\\s2155729\\Downloads\\Attempt problem set 5 (1).ipynb:39\n",
      "┌ Info: Trace\n",
      "│   iter = 3\n",
      "│   P = 1000.0\n",
      "│   err = 8.336418695770802e-5\n",
      "│   penalty_violation = -9.130399057966088e-5\n",
      "└ @ Main c:\\Users\\s2155729\\Downloads\\Attempt problem set 5 (1).ipynb:39\n"
     ]
    }
   ],
   "source": [
    "a=10\n",
    "b=10\n",
    "r=10\n",
    "println(augmented_lagrangian(Rosenbrock, constraint, a, b, r, zeros(10), trace=true))"
   ]
  },
  {
   "cell_type": "markdown",
   "metadata": {},
   "source": [
    "We eventually find the true minimum on the third iteration, where P=1000."
   ]
  },
  {
   "cell_type": "markdown",
   "metadata": {},
   "source": [
    "1 c ii"
   ]
  },
  {
   "cell_type": "code",
   "execution_count": 61,
   "metadata": {},
   "outputs": [
    {
     "data": {
      "text/plain": [
       "compare_methods (generic function with 1 method)"
      ]
     },
     "metadata": {},
     "output_type": "display_data"
    }
   ],
   "source": [
    "using DataFrames\n",
    "using PrettyTables\n",
    "\n",
    "function compare_methods(a, b, r, x0; penalty_parameters=[1.0, 10.0, 100.0], augmented_parameters=[(tol=1e-8, γ=10), (tol=1e-6, γ=5)], verbose=false)\n",
    "    results = DataFrame(Method = String[], Penalty_Parameter = Float64[], Penalty_Iter = Int64[], Augmented_Iter = Int64[], Penalty_Obj = Float64[], Augmented_Obj = Float64[])\n",
    "    \n",
    "    for P in penalty_parameters\n",
    "        for params in augmented_parameters\n",
    "            penalty_result = penalty_method(x0, a, b, r)\n",
    "            result_augmented = augmented_lagrangian(Rosenbrock, constraint, a, b, r, x0; tol=params.tol, γ=params.γ)\n",
    "            \n",
    "            push!(results, (\"Penalty\", P, penalty_result[3], result_augmented[5], penalty_result.fx, result_augmented.fx))\n",
    "            push!(results, (\"Augmented Lagrangian\", P, penalty_result[3], result_augmented[5], penalty_result.fx, result_augmented.fx))\n",
    "        end\n",
    "    end\n",
    "    \n",
    "    pretty_table(results)\n",
    "end\n"
   ]
  },
  {
   "cell_type": "code",
   "execution_count": 62,
   "metadata": {},
   "outputs": [
    {
     "name": "stdout",
     "output_type": "stream",
     "text": [
      "┌──────────────────────┬───────────────────┬──────────────┬────────────────┬─────────────┬───────────────┐\n",
      "│\u001b[1m               Method \u001b[0m│\u001b[1m Penalty_Parameter \u001b[0m│\u001b[1m Penalty_Iter \u001b[0m│\u001b[1m Augmented_Iter \u001b[0m│\u001b[1m Penalty_Obj \u001b[0m│\u001b[1m Augmented_Obj \u001b[0m│\n",
      "│\u001b[90m               String \u001b[0m│\u001b[90m           Float64 \u001b[0m│\u001b[90m        Int64 \u001b[0m│\u001b[90m          Int64 \u001b[0m│\u001b[90m     Float64 \u001b[0m│\u001b[90m       Float64 \u001b[0m│\n",
      "├──────────────────────┼───────────────────┼──────────────┼────────────────┼─────────────┼───────────────┤\n",
      "│              Penalty │               1.0 │           13 │              3 │     1.52537 │      0.414004 │\n",
      "│ Augmented Lagrangian │               1.0 │           13 │              3 │     1.52537 │      0.414004 │\n",
      "│              Penalty │               1.0 │           13 │              2 │     1.52537 │      0.349046 │\n",
      "│ Augmented Lagrangian │               1.0 │           13 │              2 │     1.52537 │      0.349046 │\n",
      "│              Penalty │              10.0 │           13 │              3 │     1.52537 │      0.414004 │\n",
      "│ Augmented Lagrangian │              10.0 │           13 │              3 │     1.52537 │      0.414004 │\n",
      "│              Penalty │              10.0 │           13 │              2 │     1.52537 │      0.349046 │\n",
      "│ Augmented Lagrangian │              10.0 │           13 │              2 │     1.52537 │      0.349046 │\n",
      "│              Penalty │             100.0 │           13 │              3 │     1.52537 │      0.414004 │\n",
      "│ Augmented Lagrangian │             100.0 │           13 │              3 │     1.52537 │      0.414004 │\n",
      "│              Penalty │             100.0 │           13 │              2 │     1.52537 │      0.349046 │\n",
      "│ Augmented Lagrangian │             100.0 │           13 │              2 │     1.52537 │      0.349046 │\n",
      "└──────────────────────┴───────────────────┴──────────────┴────────────────┴─────────────┴───────────────┘\n"
     ]
    }
   ],
   "source": [
    "a = 1.0\n",
    "b = 100.0\n",
    "r = 10.0\n",
    "x0 = [0.0, 0.0]\n",
    "\n",
    "compare_methods(a, b, r, x0)\n"
   ]
  },
  {
   "cell_type": "markdown",
   "metadata": {},
   "source": [
    "In the provided optimisation problem, both the penalty method and the augmented Lagrangian method are converging to similar solutions regardless of variations in their respective parameters. This suggests that the problem may have characteristics that cause the optimisation algorithms to converge to a particular solution irrespective of the specific techniques used or the parameters chosen. The rapid increase in the penalty parameter in the penalty method may lead to the domination of the penalty term over the original objective function, resulting in a similar solution to that obtained by the augmented Lagrangian method.\n",
    "\n"
   ]
  },
  {
   "cell_type": "markdown",
   "metadata": {},
   "source": [
    "## Parameter Transformation\n",
    "1 d i"
   ]
  },
  {
   "cell_type": "code",
   "execution_count": 63,
   "metadata": {},
   "outputs": [
    {
     "data": {
      "text/plain": [
       " * Status: success\n",
       "\n",
       " * Candidate solution\n",
       "    Final objective value:     7.039971e-18\n",
       "\n",
       " * Found with\n",
       "    Algorithm:     L-BFGS\n",
       "\n",
       " * Convergence measures\n",
       "    |x - x'|               = 1.48e-03 ≰ 0.0e+00\n",
       "    |x - x'|/|x'|          = 4.42e+05 ≰ 0.0e+00\n",
       "    |f(x) - f(x')|         = 1.37e-06 ≰ 0.0e+00\n",
       "    |f(x) - f(x')|/|f(x')| = 1.95e+11 ≰ 0.0e+00\n",
       "    |g(x)|                 = 4.19e-09 ≤ 1.0e-08\n",
       "\n",
       " * Work counters\n",
       "    Seconds run:   0  (vs limit Inf)\n",
       "    Iterations:    4\n",
       "    f(x) calls:    14\n",
       "    ∇f(x) calls:   14\n"
      ]
     },
     "metadata": {},
     "output_type": "display_data"
    }
   ],
   "source": [
    "function h(Z, r)\n",
    "    n = length(Z) + 1\n",
    "    X = zeros(n)\n",
    "\n",
    "    exp_Z = exp.(Z)\n",
    "\n",
    "    exp_sum = sum(exp_Z)\n",
    "\n",
    "    for i in 1:n-1\n",
    "        X[i] = (exp(Z[i]) / (1 + exp_sum))^(1/2)\n",
    "    end\n",
    "    X[n] = (1 / (1 + exp_sum))^(1/2)\n",
    "    return sqrt(r) * X\n",
    "end\n",
    "\n",
    "function h_inv(X)\n",
    "    n = length(X)\n",
    "    Z = zeros(n-1)\n",
    "    for i in 1:n-1\n",
    "        Z[i] = 2 * log(X[i]/X[n])\n",
    "    end\n",
    "    return Z\n",
    "end\n",
    "\n",
    "function Rosenbrock(X, a, b)\n",
    "    sum = 0\n",
    "    for i in 1:length(X)-1\n",
    "        sum += (a*(1-X[i])^2 + b*(X[i+1]-X[i]^2)^2)\n",
    "    end\n",
    "    return sum\n",
    "end\n",
    "\n",
    "function constraint(X, r)\n",
    "    sum = 0\n",
    "    for i in 1:length(X)\n",
    "        sum += X[i]^2\n",
    "    end\n",
    "    return sum - r\n",
    "end\n",
    "\n",
    "function Rosenbrock_unconstrained(Z, a, b, r)\n",
    "    X = h(Z, r)\n",
    "    return Rosenbrock(X, a, b)\n",
    "end\n",
    "\n",
    "using Optim\n",
    "a = 1\n",
    "b = 1\n",
    "r = 2\n",
    "z0 = [5.0]\n",
    "\n",
    "# Define the objective function to pass to Optim\n",
    "objective_function(Z) = Rosenbrock_unconstrained(Z, a, b, r)\n",
    "\n",
    "# Call the optimization routine\n",
    "result = optimize(objective_function, z0, LBFGS())"
   ]
  },
  {
   "cell_type": "markdown",
   "metadata": {},
   "source": [
    "Whenever possible re-parameterisation is the quickest method and requires fewest iterations especially when r is large or the constraint is more challenging. We take away from this whenever possible first look to re-parameterise this is likely due to we are optimising with respect to one less variable and we are optimising on a convex function which should always be something we are looking to opimise on."
   ]
  }
 ],
 "metadata": {
  "kernelspec": {
   "display_name": "Julia 1.10.2",
   "language": "julia",
   "name": "julia-1.10"
  },
  "language_info": {
   "file_extension": ".jl",
   "mimetype": "application/julia",
   "name": "julia",
   "version": "1.10.2"
  }
 },
 "nbformat": 4,
 "nbformat_minor": 2
}
