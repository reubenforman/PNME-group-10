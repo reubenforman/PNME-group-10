{
 "cells": [
  {
   "cell_type": "code",
   "execution_count": 1,
   "metadata": {},
   "outputs": [
    {
     "name": "stdout",
     "output_type": "stream",
     "text": [
      "14762\n"
     ]
    }
   ],
   "source": [
    "function Rosenbrock(x)\n",
    "    sum = 0\n",
    "    a = 1\n",
    "    b = 1\n",
    "    for i in range(1, length(x)-1)\n",
    "        calc = a*(1-x[i])^2 + b*((x[i+1]-x[i])^2)^2\n",
    "        sum += calc\n",
    "    end\n",
    "    return sum\n",
    "end\n",
    "x = (12, 1, 1, 1, 1)\n",
    "println(Rosenbrock(x))"
   ]
  },
  {
   "cell_type": "code",
   "execution_count": null,
   "metadata": {},
   "outputs": [],
   "source": []
  }
 ],
 "metadata": {
  "kernelspec": {
   "display_name": "Julia 1.10.1",
   "language": "julia",
   "name": "julia-1.10"
  },
  "language_info": {
   "file_extension": ".jl",
   "mimetype": "application/julia",
   "name": "julia",
   "version": "1.10.1"
  }
 },
 "nbformat": 4,
 "nbformat_minor": 2
}
